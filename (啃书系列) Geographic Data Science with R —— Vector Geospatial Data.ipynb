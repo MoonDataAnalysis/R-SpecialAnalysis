{
 "cells": [
  {
   "cell_type": "markdown",
   "id": "d17cf5c5",
   "metadata": {},
   "source": [
    "### 目录\n",
    "#### 输入和处理矢量数据\n",
    "\n",
    "（1）什么是 sf 数据\n",
    "\n",
    "（2）什么是 sp 数据\n",
    "\n",
    "（3）生成简单的地图，基本可视化\n",
    "\n",
    "（4）矢量数据拼接和整理\n",
    "\n",
    "（5）矢量数据的写出\n",
    "\n",
    "##### 地区分布图——等值图\n",
    "\n",
    "（1）基本可视化\n",
    "\n",
    "（2）调色板\n",
    "\n",
    "（3）图的写出\n"
   ]
  },
  {
   "cell_type": "code",
   "execution_count": 1,
   "id": "f090cff6",
   "metadata": {},
   "outputs": [
    {
     "name": "stderr",
     "output_type": "stream",
     "text": [
      "Warning message:\n",
      "\"程辑包'sf'是用R版本4.2.3 来建造的\"\n",
      "Linking to GEOS 3.9.3, GDAL 3.5.2, PROJ 8.2.1; sf_use_s2() is TRUE\n",
      "\n",
      "Warning message:\n",
      "\"程辑包'ggplot2'是用R版本4.2.3 来建造的\"\n",
      "Warning message:\n",
      "\"程辑包'dplyr'是用R版本4.2.3 来建造的\"\n",
      "\n",
      "载入程辑包：'dplyr'\n",
      "\n",
      "\n",
      "The following objects are masked from 'package:stats':\n",
      "\n",
      "    filter, lag\n",
      "\n",
      "\n",
      "The following objects are masked from 'package:base':\n",
      "\n",
      "    intersect, setdiff, setequal, union\n",
      "\n",
      "\n",
      "Warning message:\n",
      "\"程辑包'tidyr'是用R版本4.2.3 来建造的\"\n"
     ]
    }
   ],
   "source": [
    "library(sf)    # sf 专门用来读取、处理矢量数据       \n",
    "library(ggplot2)  # 可视化    \n",
    "library(dplyr)  # 用来整理数据      \n",
    "library(tidyr)  # dplyr 和 tidyr 非常相似            \n",
    "library(RColorBrewer) # 调色板\n",
    "library(cowplot) # 拼接组图"
   ]
  },
  {
   "attachments": {
    "image-2.png": {
     "image/png": "[encoded data removed]"
    }
   },
   "cell_type": "markdown",
   "id": "21c5f22e",
   "metadata": {},
   "source": [
    "## 输入地理信息数据\n",
    "\n",
    "数据广义 Oklahoma 州 龙卷风的分布历史记录，以 shapefile 的形式存储\n",
    "\n",
    "shapefile 是最广为使用的地理数据格式，\n",
    "\n",
    "![image-2.png](attachment:image-2.png)\n",
    "\n",
    "ok_counties.shp 包含 Oklahoma 的边界数据\n",
    "\n",
    "ok_tornado_point.shp 和 ok_tornado_path.shp 包含 Oklahoma 历史上的龙卷风情况\n",
    "\n",
    "#####  sf 中包含一列  “geometry” 专门存放地理信息"
   ]
  },
  {
   "cell_type": "code",
   "execution_count": 3,
   "id": "106516cf",
   "metadata": {},
   "outputs": [
    {
     "data": {
      "application/geo+json": {
       "features": [
        {
         "geometry": {
          "coordinates": [
           [
            [
             -95.5077,
             35.0292
            ],
            [
             -95.3494,
             35.0293
            ],
            [
             -95.3492,
             35.0585
            ],
            [
             -94.9279,
             35.0583
            ],
            [
             -94.9277,
             34.9422
            ],
            [
             -94.9981,
             34.9422
            ],
            [
             -94.9978,
             34.8551
            ],
            [
             -95.0595,
             34.855
            ],
            [
             -95.0596,
             34.6807
            ],
            [
             -95.5145,
             34.6811
            ],
            [
             -95.5077,
             35.0292
            ]
           ]
          ],
          "type": "Polygon"
         },
         "properties": {
          "AFFGEOID": "0500000US40077",
          "COUNTYFP": "077",
          "COUNTYNS": "01101826",
          "GEOID": "40077",
          "LSAD": "06",
          "NAME": "Latimer",
          "STATEFP": "40"
         },
         "type": "Feature"
        },
        {
         "geometry": {
          "coordinates": [
           [
            [
             -103.0025,
             36.6752
            ],
            [
             -103.002,
             36.9096
            ],
            [
             -103.0022,
             37.0001
            ],
            [
             -102.842,
             36.9996
            ],
            [
             -102.6981,
             36.9951
            ],
            [
             -102.3553,
             36.9945
            ],
            [
             -102.0422,
             36.9931
            ],
            [
             -102.0282,
             36.9931
            ],
            [
             -102.0323,
             36.5001
            ],
            [
             -102.1625,
             36.5003
            ],
            [
             -103.0024,
             36.5004
            ],
            [
             -103.0022,
             36.6027
            ],
            [
             -103.0025,
             36.6752
            ]
           ]
          ],
          "type": "Polygon"
         },
         "properties": {
          "AFFGEOID": "0500000US40025",
          "COUNTYFP": "025",
          "COUNTYNS": "01101800",
          "GEOID": "40025",
          "LSAD": "06",
          "NAME": "Cimarron",
          "STATEFP": "40"
         },
         "type": "Feature"
        },
        {
         "geometry": {
          "coordinates": [
           [
            [
             -98.6369,
             36.1649
            ],
            [
             -98.2105,
             36.1649
            ],
            [
             -98.2071,
             35.7251
            ],
            [
             -98.3134,
             35.7252
            ],
            [
             -98.3133,
             35.5515
            ],
            [
             -98.6231,
             35.5516
            ],
            [
             -98.6322,
             35.566
            ],
            [
             -98.632,
             35.8124
            ],
            [
             -98.6369,
             36.1649
            ]
           ]
          ],
          "type": "Polygon"
         },
         "properties": {
          "AFFGEOID": "0500000US40011",
          "COUNTYFP": "011",
          "COUNTYNS": "01101793",
          "GEOID": "40011",
          "LSAD": "06",
          "NAME": "Blaine",
          "STATEFP": "40"
         },
         "type": "Feature"
        },
        {
         "geometry": {
          "coordinates": [
           [
            [
             -96.6249,
             35.4627
            ],
            [
             -96.6206,
             35.639
            ],
            [
             -96.1926,
             35.6391
            ],
            [
             -96.1928,
             35.5519
            ],
            [
             -96.0878,
             35.5521
            ],
            [
             -96.0875,
             35.3769
            ],
            [
             -95.9813,
             35.3768
            ],
            [
             -95.9814,
             35.2899
            ],
            [
             -96.4414,
             35.2901
            ],
            [
             -96.4413,
             35.4677
            ],
            [
             -96.5367,
             35.3908
            ],
            [
             -96.6237,
             35.4007
            ],
            [
             -96.6249,
             35.4627
            ]
           ]
          ],
          "type": "Polygon"
         },
         "properties": {
          "AFFGEOID": "0500000US40107",
          "COUNTYFP": "107",
          "COUNTYNS": "01101841",
          "GEOID": "40107",
          "LSAD": "06",
          "NAME": "Okfuskee",
          "STATEFP": "40"
         },
         "type": "Feature"
        },
        {
         "geometry": {
          "coordinates": [
           [
            [
             -95.8098,
             36.9419
            ],
            [
             -95.7868,
             36.9993
            ],
            [
             -95.5736,
             36.9993
            ],
            [
             -95.5224,
             36.9993
            ],
            [
             -95.4076,
             36.9993
            ],
            [
             -95.4317,
             36.9428
            ],
            [
             -95.4316,
             36.5975
            ],
            [
             -95.8096,
             36.5975
            ],
            [
             -95.8098,
             36.9419
            ]
           ]
          ],
          "type": "Polygon"
         },
         "properties": {
          "AFFGEOID": "0500000US40105",
          "COUNTYFP": "105",
          "COUNTYNS": "01101840",
          "GEOID": "40105",
          "LSAD": "06",
          "NAME": "Nowata",
          "STATEFP": "40"
         },
         "type": "Feature"
        },
        {
         "geometry": {
          "coordinates": [
           [
            [
             -99.6056,
             36.5928
            ],
            [
             -99.2953,
             36.5951
            ],
            [
             -99.2952,
             36.8196
            ],
            [
             -99.2504,
             36.785
            ],
            [
             -99.1399,
             36.783
            ],
            [
             -98.96,
             36.599
            ],
            [
             -98.9603,
             36.5069
            ],
            [
             -98.9558,
             36.1616
            ],
            [
             -99.3821,
             36.1643
            ],
            [
             -99.5961,
             36.1641
            ],
            [
             -99.6056,
             36.5928
            ]
           ]
          ],
          "type": "Polygon"
         },
         "properties": {
          "AFFGEOID": "0500000US40153",
          "COUNTYFP": "153",
          "COUNTYNS": "01101864",
          "GEOID": "40153",
          "LSAD": "06",
          "NAME": "Woodward",
          "STATEFP": "40"
         },
         "type": "Feature"
        },
        {
         "geometry": {
          "coordinates": [
           [
            [
             -94.7973,
             36.1614
            ],
            [
             -94.5623,
             36.162
            ],
            [
             -94.5519,
             36.1022
            ],
            [
             -94.5321,
             35.9879
            ],
            [
             -94.4945,
             35.7683
            ],
            [
             -94.493,
             35.7592
            ],
            [
             -94.4731,
             35.6385
            ],
            [
             -94.8073,
             35.6386
            ],
            [
             -94.7973,
             36.1614
            ]
           ]
          ],
          "type": "Polygon"
         },
         "properties": {
          "AFFGEOID": "0500000US40001",
          "COUNTYFP": "001",
          "COUNTYNS": "01101788",
          "GEOID": "40001",
          "LSAD": "06",
          "NAME": "Adair",
          "STATEFP": "40"
         },
         "type": "Feature"
        },
        {
         "geometry": {
          "coordinates": [
           [
            [
             -98.112,
             36.9982
            ],
            [
             -98.0453,
             36.9983
            ],
            [
             -97.8023,
             36.9987
            ],
            [
             -97.7687,
             36.9988
            ],
            [
             -97.4623,
             36.9988
            ],
            [
             -97.4625,
             36.5936
            ],
            [
             -98.1043,
             36.5936
            ],
            [
             -98.1094,
             36.6106
            ],
            [
             -98.112,
             36.9982
            ]
           ]
          ],
          "type": "Polygon"
         },
         "properties": {
          "AFFGEOID": "0500000US40053",
          "COUNTYFP": "053",
          "COUNTYNS": "01101814",
          "GEOID": "40053",
          "LSAD": "06",
          "NAME": "Grant",
          "STATEFP": "40"
         },
         "type": "Feature"
        },
        {
         "geometry": {
          "coordinates": [
           [
            [
             -100.0026,
             37.0016
            ],
            [
             -99.9952,
             37.0016
            ],
            [
             -99.6577,
             37.0002
            ],
            [
             -99.5411,
             36.9999
            ],
            [
             -99.4562,
             36.9997
            ],
            [
             -99.3742,
             36.8796
            ],
            [
             -99.2952,
             36.8196
            ],
            [
             -99.2953,
             36.5951
            ],
            [
             -99.6056,
             36.5928
            ],
            [
             -100.0032,
             36.5932
            ],
            [
             -100.0026,
             37.0016
            ]
           ]
          ],
          "type": "Polygon"
         },
         "properties": {
          "AFFGEOID": "0500000US40059",
          "COUNTYFP": "059",
          "COUNTYNS": "01101817",
          "GEOID": "40059",
          "LSAD": "06",
          "NAME": "Harper",
          "STATEFP": "40"
         },
         "type": "Feature"
        },
        {
         "geometry": {
          "coordinates": [
           [
            [
             -98.2105,
             36.1649
            ],
            [
             -98.1039,
             36.1649
            ],
            [
             -97.6756,
             36.1647
            ],
            [
             -97.674,
             35.726
            ],
            [
             -98.2071,
             35.7251
            ],
            [
             -98.2105,
             36.1649
            ]
           ]
          ],
          "type": "Polygon"
         },
         "properties": {
          "AFFGEOID": "0500000US40073",
          "COUNTYFP": "073",
          "COUNTYNS": "01101824",
          "GEOID": "40073",
          "LSAD": "06",
          "NAME": "Kingfisher",
          "STATEFP": "40"
         },
         "type": "Feature"
        },
        {
         "geometry": {
          "coordinates": [
           [
            [
             -100.0004,
             35.8809
            ],
            [
             -99.9251,
             35.9137
            ],
            [
             -99.8883,
             35.9878
            ],
            [
             -99.8094,
             36
            ],
            [
             -99.8014,
             35.9106
            ],
            [
             -99.7171,
             35.8598
            ],
            [
             -99.6198,
             35.8421
            ],
            [
             -99.5585,
             35.866
            ],
            [
             -99.4958,
             35.9787
            ],
            [
             -99.381,
             36.0129
            ],
            [
             -99.3811,
             35.8988
            ],
            [
             -99.3759,
             35.875
            ],
            [
             -99.3758,
             35.8122
            ],
            [
             -99.3771,
             35.5517
            ],
            [
             -99.3641,
             35.5088
            ],
            [
             -99.5756,
             35.5089
            ],
            [
             -99.5758,
             35.4217
            ],
            [
             -100.0004,
             35.4224
            ],
            [
             -100.0004,
             35.6191
            ],
            [
             -100.0004,
             35.8809
            ]
           ]
          ],
          "type": "Polygon"
         },
         "properties": {
          "AFFGEOID": "0500000US40129",
          "COUNTYFP": "129",
          "COUNTYNS": "01101852",
          "GEOID": "40129",
          "LSAD": "06",
          "NAME": "Roger Mills",
          "STATEFP": "40"
         },
         "type": "Feature"
        },
        {
         "geometry": {
          "coordinates": [
           [
            [
             -98.6231,
             35.5516
            ],
            [
             -98.3133,
             35.5515
            ],
            [
             -98.3063,
             35.3772
            ],
            [
             -98.096,
             35.3778
            ],
            [
             -98.0926,
             34.8549
            ],
            [
             -98.6198,
             34.855
            ],
            [
             -98.6211,
             35.0974
            ],
            [
             -98.6182,
             35.1172
            ],
            [
             -98.6233,
             35.4642
            ],
            [
             -98.6231,
             35.5516
            ]
           ]
          ],
          "type": "Polygon"
         },
         "properties": {
          "AFFGEOID": "0500000US40015",
          "COUNTYFP": "015",
          "COUNTYNS": "01101795",
          "GEOID": "40015",
          "LSAD": "06",
          "NAME": "Caddo",
          "STATEFP": "40"
         },
         "type": "Feature"
        },
        {
         "geometry": {
          "coordinates": [
           [
            [
             -95.4356,
             36.5102
            ],
            [
             -95.3282,
             36.5102
            ],
            [
             -95.0057,
             36.5099
            ],
            [
             -95.0113,
             36.1618
            ],
            [
             -95.1185,
             36.1616
            ],
            [
             -95.1184,
             36.0745
            ],
            [
             -95.2079,
             36.0747
            ],
            [
             -95.44,
             36.0752
            ],
            [
             -95.4356,
             36.5102
            ]
           ]
          ],
          "type": "Polygon"
         },
         "properties": {
          "AFFGEOID": "0500000US40097",
          "COUNTYFP": "097",
          "COUNTYNS": "01101833",
          "GEOID": "40097",
          "LSAD": "06",
          "NAME": "Mayes",
          "STATEFP": "40"
         },
         "type": "Feature"
        },
        {
         "geometry": {
          "coordinates": [
           [
            [
             -98.662,
             34.4059
            ],
            [
             -98.505,
             34.4205
            ],
            [
             -98.2959,
             34.449
            ],
            [
             -98.2441,
             34.5071
            ],
            [
             -98.1421,
             34.507
            ],
            [
             -98.1393,
             34.4893
            ],
            [
             -98.1392,
             34.2898
            ],
            [
             -98.1385,
             34.1412
            ],
            [
             -98.1691,
             34.1142
            ],
            [
             -98.2253,
             34.1272
            ],
            [
             -98.3187,
             34.1464
            ],
            [
             -98.364,
             34.1571
            ],
            [
             -98.3984,
             34.1285
            ],
            [
             -98.4144,
             34.0851
            ],
            [
             -98.4235,
             34.0819
            ],
            [
             -98.4751,
             34.0643
            ],
            [
             -98.5282,
             34.095
            ],
            [
             -98.5771,
             34.149
            ],
            [
             -98.6104,
             34.1562
            ],
            [
             -98.6097,
             34.3337
            ],
            [
             -98.662,
             34.3334
            ],
            [
             -98.662,
             34.4059
            ]
           ]
          ],
          "type": "Polygon"
         },
         "properties": {
          "AFFGEOID": "0500000US40033",
          "COUNTYFP": "033",
          "COUNTYNS": "01101804",
          "GEOID": "40033",
          "LSAD": "06",
          "NAME": "Cotton",
          "STATEFP": "40"
         },
         "type": "Feature"
        },
        {
         "geometry": {
          "coordinates": [
           [
            [
             -96.0008,
             36.9992
            ],
            [
             -95.9643,
             36.9992
            ],
            [
             -95.9281,
             36.9992
            ],
            [
             -95.7868,
             36.9993
            ],
            [
             -95.8098,
             36.9419
            ],
            [
             -95.8096,
             36.5975
            ],
            [
             -95.8125,
             36.5805
            ],
            [
             -95.8127,
             36.4236
            ],
            [
             -96.0012,
             36.4237
            ],
            [
             -96.0008,
             36.9992
            ]
           ]
          ],
          "type": "Polygon"
         },
         "properties": {
          "AFFGEOID": "0500000US40147",
          "COUNTYFP": "147",
          "COUNTYNS": "01101861",
          "GEOID": "40147",
          "LSAD": "06",
          "NAME": "Washington",
          "STATEFP": "40"
         },
         "type": "Feature"
        },
        {
         "geometry": {
          "coordinates": [
           [
            [
             -95.0057,
             36.5099
            ],
            [
             -95.0057,
             36.5977
            ],
            [
             -94.9994,
             36.6706
            ],
            [
             -94.618,
             36.6679
            ],
            [
             -94.6178,
             36.6126
            ],
            [
             -94.6179,
             36.4994
            ],
            [
             -94.5862,
             36.3
            ],
            [
             -94.5623,
             36.162
            ],
            [
             -94.7973,
             36.1614
            ],
            [
             -95.0113,
             36.1618
            ],
            [
             -95.0057,
             36.5099
            ]
           ]
          ],
          "type": "Polygon"
         },
         "properties": {
          "AFFGEOID": "0500000US40041",
          "COUNTYFP": "041",
          "COUNTYNS": "01101808",
          "GEOID": "40041",
          "LSAD": "06",
          "NAME": "Delaware",
          "STATEFP": "40"
         },
         "type": "Feature"
        },
        {
         "geometry": {
          "coordinates": [
           [
            [
             -97.674,
             35.726
            ],
            [
             -97.1411,
             35.7244
            ],
            [
             -97.1415,
             35.464
            ],
            [
             -97.1421,
             35.3769
            ],
            [
             -97.3178,
             35.3773
            ],
            [
             -97.4236,
             35.3773
            ],
            [
             -97.6714,
             35.3772
            ],
            [
             -97.6714,
             35.4063
            ],
            [
             -97.674,
             35.726
            ]
           ]
          ],
          "type": "Polygon"
         },
         "properties": {
          "AFFGEOID": "0500000US40109",
          "COUNTYFP": "109",
          "COUNTYNS": "01101842",
          "GEOID": "40109",
          "LSAD": "06",
          "NAME": "Oklahoma",
          "STATEFP": "40"
         },
         "type": "Feature"
        },
        {
         "geometry": {
          "coordinates": [
           [
            [
             -100.0004,
             35.0304
            ],
            [
             -99.8886,
             35.0303
            ],
            [
             -99.8884,
             34.9439
            ],
            [
             -99.7311,
             34.9441
            ],
            [
             -99.7201,
             34.7685
            ],
            [
             -99.6668,
             34.7246
            ],
            [
             -99.6665,
             34.5071
            ],
            [
             -99.8421,
             34.5069
            ],
            [
             -99.9293,
             34.5767
            ],
            [
             -99.9976,
             34.5611
            ],
            [
             -100.0004,
             34.5605
            ],
            [
             -100.0004,
             34.7464
            ],
            [
             -100.0004,
             35.0304
            ]
           ]
          ],
          "type": "Polygon"
         },
         "properties": {
          "AFFGEOID": "0500000US40057",
          "COUNTYFP": "057",
          "COUNTYNS": "01101816",
          "GEOID": "40057",
          "LSAD": "06",
          "NAME": "Harmon",
          "STATEFP": "40"
         },
         "type": "Feature"
        },
        {
         "geometry": {
          "coordinates": [
           [
            [
             -96.7764,
             35.4115
            ],
            [
             -96.6237,
             35.4007
            ],
            [
             -96.5367,
             35.3908
            ],
            [
             -96.4413,
             35.4677
            ],
            [
             -96.4414,
             35.2901
            ],
            [
             -96.4414,
             35.1158
            ],
            [
             -96.4904,
             35.1159
            ],
            [
             -96.4908,
             34.9106
            ],
            [
             -96.5286,
             34.8696
            ],
            [
             -96.5771,
             34.9166
            ],
            [
             -96.7109,
             34.9117
            ],
            [
             -96.7276,
             34.8572
            ],
            [
             -96.7757,
             34.9
            ],
            [
             -96.7764,
             35.4115
            ]
           ]
          ],
          "type": "Polygon"
         },
         "properties": {
          "AFFGEOID": "0500000US40133",
          "COUNTYFP": "133",
          "COUNTYNS": "01101854",
          "GEOID": "40133",
          "LSAD": "06",
          "NAME": "Seminole",
          "STATEFP": "40"
         },
         "type": "Feature"
        },
        {
         "geometry": {
          "coordinates": [
           [
            [
             -98.9603,
             36.5069
            ],
            [
             -98.8436,
             36.5062
            ],
            [
             -98.8078,
             36.4607
            ],
            [
             -98.6254,
             36.3926
            ],
            [
             -98.5335,
             36.3976
            ],
            [
             -98.5336,
             36.4632
            ],
            [
             -98.1044,
             36.4631
            ],
            [
             -98.1039,
             36.1649
            ],
            [
             -98.2105,
             36.1649
            ],
            [
             -98.6369,
             36.1649
            ],
            [
             -98.9558,
             36.1616
            ],
            [
             -98.9603,
             36.5069
            ]
           ]
          ],
          "type": "Polygon"
         },
         "properties": {
          "AFFGEOID": "0500000US40093",
          "COUNTYFP": "093",
          "COUNTYNS": "01101831",
          "GEOID": "40093",
          "LSAD": "06",
          "NAME": "Major",
          "STATEFP": "40"
         },
         "type": "Feature"
        },
        {
         "geometry": {
          "coordinates": [
           [
            [
             -98.826,
             34.5944
            ],
            [
             -98.826,
             34.8551
            ],
            [
             -98.6198,
             34.855
            ],
            [
             -98.0926,
             34.8549
            ],
            [
             -98.089,
             34.8348
            ],
            [
             -98.0891,
             34.6811
            ],
            [
             -98.1418,
             34.6812
            ],
            [
             -98.1421,
             34.507
            ],
            [
             -98.2441,
             34.5071
            ],
            [
             -98.2959,
             34.449
            ],
            [
             -98.505,
             34.4205
            ],
            [
             -98.662,
             34.4059
            ],
            [
             -98.662,
             34.5075
            ],
            [
             -98.8261,
             34.5074
            ],
            [
             -98.826,
             34.5944
            ]
           ]
          ],
          "type": "Polygon"
         },
         "properties": {
          "AFFGEOID": "0500000US40031",
          "COUNTYFP": "031",
          "COUNTYNS": "01101803",
          "GEOID": "40031",
          "LSAD": "06",
          "NAME": "Comanche",
          "STATEFP": "40"
         },
         "type": "Feature"
        },
        {
         "geometry": {
          "coordinates": [
           [
            [
             -96.4904,
             35.1159
            ],
            [
             -96.4414,
             35.1158
            ],
            [
             -96.4414,
             35.2901
            ],
            [
             -95.9814,
             35.2899
            ],
            [
             -95.9837,
             35.1516
            ],
            [
             -96.0889,
             35.0498
            ],
            [
             -96.092,
             34.7675
            ],
            [
             -96.4065,
             34.7676
            ],
            [
             -96.4086,
             34.9307
            ],
            [
             -96.4908,
             34.9106
            ],
            [
             -96.4904,
             35.1159
            ]
           ]
          ],
          "type": "Polygon"
         },
         "properties": {
          "AFFGEOID": "0500000US40063",
          "COUNTYFP": "063",
          "COUNTYNS": "01101819",
          "GEOID": "40063",
          "LSAD": "06",
          "NAME": "Hughes",
          "STATEFP": "40"
         },
         "type": "Feature"
        },
        {
         "geometry": {
          "coordinates": [
           [
            [
             -99.4093,
             35.1145
            ],
            [
             -99.3602,
             35.1167
            ],
            [
             -98.7503,
             35.1163
            ],
            [
             -98.6513,
             35.1242
            ],
            [
             -98.6211,
             35.0974
            ],
            [
             -98.6198,
             34.855
            ],
            [
             -98.826,
             34.8551
            ],
            [
             -98.826,
             34.5944
            ],
            [
             -99.0011,
             34.5944
            ],
            [
             -99.001,
             34.6379
            ],
            [
             -99.1031,
             34.6379
            ],
            [
             -99.0525,
             34.7016
            ],
            [
             -99.1491,
             34.7024
            ],
            [
             -99.1446,
             34.8495
            ],
            [
             -99.2465,
             34.8221
            ],
            [
             -99.3062,
             34.8576
            ],
            [
             -99.3278,
             35.0417
            ],
            [
             -99.3684,
             35.0879
            ],
            [
             -99.4093,
             35.1145
            ]
           ]
          ],
          "type": "Polygon"
         },
         "properties": {
          "AFFGEOID": "0500000US40075",
          "COUNTYFP": "075",
          "COUNTYNS": "01101825",
          "GEOID": "40075",
          "LSAD": "06",
          "NAME": "Kiowa",
          "STATEFP": "40"
         },
         "type": "Feature"
        },
        {
         "geometry": {
          "coordinates": [
           [
            [
             -97.3521,
             34.5068
            ],
            [
             -97.144,
             34.5065
            ],
            [
             -97.2001,
             34.6228
            ],
            [
             -96.9323,
             34.6368
            ],
            [
             -96.9324,
             34.5933
            ],
            [
             -96.8273,
             34.5932
            ],
            [
             -96.8273,
             34.506
            ],
            [
             -96.8808,
             34.5061
            ],
            [
             -96.881,
             34.333
            ],
            [
             -96.9335,
             34.3327
            ],
            [
             -97.0287,
             34.3326
            ],
            [
             -97.0365,
             34.3754
            ],
            [
             -97.3522,
             34.3762
            ],
            [
             -97.3521,
             34.5068
            ]
           ]
          ],
          "type": "Polygon"
         },
         "properties": {
          "AFFGEOID": "0500000US40099",
          "COUNTYFP": "099",
          "COUNTYNS": "01101837",
          "GEOID": "40099",
          "LSAD": "06",
          "NAME": "Murray",
          "STATEFP": "40"
         },
         "type": "Feature"
        },
        {
         "geometry": {
          "coordinates": [
           [
            [
             -99.2379,
             34.4267
            ],
            [
             -99.1633,
             34.588
            ],
            [
             -99.1031,
             34.6379
            ],
            [
             -99.001,
             34.6379
            ],
            [
             -99.0011,
             34.5944
            ],
            [
             -98.826,
             34.5944
            ],
            [
             -98.8261,
             34.5074
            ],
            [
             -98.662,
             34.5075
            ],
            [
             -98.662,
             34.4059
            ],
            [
             -98.662,
             34.3334
            ],
            [
             -98.6097,
             34.3337
            ],
            [
             -98.6104,
             34.1562
            ],
            [
             -98.6481,
             34.1644
            ],
            [
             -98.6901,
             34.1332
            ],
            [
             -98.7372,
             34.131
            ],
            [
             -98.8068,
             34.1559
            ],
            [
             -98.8722,
             34.1604
            ],
            [
             -98.9402,
             34.2037
            ],
            [
             -98.9523,
             34.2047
            ],
            [
             -99.0029,
             34.2088
            ],
            [
             -99.0588,
             34.2013
            ],
            [
             -99.1316,
             34.2094
            ],
            [
             -99.1895,
             34.2143
            ],
            [
             -99.2116,
             34.314
            ],
            [
             -99.2216,
             34.3254
            ],
            [
             -99.2379,
             34.4267
            ]
           ]
          ],
          "type": "Polygon"
         },
         "properties": {
          "AFFGEOID": "0500000US40141",
          "COUNTYFP": "141",
          "COUNTYNS": "01101858",
          "GEOID": "40141",
          "LSAD": "06",
          "NAME": "Tillman",
          "STATEFP": "40"
         },
         "type": "Feature"
        },
        {
         "geometry": {
          "coordinates": [
           [
            [
             -97.6756,
             36.1647
            ],
            [
             -97.4608,
             36.1645
            ],
            [
             -97.3748,
             36.1643
            ],
            [
             -97.3541,
             36.1591
            ],
            [
             -97.3539,
             35.9849
            ],
            [
             -97.3236,
             36.0109
            ],
            [
             -97.2036,
             35.9448
            ],
            [
             -97.1406,
             35.942
            ],
            [
             -97.1411,
             35.7244
            ],
            [
             -97.674,
             35.726
            ],
            [
             -97.6756,
             36.1647
            ]
           ]
          ],
          "type": "Polygon"
         },
         "properties": {
          "AFFGEOID": "0500000US40083",
          "COUNTYFP": "083",
          "COUNTYNS": "01101829",
          "GEOID": "40083",
          "LSAD": "06",
          "NAME": "Logan",
          "STATEFP": "40"
         },
         "type": "Feature"
        },
        {
         "geometry": {
          "coordinates": [
           [
            [
             -96.9335,
             34.3327
            ],
            [
             -96.881,
             34.333
            ],
            [
             -96.8808,
             34.5061
            ],
            [
             -96.8273,
             34.506
            ],
            [
             -96.5139,
             34.5054
            ],
            [
             -96.5138,
             34.4196
            ],
            [
             -96.4073,
             34.4184
            ],
            [
             -96.4076,
             34.1573
            ],
            [
             -96.4538,
             34.1144
            ],
            [
             -96.5854,
             34.1145
            ],
            [
             -96.6208,
             34.162
            ],
            [
             -96.9337,
             34.1726
            ],
            [
             -96.9335,
             34.3327
            ]
           ]
          ],
          "type": "Polygon"
         },
         "properties": {
          "AFFGEOID": "0500000US40069",
          "COUNTYFP": "069",
          "COUNTYNS": "01101822",
          "GEOID": "40069",
          "LSAD": "06",
          "NAME": "Johnston",
          "STATEFP": "40"
         },
         "type": "Feature"
        },
        {
         "geometry": {
          "coordinates": [
           [
            [
             -97.4623,
             36.9988
            ],
            [
             -97.3849,
             36.9988
            ],
            [
             -97.1477,
             36.999
            ],
            [
             -97.1007,
             36.999
            ],
            [
             -96.7498,
             36.999
            ],
            [
             -96.7524,
             36.7821
            ],
            [
             -96.8895,
             36.7512
            ],
            [
             -96.9319,
             36.6861
            ],
            [
             -97.0641,
             36.6842
            ],
            [
             -97.0574,
             36.5936
            ],
            [
             -97.4616,
             36.5936
            ],
            [
             -97.4625,
             36.5936
            ],
            [
             -97.4623,
             36.9988
            ]
           ]
          ],
          "type": "Polygon"
         },
         "properties": {
          "AFFGEOID": "0500000US40071",
          "COUNTYFP": "071",
          "COUNTYNS": "01101823",
          "GEOID": "40071",
          "LSAD": "06",
          "NAME": "Kay",
          "STATEFP": "40"
         },
         "type": "Feature"
        },
        {
         "geometry": {
          "coordinates": [
           [
            [
             -100.0004,
             35.4224
            ],
            [
             -99.5758,
             35.4217
            ],
            [
             -99.5756,
             35.5089
            ],
            [
             -99.3641,
             35.5088
            ],
            [
             -99.3642,
             35.4653
            ],
            [
             -99.3602,
             35.1167
            ],
            [
             -99.4093,
             35.1145
            ],
            [
             -99.7827,
             35.1168
            ],
            [
             -99.7829,
             35.0301
            ],
            [
             -99.8886,
             35.0303
            ],
            [
             -100.0004,
             35.0304
            ],
            [
             -100.0004,
             35.1827
            ],
            [
             -100.0004,
             35.4224
            ]
           ]
          ],
          "type": "Polygon"
         },
         "properties": {
          "AFFGEOID": "0500000US40009",
          "COUNTYFP": "009",
          "COUNTYNS": "01101792",
          "GEOID": "40009",
          "LSAD": "06",
          "NAME": "Beckham",
          "STATEFP": "40"
         },
         "type": "Feature"
        },
        {
         "geometry": {
          "coordinates": [
           [
            [
             -96.1926,
             35.6391
            ],
            [
             -96.1924,
             35.857
            ],
            [
             -96.1416,
             35.8573
            ],
            [
             -96.0331,
             35.8568
            ],
            [
             -95.82,
             35.8559
            ],
            [
             -95.7662,
             35.8564
            ],
            [
             -95.7663,
             35.7257
            ],
            [
             -95.7131,
             35.7258
            ],
            [
             -95.713,
             35.5518
            ],
            [
             -95.8224,
             35.5517
            ],
            [
             -95.8234,
             35.464
            ],
            [
             -95.8756,
             35.4636
            ],
            [
             -95.8756,
             35.3767
            ],
            [
             -95.9813,
             35.3768
            ],
            [
             -96.0875,
             35.3769
            ],
            [
             -96.0878,
             35.5521
            ],
            [
             -96.1928,
             35.5519
            ],
            [
             -96.1926,
             35.6391
            ]
           ]
          ],
          "type": "Polygon"
         },
         "properties": {
          "AFFGEOID": "0500000US40111",
          "COUNTYFP": "111",
          "COUNTYNS": "01101843",
          "GEOID": "40111",
          "LSAD": "06",
          "NAME": "Okmulgee",
          "STATEFP": "40"
         },
         "type": "Feature"
        },
        {
         "geometry": {
          "coordinates": [
           [
            [
             -99.8421,
             34.5069
            ],
            [
             -99.6665,
             34.5071
            ],
            [
             -99.6668,
             34.7246
            ],
            [
             -99.4232,
             34.725
            ],
            [
             -99.4058,
             34.813
            ],
            [
             -99.2465,
             34.8221
            ],
            [
             -99.1446,
             34.8495
            ],
            [
             -99.1491,
             34.7024
            ],
            [
             -99.0525,
             34.7016
            ],
            [
             -99.1031,
             34.6379
            ],
            [
             -99.1633,
             34.588
            ],
            [
             -99.2379,
             34.4267
            ],
            [
             -99.2216,
             34.3254
            ],
            [
             -99.2753,
             34.3866
            ],
            [
             -99.3504,
             34.4371
            ],
            [
             -99.395,
             34.4421
            ],
            [
             -99.4204,
             34.3805
            ],
            [
             -99.471,
             34.3965
            ],
            [
             -99.475,
             34.3969
            ],
            [
             -99.5845,
             34.4077
            ],
            [
             -99.6,
             34.3747
            ],
            [
             -99.6965,
             34.381
            ],
            [
             -99.7649,
             34.4353
            ],
            [
             -99.8182,
             34.4878
            ],
            [
             -99.8421,
             34.5069
            ]
           ]
          ],
          "type": "Polygon"
         },
         "properties": {
          "AFFGEOID": "0500000US40065",
          "COUNTYFP": "065",
          "COUNTYNS": "01101820",
          "GEOID": "40065",
          "LSAD": "06",
          "NAME": "Jackson",
          "STATEFP": "40"
         },
         "type": "Feature"
        },
        {
         "geometry": {
          "coordinates": [
           [
            [
             -95.4317,
             36.9428
            ],
            [
             -95.4076,
             36.9993
            ],
            [
             -95.3226,
             36.9994
            ],
            [
             -95.0735,
             36.9995
            ],
            [
             -95.0076,
             36.9995
            ],
            [
             -95.0341,
             36.9942
            ],
            [
             -94.9992,
             36.9432
            ],
            [
             -94.9994,
             36.6706
            ],
            [
             -95.0057,
             36.5977
            ],
            [
             -95.0057,
             36.5099
            ],
            [
             -95.3282,
             36.5102
            ],
            [
             -95.3284,
             36.5976
            ],
            [
             -95.4316,
             36.5975
            ],
            [
             -95.4317,
             36.9428
            ]
           ]
          ],
          "type": "Polygon"
         },
         "properties": {
          "AFFGEOID": "0500000US40035",
          "COUNTYFP": "035",
          "COUNTYNS": "01101805",
          "GEOID": "40035",
          "LSAD": "06",
          "NAME": "Craig",
          "STATEFP": "40"
         },
         "type": "Feature"
        },
        {
         "geometry": {
          "coordinates": [
           [
            [
             -97.6681,
             34.8552
            ],
            [
             -96.9325,
             34.8545
            ],
            [
             -96.9323,
             34.6368
            ],
            [
             -97.2001,
             34.6228
            ],
            [
             -97.144,
             34.5065
            ],
            [
             -97.3521,
             34.5068
            ],
            [
             -97.5623,
             34.507
            ],
            [
             -97.5628,
             34.6811
            ],
            [
             -97.6684,
             34.6813
            ],
            [
             -97.6681,
             34.8552
            ]
           ]
          ],
          "type": "Polygon"
         },
         "properties": {
          "AFFGEOID": "0500000US40049",
          "COUNTYFP": "049",
          "COUNTYNS": "01101812",
          "GEOID": "40049",
          "LSAD": "06",
          "NAME": "Garvin",
          "STATEFP": "40"
         },
         "type": "Feature"
        },
        {
         "geometry": {
          "coordinates": [
           [
            [
             -97.3541,
             36.1591
            ],
            [
             -97.1407,
             36.1592
            ],
            [
             -97.141,
             36.2464
            ],
            [
             -96.9251,
             36.2465
            ],
            [
             -96.819,
             36.2465
            ],
            [
             -96.819,
             36.1589
            ],
            [
             -96.6214,
             36.1599
            ],
            [
             -96.6211,
             35.9415
            ],
            [
             -97.1406,
             35.942
            ],
            [
             -97.2036,
             35.9448
            ],
            [
             -97.3236,
             36.0109
            ],
            [
             -97.3539,
             35.9849
            ],
            [
             -97.3541,
             36.1591
            ]
           ]
          ],
          "type": "Polygon"
         },
         "properties": {
          "AFFGEOID": "0500000US40119",
          "COUNTYFP": "119",
          "COUNTYNS": "01101847",
          "GEOID": "40119",
          "LSAD": "06",
          "NAME": "Payne",
          "STATEFP": "40"
         },
         "type": "Feature"
        },
        {
         "geometry": {
          "coordinates": [
           [
            [
             -97.0321,
             36.507
            ],
            [
             -97.0098,
             36.5069
            ],
            [
             -96.9402,
             36.4555
            ],
            [
             -96.8753,
             36.4709
            ],
            [
             -96.821,
             36.5388
            ],
            [
             -96.7536,
             36.5626
            ],
            [
             -96.7062,
             36.4776
            ],
            [
             -96.7158,
             36.4431
            ],
            [
             -96.6357,
             36.4259
            ],
            [
             -96.5757,
             36.3743
            ],
            [
             -96.5187,
             36.3776
            ],
            [
             -96.5735,
             36.3157
            ],
            [
             -96.5152,
             36.2983
            ],
            [
             -96.4577,
             36.3327
            ],
            [
             -96.4338,
             36.2859
            ],
            [
             -96.3267,
             36.2266
            ],
            [
             -96.2566,
             36.2257
            ],
            [
             -96.2683,
             36.162
            ],
            [
             -96.2979,
             36.1623
            ],
            [
             -96.5989,
             36.1636
            ],
            [
             -96.6214,
             36.1599
            ],
            [
             -96.819,
             36.1589
            ],
            [
             -96.819,
             36.2465
            ],
            [
             -96.9251,
             36.2465
            ],
            [
             -96.9249,
             36.3333
            ],
            [
             -97.0321,
             36.3334
            ],
            [
             -97.0321,
             36.507
            ]
           ]
          ],
          "type": "Polygon"
         },
         "properties": {
          "AFFGEOID": "0500000US40117",
          "COUNTYFP": "117",
          "COUNTYNS": "01101846",
          "GEOID": "40117",
          "LSAD": "06",
          "NAME": "Pawnee",
          "STATEFP": "40"
         },
         "type": "Feature"
        },
        {
         "geometry": {
          "coordinates": [
           [
            [
             -97.1421,
             35.3769
            ],
            [
             -97.1415,
             35.464
            ],
            [
             -96.6249,
             35.4627
            ],
            [
             -96.6237,
             35.4007
            ],
            [
             -96.7764,
             35.4115
            ],
            [
             -96.7757,
             34.9
            ],
            [
             -96.8135,
             34.9446
            ],
            [
             -96.8854,
             34.9263
            ],
            [
             -96.9306,
             34.9644
            ],
            [
             -97.0159,
             34.9073
            ],
            [
             -97.1423,
             34.9282
            ],
            [
             -97.1421,
             35.3769
            ]
           ]
          ],
          "type": "Polygon"
         },
         "properties": {
          "AFFGEOID": "0500000US40125",
          "COUNTYFP": "125",
          "COUNTYNS": "01101850",
          "GEOID": "40125",
          "LSAD": "06",
          "NAME": "Pottawatomie",
          "STATEFP": "40"
         },
         "type": "Feature"
        },
        {
         "geometry": {
          "coordinates": [
           [
            [
             -96.092,
             34.7675
            ],
            [
             -96.0889,
             35.0498
            ],
            [
             -95.9837,
             35.1516
            ],
            [
             -95.908,
             35.1435
            ],
            [
             -95.8707,
             35.186
            ],
            [
             -95.756,
             35.1772
            ],
            [
             -95.6157,
             35.2497
            ],
            [
             -95.6023,
             35.2207
            ],
            [
             -95.4513,
             35.296
            ],
            [
             -95.455,
             35.1606
            ],
            [
             -95.3493,
             35.1603
            ],
            [
             -95.3492,
             35.0585
            ],
            [
             -95.3494,
             35.0293
            ],
            [
             -95.5077,
             35.0292
            ],
            [
             -95.5145,
             34.6811
            ],
            [
             -95.5143,
             34.5942
            ],
            [
             -95.672,
             34.5939
            ],
            [
             -95.882,
             34.5935
            ],
            [
             -95.8821,
             34.6805
            ],
            [
             -96.092,
             34.6806
            ],
            [
             -96.092,
             34.7675
            ]
           ]
          ],
          "type": "Polygon"
         },
         "properties": {
          "AFFGEOID": "0500000US40121",
          "COUNTYFP": "121",
          "COUNTYNS": "01101848",
          "GEOID": "40121",
          "LSAD": "06",
          "NAME": "Pittsburg",
          "STATEFP": "40"
         },
         "type": "Feature"
        },
        {
         "geometry": {
          "coordinates": [
           [
            [
             -95.1565,
             34.157
            ],
            [
             -95.1512,
             34.2439
            ],
            [
             -95.0466,
             34.2437
            ],
            [
             -95.0467,
             34.5072
            ],
            [
             -94.9376,
             34.5068
            ],
            [
             -94.4612,
             34.5075
            ],
            [
             -94.4654,
             34.3595
            ],
            [
             -94.4702,
             34.1899
            ],
            [
             -94.4749,
             34.0197
            ],
            [
             -94.4773,
             33.9409
            ],
            [
             -94.4818,
             33.789
            ],
            [
             -94.4859,
             33.6379
            ],
            [
             -94.5289,
             33.6218
            ],
            [
             -94.5729,
             33.6699
            ],
            [
             -94.6306,
             33.6734
            ],
            [
             -94.7149,
             33.7073
            ],
            [
             -94.7319,
             33.7208
            ],
            [
             -94.7661,
             33.748
            ],
            [
             -94.8416,
             33.7394
            ],
            [
             -94.9023,
             33.7763
            ],
            [
             -94.9396,
             33.8105
            ],
            [
             -94.9817,
             33.8523
            ],
            [
             -95.0466,
             33.8626
            ],
            [
             -95.095,
             33.9048
            ],
            [
             -95.1495,
             33.9363
            ],
            [
             -95.1559,
             33.9385
            ],
            [
             -95.1565,
             34.157
            ]
           ]
          ],
          "type": "Polygon"
         },
         "properties": {
          "AFFGEOID": "0500000US40089",
          "COUNTYFP": "089",
          "COUNTYNS": "01101835",
          "GEOID": "40089",
          "LSAD": "06",
          "NAME": "McCurtain",
          "STATEFP": "40"
         },
         "type": "Feature"
        },
        {
         "geometry": {
          "coordinates": [
           [
            [
             -102.0282,
             36.9931
            ],
            [
             -101.9024,
             36.9937
            ],
            [
             -101.5553,
             36.9953
            ],
            [
             -101.4853,
             36.9956
            ],
            [
             -101.2115,
             36.9971
            ],
            [
             -101.0665,
             36.9977
            ],
            [
             -100.9455,
             36.9982
            ],
            [
             -100.9542,
             36.4995
            ],
            [
             -101.0852,
             36.4992
            ],
            [
             -101.6239,
             36.4995
            ],
            [
             -101.8266,
             36.4997
            ],
            [
             -102.0323,
             36.5001
            ],
            [
             -102.0282,
             36.9931
            ]
           ]
          ],
          "type": "Polygon"
         },
         "properties": {
          "AFFGEOID": "0500000US40139",
          "COUNTYFP": "139",
          "COUNTYNS": "01101857",
          "GEOID": "40139",
          "LSAD": "06",
          "NAME": "Texas",
          "STATEFP": "40"
         },
         "type": "Feature"
        },
        {
         "geometry": {
          "coordinates": [
           [
            [
             -95.8121,
             36.2495
            ],
            [
             -95.8122,
             36.351
            ],
            [
             -95.7944,
             36.4181
            ],
            [
             -95.8127,
             36.4236
            ],
            [
             -95.8125,
             36.5805
            ],
            [
             -95.8096,
             36.5975
            ],
            [
             -95.4316,
             36.5975
            ],
            [
             -95.3284,
             36.5976
            ],
            [
             -95.3282,
             36.5102
            ],
            [
             -95.4356,
             36.5102
            ],
            [
             -95.44,
             36.0752
            ],
            [
             -95.5715,
             36.0753
            ],
            [
             -95.6185,
             36.1625
            ],
            [
             -95.7264,
             36.1625
            ],
            [
             -95.7616,
             36.1627
            ],
            [
             -95.8154,
             36.1626
            ],
            [
             -95.8121,
             36.2495
            ]
           ]
          ],
          "type": "Polygon"
         },
         "properties": {
          "AFFGEOID": "0500000US40131",
          "COUNTYFP": "131",
          "COUNTYNS": "01101853",
          "GEOID": "40131",
          "LSAD": "06",
          "NAME": "Rogers",
          "STATEFP": "40"
         },
         "type": "Feature"
        },
        {
         "geometry": {
          "coordinates": [
           [
            [
             -99.8886,
             35.0303
            ],
            [
             -99.7829,
             35.0301
            ],
            [
             -99.7827,
             35.1168
            ],
            [
             -99.4093,
             35.1145
            ],
            [
             -99.3684,
             35.0879
            ],
            [
             -99.3278,
             35.0417
            ],
            [
             -99.3062,
             34.8576
            ],
            [
             -99.2465,
             34.8221
            ],
            [
             -99.4058,
             34.813
            ],
            [
             -99.4232,
             34.725
            ],
            [
             -99.6668,
             34.7246
            ],
            [
             -99.7201,
             34.7685
            ],
            [
             -99.7311,
             34.9441
            ],
            [
             -99.8884,
             34.9439
            ],
            [
             -99.8886,
             35.0303
            ]
           ]
          ],
          "type": "Polygon"
         },
         "properties": {
          "AFFGEOID": "0500000US40055",
          "COUNTYFP": "055",
          "COUNTYNS": "01101815",
          "GEOID": "40055",
          "LSAD": "06",
          "NAME": "Greer",
          "STATEFP": "40"
         },
         "type": "Feature"
        },
        {
         "geometry": {
          "coordinates": [
           [
            [
             -95.0595,
             34.855
            ],
            [
             -94.9978,
             34.8551
            ],
            [
             -94.9981,
             34.9422
            ],
            [
             -94.9277,
             34.9422
            ],
            [
             -94.9279,
             35.0583
            ],
            [
             -94.9279,
             35.2026
            ],
            [
             -94.8143,
             35.2023
            ],
            [
             -94.8136,
             35.3233
            ],
            [
             -94.7502,
             35.357
            ],
            [
             -94.6688,
             35.295
            ],
            [
             -94.5948,
             35.328
            ],
            [
             -94.4924,
             35.3018
            ],
            [
             -94.4339,
             35.3864
            ],
            [
             -94.4315,
             35.3696
            ],
            [
             -94.4353,
             35.2759
            ],
            [
             -94.4429,
             35.0625
            ],
            [
             -94.4475,
             34.934
            ],
            [
             -94.4491,
             34.8906
            ],
            [
             -94.4544,
             34.729
            ],
            [
             -94.4575,
             34.6349
            ],
            [
             -94.4612,
             34.5075
            ],
            [
             -94.9376,
             34.5068
            ],
            [
             -94.9378,
             34.6809
            ],
            [
             -95.0596,
             34.6807
            ],
            [
             -95.0595,
             34.855
            ]
           ]
          ],
          "type": "Polygon"
         },
         "properties": {
          "AFFGEOID": "0500000US40079",
          "COUNTYFP": "079",
          "COUNTYNS": "01101827",
          "GEOID": "40079",
          "LSAD": "06",
          "NAME": "Le Flore",
          "STATEFP": "40"
         },
         "type": "Feature"
        },
        {
         "geometry": {
          "coordinates": [
           [
            [
             -96.2979,
             36.1623
            ],
            [
             -96.2683,
             36.162
            ],
            [
             -96.0011,
             36.1613
            ],
            [
             -96.0012,
             36.4237
            ],
            [
             -95.8127,
             36.4236
            ],
            [
             -95.7944,
             36.4181
            ],
            [
             -95.8122,
             36.351
            ],
            [
             -95.8121,
             36.2495
            ],
            [
             -95.8154,
             36.1626
            ],
            [
             -95.7616,
             36.1627
            ],
            [
             -95.7617,
             35.9008
            ],
            [
             -95.82,
             35.8559
            ],
            [
             -96.0331,
             35.8568
            ],
            [
             -96.0296,
             35.9011
            ],
            [
             -96.0295,
             35.9884
            ],
            [
             -96.0296,
             36.0754
            ],
            [
             -96.2978,
             36.0758
            ],
            [
             -96.2979,
             36.1623
            ]
           ]
          ],
          "type": "Polygon"
         },
         "properties": {
          "AFFGEOID": "0500000US40143",
          "COUNTYFP": "143",
          "COUNTYNS": "01101859",
          "GEOID": "40143",
          "LSAD": "06",
          "NAME": "Tulsa",
          "STATEFP": "40"
         },
         "type": "Feature"
        },
        {
         "geometry": {
          "coordinates": [
           [
            [
             -96.4073,
             34.4184
            ],
            [
             -96.1451,
             34.4187
            ],
            [
             -96.1453,
             34.5061
            ],
            [
             -96.0919,
             34.5062
            ],
            [
             -96.092,
             34.6806
            ],
            [
             -95.8821,
             34.6805
            ],
            [
             -95.882,
             34.5935
            ],
            [
             -95.672,
             34.5939
            ],
            [
             -95.6717,
             34.5068
            ],
            [
             -95.7794,
             34.5066
            ],
            [
             -95.7794,
             34.1567
            ],
            [
             -95.9916,
             34.1568
            ],
            [
             -96.4076,
             34.1573
            ],
            [
             -96.4073,
             34.4184
            ]
           ]
          ],
          "type": "Polygon"
         },
         "properties": {
          "AFFGEOID": "0500000US40005",
          "COUNTYFP": "005",
          "COUNTYNS": "01101790",
          "GEOID": "40005",
          "LSAD": "06",
          "NAME": "Atoka",
          "STATEFP": "40"
         },
         "type": "Feature"
        },
        {
         "geometry": {
          "coordinates": [
           [
            [
             -96.6248,
             34.0097
            ],
            [
             -96.548,
             34.0633
            ],
            [
             -96.5854,
             34.1145
            ],
            [
             -96.4538,
             34.1144
            ],
            [
             -96.4076,
             34.1573
            ],
            [
             -95.9916,
             34.1568
            ],
            [
             -95.9381,
             34.1251
            ],
            [
             -95.9189,
             33.9251
            ],
            [
             -95.7896,
             33.8724
            ],
            [
             -95.8206,
             33.8585
            ],
            [
             -95.8449,
             33.8604
            ],
            [
             -95.8875,
             33.8639
            ],
            [
             -95.9353,
             33.8751
            ],
            [
             -96.0639,
             33.8415
            ],
            [
             -96.1516,
             33.8319
            ],
            [
             -96.173,
             33.8006
            ],
            [
             -96.229,
             33.748
            ],
            [
             -96.2773,
             33.7697
            ],
            [
             -96.3074,
             33.735
            ],
            [
             -96.3631,
             33.6942
            ],
            [
             -96.3797,
             33.7155
            ],
            [
             -96.4035,
             33.7463
            ],
            [
             -96.4365,
             33.78
            ],
            [
             -96.5023,
             33.7735
            ],
            [
             -96.5239,
             33.8181
            ],
            [
             -96.5729,
             33.8191
            ],
            [
             -96.5929,
             33.8309
            ],
            [
             -96.5901,
             33.8807
            ],
            [
             -96.5947,
             33.883
            ],
            [
             -96.577,
             33.9644
            ],
            [
             -96.6248,
             34.0097
            ]
           ]
          ],
          "type": "Polygon"
         },
         "properties": {
          "AFFGEOID": "0500000US40013",
          "COUNTYFP": "013",
          "COUNTYNS": "01101794",
          "GEOID": "40013",
          "LSAD": "06",
          "NAME": "Bryan",
          "STATEFP": "40"
         },
         "type": "Feature"
        },
        {
         "geometry": {
          "coordinates": [
           [
            [
             -96.5139,
             34.5054
            ],
            [
             -96.5122,
             34.6801
            ],
            [
             -96.4064,
             34.68
            ],
            [
             -96.4065,
             34.7676
            ],
            [
             -96.092,
             34.7675
            ],
            [
             -96.092,
             34.6806
            ],
            [
             -96.0919,
             34.5062
            ],
            [
             -96.1453,
             34.5061
            ],
            [
             -96.1451,
             34.4187
            ],
            [
             -96.4073,
             34.4184
            ],
            [
             -96.5138,
             34.4196
            ],
            [
             -96.5139,
             34.5054
            ]
           ]
          ],
          "type": "Polygon"
         },
         "properties": {
          "AFFGEOID": "0500000US40029",
          "COUNTYFP": "029",
          "COUNTYNS": "01101802",
          "GEOID": "40029",
          "LSAD": "06",
          "NAME": "Coal",
          "STATEFP": "40"
         },
         "type": "Feature"
        },
        {
         "geometry": {
          "coordinates": [
           [
            [
             -95.9814,
             35.2899
            ],
            [
             -95.9813,
             35.3768
            ],
            [
             -95.8756,
             35.3767
            ],
            [
             -95.8756,
             35.4636
            ],
            [
             -95.8234,
             35.464
            ],
            [
             -95.8224,
             35.5517
            ],
            [
             -95.713,
             35.5518
            ],
            [
             -95.345,
             35.5522
            ],
            [
             -95.3447,
             35.2931
            ],
            [
             -95.3903,
             35.3275
            ],
            [
             -95.4513,
             35.296
            ],
            [
             -95.6023,
             35.2207
            ],
            [
             -95.6157,
             35.2497
            ],
            [
             -95.756,
             35.1772
            ],
            [
             -95.8707,
             35.186
            ],
            [
             -95.908,
             35.1435
            ],
            [
             -95.9837,
             35.1516
            ],
            [
             -95.9814,
             35.2899
            ]
           ]
          ],
          "type": "Polygon"
         },
         "properties": {
          "AFFGEOID": "0500000US40091",
          "COUNTYFP": "091",
          "COUNTYNS": "01101836",
          "GEOID": "40091",
          "LSAD": "06",
          "NAME": "McIntosh",
          "STATEFP": "40"
         },
         "type": "Feature"
        },
        {
         "geometry": {
          "coordinates": [
           [
            [
             -96.9325,
             34.8545
            ],
            [
             -96.9308,
             34.8751
            ],
            [
             -96.9306,
             34.9644
            ],
            [
             -96.8854,
             34.9263
            ],
            [
             -96.8135,
             34.9446
            ],
            [
             -96.7757,
             34.9
            ],
            [
             -96.7276,
             34.8572
            ],
            [
             -96.7109,
             34.9117
            ],
            [
             -96.5771,
             34.9166
            ],
            [
             -96.5286,
             34.8696
            ],
            [
             -96.4908,
             34.9106
            ],
            [
             -96.4086,
             34.9307
            ],
            [
             -96.4065,
             34.7676
            ],
            [
             -96.4064,
             34.68
            ],
            [
             -96.5122,
             34.6801
            ],
            [
             -96.5139,
             34.5054
            ],
            [
             -96.8273,
             34.506
            ],
            [
             -96.8273,
             34.5932
            ],
            [
             -96.9324,
             34.5933
            ],
            [
             -96.9323,
             34.6368
            ],
            [
             -96.9325,
             34.8545
            ]
           ]
          ],
          "type": "Polygon"
         },
         "properties": {
          "AFFGEOID": "0500000US40123",
          "COUNTYFP": "123",
          "COUNTYNS": "01101849",
          "GEOID": "40123",
          "LSAD": "06",
          "NAME": "Pontotoc",
          "STATEFP": "40"
         },
         "type": "Feature"
        },
        {
         "geometry": {
          "coordinates": [
           [
            [
             -95.4513,
             35.296
            ],
            [
             -95.3903,
             35.3275
            ],
            [
             -95.3447,
             35.2931
            ],
            [
             -95.2407,
             35.2623
            ],
            [
             -95.1705,
             35.3101
            ],
            [
             -95.0499,
             35.4589
            ],
            [
             -95.0065,
             35.4146
            ],
            [
             -94.9018,
             35.3979
            ],
            [
             -94.9145,
             35.3475
            ],
            [
             -94.8136,
             35.3233
            ],
            [
             -94.8143,
             35.2023
            ],
            [
             -94.9279,
             35.2026
            ],
            [
             -94.9279,
             35.0583
            ],
            [
             -95.3492,
             35.0585
            ],
            [
             -95.3493,
             35.1603
            ],
            [
             -95.455,
             35.1606
            ],
            [
             -95.4513,
             35.296
            ]
           ]
          ],
          "type": "Polygon"
         },
         "properties": {
          "AFFGEOID": "0500000US40061",
          "COUNTYFP": "061",
          "COUNTYNS": "01101818",
          "GEOID": "40061",
          "LSAD": "06",
          "NAME": "Haskell",
          "STATEFP": "40"
         },
         "type": "Feature"
        },
        {
         "geometry": {
          "coordinates": [
           [
            [
             -95.0076,
             36.9995
            ],
            [
             -94.9953,
             36.9995
            ],
            [
             -94.7128,
             36.9988
            ],
            [
             -94.618,
             36.9989
            ],
            [
             -94.6183,
             36.7666
            ],
            [
             -94.618,
             36.6679
            ],
            [
             -94.9994,
             36.6706
            ],
            [
             -94.9992,
             36.9432
            ],
            [
             -95.0341,
             36.9942
            ],
            [
             -95.0076,
             36.9995
            ]
           ]
          ],
          "type": "Polygon"
         },
         "properties": {
          "AFFGEOID": "0500000US40115",
          "COUNTYFP": "115",
          "COUNTYNS": "01101845",
          "GEOID": "40115",
          "LSAD": "06",
          "NAME": "Ottawa",
          "STATEFP": "40"
         },
         "type": "Feature"
        },
        {
         "geometry": {
          "coordinates": [
           [
            [
             -99.3758,
             35.8122
            ],
            [
             -98.632,
             35.8124
            ],
            [
             -98.6322,
             35.566
            ],
            [
             -98.6231,
             35.5516
            ],
            [
             -98.6233,
             35.4642
            ],
            [
             -99.3642,
             35.4653
            ],
            [
             -99.3641,
             35.5088
            ],
            [
             -99.3771,
             35.5517
            ],
            [
             -99.3758,
             35.8122
            ]
           ]
          ],
          "type": "Polygon"
         },
         "properties": {
          "AFFGEOID": "0500000US40039",
          "COUNTYFP": "039",
          "COUNTYNS": "01101807",
          "GEOID": "40039",
          "LSAD": "06",
          "NAME": "Custer",
          "STATEFP": "40"
         },
         "type": "Feature"
        },
        {
         "geometry": {
          "coordinates": [
           [
            [
             -97.5612,
             33.8991
            ],
            [
             -97.5368,
             33.9839
            ],
            [
             -97.5608,
             34.0711
            ],
            [
             -96.9696,
             34.071
            ],
            [
             -96.9348,
             34.0129
            ],
            [
             -96.9343,
             33.9456
            ],
            [
             -96.9446,
             33.945
            ],
            [
             -96.9523,
             33.9446
            ],
            [
             -96.9887,
             33.9185
            ],
            [
             -96.9856,
             33.8865
            ],
            [
             -97.0558,
             33.8557
            ],
            [
             -97.0786,
             33.8128
            ],
            [
             -97.0879,
             33.7741
            ],
            [
             -97.0911,
             33.7351
            ],
            [
             -97.1494,
             33.722
            ],
            [
             -97.2057,
             33.8098
            ],
            [
             -97.1666,
             33.8473
            ],
            [
             -97.2061,
             33.9143
            ],
            [
             -97.2462,
             33.9003
            ],
            [
             -97.3182,
             33.8651
            ],
            [
             -97.3729,
             33.8195
            ],
            [
             -97.4442,
             33.8238
            ],
            [
             -97.4515,
             33.8709
            ],
            [
             -97.4841,
             33.9139
            ],
            [
             -97.4865,
             33.917
            ],
            [
             -97.5583,
             33.8971
            ],
            [
             -97.5612,
             33.8991
            ]
           ]
          ],
          "type": "Polygon"
         },
         "properties": {
          "AFFGEOID": "0500000US40085",
          "COUNTYFP": "085",
          "COUNTYNS": "01101830",
          "GEOID": "40085",
          "LSAD": "06",
          "NAME": "Love",
          "STATEFP": "40"
         },
         "type": "Feature"
        },
        {
         "geometry": {
          "coordinates": [
           [
            [
             -99.3821,
             36.1643
            ],
            [
             -98.9558,
             36.1616
            ],
            [
             -98.6369,
             36.1649
            ],
            [
             -98.632,
             35.8124
            ],
            [
             -99.3758,
             35.8122
            ],
            [
             -99.3759,
             35.875
            ],
            [
             -99.3811,
             35.8988
            ],
            [
             -99.381,
             36.0129
            ],
            [
             -99.3821,
             36.1643
            ]
           ]
          ],
          "type": "Polygon"
         },
         "properties": {
          "AFFGEOID": "0500000US40043",
          "COUNTYFP": "043",
          "COUNTYNS": "01101809",
          "GEOID": "40043",
          "LSAD": "06",
          "NAME": "Dewey",
          "STATEFP": "40"
         },
         "type": "Feature"
        },
        {
         "geometry": {
          "coordinates": [
           [
            [
             -98.3134,
             35.7252
            ],
            [
             -98.2071,
             35.7251
            ],
            [
             -97.674,
             35.726
            ],
            [
             -97.6714,
             35.4063
            ],
            [
             -97.6714,
             35.3772
            ],
            [
             -97.6715,
             35.3375
            ],
            [
             -97.6716,
             35.3359
            ],
            [
             -97.7718,
             35.3457
            ],
            [
             -97.7902,
             35.333
            ],
            [
             -97.8337,
             35.3354
            ],
            [
             -97.8628,
             35.3618
            ],
            [
             -97.9551,
             35.346
            ],
            [
             -98.096,
             35.3778
            ],
            [
             -98.3063,
             35.3772
            ],
            [
             -98.3133,
             35.5515
            ],
            [
             -98.3134,
             35.7252
            ]
           ]
          ],
          "type": "Polygon"
         },
         "properties": {
          "AFFGEOID": "0500000US40017",
          "COUNTYFP": "017",
          "COUNTYNS": "01101796",
          "GEOID": "40017",
          "LSAD": "06",
          "NAME": "Canadian",
          "STATEFP": "40"
         },
         "type": "Feature"
        },
        {
         "geometry": {
          "coordinates": [
           [
            [
             -96.9684,
             34.1726
            ],
            [
             -96.9337,
             34.1726
            ],
            [
             -96.6208,
             34.162
            ],
            [
             -96.5854,
             34.1145
            ],
            [
             -96.548,
             34.0633
            ],
            [
             -96.6248,
             34.0097
            ],
            [
             -96.577,
             33.9644
            ],
            [
             -96.5947,
             33.883
            ],
            [
             -96.6599,
             33.9167
            ],
            [
             -96.6821,
             33.8766
            ],
            [
             -96.7124,
             33.8316
            ],
            [
             -96.7768,
             33.842
            ],
            [
             -96.7943,
             33.8689
            ],
            [
             -96.8506,
             33.8472
            ],
            [
             -96.8972,
             33.903
            ],
            [
             -96.9053,
             33.9472
            ],
            [
             -96.9343,
             33.9456
            ],
            [
             -96.9348,
             34.0129
            ],
            [
             -96.9696,
             34.071
            ],
            [
             -96.9684,
             34.1726
            ]
           ]
          ],
          "type": "Polygon"
         },
         "properties": {
          "AFFGEOID": "0500000US40095",
          "COUNTYFP": "095",
          "COUNTYNS": "01101832",
          "GEOID": "40095",
          "LSAD": "06",
          "NAME": "Marshall",
          "STATEFP": "40"
         },
         "type": "Feature"
        },
        {
         "geometry": {
          "coordinates": [
           [
            [
             -99.407,
             36.9996
            ],
            [
             -99.1294,
             36.9994
            ],
            [
             -99.0003,
             36.9994
            ],
            [
             -98.7919,
             36.9993
            ],
            [
             -98.5447,
             36.9985
            ],
            [
             -98.5336,
             36.4632
            ],
            [
             -98.5335,
             36.3976
            ],
            [
             -98.6254,
             36.3926
            ],
            [
             -98.8078,
             36.4607
            ],
            [
             -98.8436,
             36.5062
            ],
            [
             -98.9603,
             36.5069
            ],
            [
             -98.96,
             36.599
            ],
            [
             -99.1399,
             36.783
            ],
            [
             -99.2504,
             36.785
            ],
            [
             -99.2952,
             36.8196
            ],
            [
             -99.3742,
             36.8796
            ],
            [
             -99.4562,
             36.9997
            ],
            [
             -99.407,
             36.9996
            ]
           ]
          ],
          "type": "Polygon"
         },
         "properties": {
          "AFFGEOID": "0500000US40151",
          "COUNTYFP": "151",
          "COUNTYNS": "01101863",
          "GEOID": "40151",
          "LSAD": "06",
          "NAME": "Woods",
          "STATEFP": "40"
         },
         "type": "Feature"
        },
        {
         "geometry": {
          "coordinates": [
           [
            [
             -98.1043,
             36.5936
            ],
            [
             -97.4625,
             36.5936
            ],
            [
             -97.4616,
             36.5936
            ],
            [
             -97.4608,
             36.1645
            ],
            [
             -97.6756,
             36.1647
            ],
            [
             -98.1039,
             36.1649
            ],
            [
             -98.1044,
             36.4631
            ],
            [
             -98.1043,
             36.5936
            ]
           ]
          ],
          "type": "Polygon"
         },
         "properties": {
          "AFFGEOID": "0500000US40047",
          "COUNTYFP": "047",
          "COUNTYNS": "01101811",
          "GEOID": "40047",
          "LSAD": "06",
          "NAME": "Garfield",
          "STATEFP": "40"
         },
         "type": "Feature"
        },
        {
         "geometry": {
          "coordinates": [
           [
            [
             -95.7662,
             35.8564
            ],
            [
             -95.6504,
             35.8568
            ],
            [
             -95.5897,
             35.7652
            ],
            [
             -95.3604,
             35.8224
            ],
            [
             -95.2657,
             35.8133
            ],
            [
             -95.1272,
             35.8128
            ],
            [
             -95.1275,
             35.6389
            ],
            [
             -95.1324,
             35.5262
            ],
            [
             -95.0856,
             35.4614
            ],
            [
             -95.0499,
             35.4589
            ],
            [
             -95.1705,
             35.3101
            ],
            [
             -95.2407,
             35.2623
            ],
            [
             -95.3447,
             35.2931
            ],
            [
             -95.345,
             35.5522
            ],
            [
             -95.713,
             35.5518
            ],
            [
             -95.7131,
             35.7258
            ],
            [
             -95.7663,
             35.7257
            ],
            [
             -95.7662,
             35.8564
            ]
           ]
          ],
          "type": "Polygon"
         },
         "properties": {
          "AFFGEOID": "0500000US40101",
          "COUNTYFP": "101",
          "COUNTYNS": "01101838",
          "GEOID": "40101",
          "LSAD": "06",
          "NAME": "Muskogee",
          "STATEFP": "40"
         },
         "type": "Feature"
        },
        {
         "geometry": {
          "coordinates": [
           [
            [
             -95.1275,
             35.6389
            ],
            [
             -94.8073,
             35.6386
            ],
            [
             -94.4731,
             35.6385
            ],
            [
             -94.4497,
             35.4967
            ],
            [
             -94.4349,
             35.3932
            ],
            [
             -94.4339,
             35.3864
            ],
            [
             -94.4924,
             35.3018
            ],
            [
             -94.5948,
             35.328
            ],
            [
             -94.6688,
             35.295
            ],
            [
             -94.7502,
             35.357
            ],
            [
             -94.8136,
             35.3233
            ],
            [
             -94.9145,
             35.3475
            ],
            [
             -94.9018,
             35.3979
            ],
            [
             -95.0065,
             35.4146
            ],
            [
             -95.0499,
             35.4589
            ],
            [
             -95.0856,
             35.4614
            ],
            [
             -95.1324,
             35.5262
            ],
            [
             -95.1275,
             35.6389
            ]
           ]
          ],
          "type": "Polygon"
         },
         "properties": {
          "AFFGEOID": "0500000US40135",
          "COUNTYFP": "135",
          "COUNTYNS": "01101855",
          "GEOID": "40135",
          "LSAD": "06",
          "NAME": "Sequoyah",
          "STATEFP": "40"
         },
         "type": "Feature"
        },
        {
         "geometry": {
          "coordinates": [
           [
            [
             -95.9916,
             34.1568
            ],
            [
             -95.7794,
             34.1567
            ],
            [
             -95.1565,
             34.157
            ],
            [
             -95.1559,
             33.9385
            ],
            [
             -95.2264,
             33.962
            ],
            [
             -95.2536,
             33.9297
            ],
            [
             -95.2834,
             33.8777
            ],
            [
             -95.3104,
             33.8738
            ],
            [
             -95.3523,
             33.8678
            ],
            [
             -95.4474,
             33.8689
            ],
            [
             -95.5253,
             33.8855
            ],
            [
             -95.5569,
             33.927
            ],
            [
             -95.6037,
             33.9272
            ],
            [
             -95.67,
             33.9058
            ],
            [
             -95.7375,
             33.896
            ],
            [
             -95.7896,
             33.8724
            ],
            [
             -95.9189,
             33.9251
            ],
            [
             -95.9381,
             34.1251
            ],
            [
             -95.9916,
             34.1568
            ]
           ]
          ],
          "type": "Polygon"
         },
         "properties": {
          "AFFGEOID": "0500000US40023",
          "COUNTYFP": "023",
          "COUNTYNS": "01101799",
          "GEOID": "40023",
          "LSAD": "06",
          "NAME": "Choctaw",
          "STATEFP": "40"
         },
         "type": "Feature"
        },
        {
         "geometry": {
          "coordinates": [
           [
            [
             -95.82,
             35.8559
            ],
            [
             -95.7617,
             35.9008
            ],
            [
             -95.7616,
             36.1627
            ],
            [
             -95.7264,
             36.1625
            ],
            [
             -95.6185,
             36.1625
            ],
            [
             -95.5715,
             36.0753
            ],
            [
             -95.44,
             36.0752
            ],
            [
             -95.2079,
             36.0747
            ],
            [
             -95.2787,
             35.9641
            ],
            [
             -95.2315,
             35.8512
            ],
            [
             -95.2657,
             35.8133
            ],
            [
             -95.3604,
             35.8224
            ],
            [
             -95.5897,
             35.7652
            ],
            [
             -95.6504,
             35.8568
            ],
            [
             -95.7662,
             35.8564
            ],
            [
             -95.82,
             35.8559
            ]
           ]
          ],
          "type": "Polygon"
         },
         "properties": {
          "AFFGEOID": "0500000US40145",
          "COUNTYFP": "145",
          "COUNTYNS": "01101860",
          "GEOID": "40145",
          "LSAD": "06",
          "NAME": "Wagoner",
          "STATEFP": "40"
         },
         "type": "Feature"
        },
        {
         "geometry": {
          "coordinates": [
           [
            [
             -100.9455,
             36.9982
            ],
            [
             -100.8556,
             36.9986
            ],
            [
             -100.6333,
             37.0002
            ],
            [
             -100.5527,
             37.0007
            ],
            [
             -100.0895,
             37.0015
            ],
            [
             -100.0026,
             37.0016
            ],
            [
             -100.0032,
             36.5932
            ],
            [
             -100.0038,
             36.4997
            ],
            [
             -100.311,
             36.4997
            ],
            [
             -100.5461,
             36.4995
            ],
            [
             -100.5926,
             36.4995
            ],
            [
             -100.8842,
             36.4997
            ],
            [
             -100.9542,
             36.4995
            ],
            [
             -100.9455,
             36.9982
            ]
           ]
          ],
          "type": "Polygon"
         },
         "properties": {
          "AFFGEOID": "0500000US40007",
          "COUNTYFP": "007",
          "COUNTYNS": "01101791",
          "GEOID": "40007",
          "LSAD": "06",
          "NAME": "Beaver",
          "STATEFP": "40"
         },
         "type": "Feature"
        },
        {
         "geometry": {
          "coordinates": [
           [
            [
             -99.3642,
             35.4653
            ],
            [
             -98.6233,
             35.4642
            ],
            [
             -98.6182,
             35.1172
            ],
            [
             -98.6211,
             35.0974
            ],
            [
             -98.6513,
             35.1242
            ],
            [
             -98.7503,
             35.1163
            ],
            [
             -99.3602,
             35.1167
            ],
            [
             -99.3642,
             35.4653
            ]
           ]
          ],
          "type": "Polygon"
         },
         "properties": {
          "AFFGEOID": "0500000US40149",
          "COUNTYFP": "149",
          "COUNTYNS": "01101862",
          "GEOID": "40149",
          "LSAD": "06",
          "NAME": "Washita",
          "STATEFP": "40"
         },
         "type": "Feature"
        },
        {
         "geometry": {
          "coordinates": [
           [
            [
             -96.6214,
             36.1599
            ],
            [
             -96.5989,
             36.1636
            ],
            [
             -96.2979,
             36.1623
            ],
            [
             -96.2978,
             36.0758
            ],
            [
             -96.0296,
             36.0754
            ],
            [
             -96.0295,
             35.9884
            ],
            [
             -96.0296,
             35.9011
            ],
            [
             -96.0331,
             35.8568
            ],
            [
             -96.1416,
             35.8573
            ],
            [
             -96.1924,
             35.857
            ],
            [
             -96.1926,
             35.6391
            ],
            [
             -96.6206,
             35.639
            ],
            [
             -96.6211,
             35.9415
            ],
            [
             -96.6214,
             36.1599
            ]
           ]
          ],
          "type": "Polygon"
         },
         "properties": {
          "AFFGEOID": "0500000US40037",
          "COUNTYFP": "037",
          "COUNTYNS": "01101806",
          "GEOID": "40037",
          "LSAD": "06",
          "NAME": "Creek",
          "STATEFP": "40"
         },
         "type": "Feature"
        },
        {
         "geometry": {
          "coordinates": [
           [
            [
             -97.4616,
             36.5936
            ],
            [
             -97.0574,
             36.5936
            ],
            [
             -96.9128,
             36.5989
            ],
            [
             -96.888,
             36.5749
            ],
            [
             -97.0098,
             36.5069
            ],
            [
             -97.0321,
             36.507
            ],
            [
             -97.0321,
             36.3334
            ],
            [
             -96.9249,
             36.3333
            ],
            [
             -96.9251,
             36.2465
            ],
            [
             -97.141,
             36.2464
            ],
            [
             -97.1407,
             36.1592
            ],
            [
             -97.3541,
             36.1591
            ],
            [
             -97.3748,
             36.1643
            ],
            [
             -97.4608,
             36.1645
            ],
            [
             -97.4616,
             36.5936
            ]
           ]
          ],
          "type": "Polygon"
         },
         "properties": {
          "AFFGEOID": "0500000US40103",
          "COUNTYFP": "103",
          "COUNTYNS": "01101839",
          "GEOID": "40103",
          "LSAD": "06",
          "NAME": "Noble",
          "STATEFP": "40"
         },
         "type": "Feature"
        },
        {
         "geometry": {
          "coordinates": [
           [
            [
             -97.1411,
             35.7244
            ],
            [
             -97.1406,
             35.942
            ],
            [
             -96.6211,
             35.9415
            ],
            [
             -96.6206,
             35.639
            ],
            [
             -96.6249,
             35.4627
            ],
            [
             -97.1415,
             35.464
            ],
            [
             -97.1411,
             35.7244
            ]
           ]
          ],
          "type": "Polygon"
         },
         "properties": {
          "AFFGEOID": "0500000US40081",
          "COUNTYFP": "081",
          "COUNTYNS": "01101828",
          "GEOID": "40081",
          "LSAD": "06",
          "NAME": "Lincoln",
          "STATEFP": "40"
         },
         "type": "Feature"
        },
        {
         "geometry": {
          "coordinates": [
           [
            [
             -95.7794,
             34.5066
            ],
            [
             -95.6717,
             34.5068
            ],
            [
             -95.672,
             34.5939
            ],
            [
             -95.5143,
             34.5942
            ],
            [
             -95.5145,
             34.6811
            ],
            [
             -95.0596,
             34.6807
            ],
            [
             -94.9378,
             34.6809
            ],
            [
             -94.9376,
             34.5068
            ],
            [
             -95.0467,
             34.5072
            ],
            [
             -95.0466,
             34.2437
            ],
            [
             -95.1512,
             34.2439
            ],
            [
             -95.1565,
             34.157
            ],
            [
             -95.7794,
             34.1567
            ],
            [
             -95.7794,
             34.5066
            ]
           ]
          ],
          "type": "Polygon"
         },
         "properties": {
          "AFFGEOID": "0500000US40127",
          "COUNTYFP": "127",
          "COUNTYNS": "01101851",
          "GEOID": "40127",
          "LSAD": "06",
          "NAME": "Pushmataha",
          "STATEFP": "40"
         },
         "type": "Feature"
        },
        {
         "geometry": {
          "coordinates": [
           [
            [
             -98.1392,
             34.2898
            ],
            [
             -97.5626,
             34.2892
            ],
            [
             -97.5608,
             34.0711
            ],
            [
             -97.5368,
             33.9839
            ],
            [
             -97.5612,
             33.8991
            ],
            [
             -97.5962,
             33.9221
            ],
            [
             -97.6091,
             33.9681
            ],
            [
             -97.6718,
             33.9914
            ],
            [
             -97.7598,
             33.9252
            ],
            [
             -97.8035,
             33.8802
            ],
            [
             -97.8658,
             33.8494
            ],
            [
             -97.9512,
             33.8784
            ],
            [
             -97.9519,
             33.8912
            ],
            [
             -97.9537,
             33.9244
            ],
            [
             -97.9476,
             33.9911
            ],
            [
             -98.0057,
             33.996
            ],
            [
             -98.0828,
             34.0024
            ],
            [
             -98.0991,
             34.0486
            ],
            [
             -98.0993,
             34.1043
            ],
            [
             -98.1234,
             34.1545
            ],
            [
             -98.1385,
             34.1412
            ],
            [
             -98.1392,
             34.2898
            ]
           ]
          ],
          "type": "Polygon"
         },
         "properties": {
          "AFFGEOID": "0500000US40067",
          "COUNTYFP": "067",
          "COUNTYNS": "01101821",
          "GEOID": "40067",
          "LSAD": "06",
          "NAME": "Jefferson",
          "STATEFP": "40"
         },
         "type": "Feature"
        },
        {
         "geometry": {
          "coordinates": [
           [
            [
             -98.1418,
             34.6812
            ],
            [
             -98.0891,
             34.6811
            ],
            [
             -97.6684,
             34.6813
            ],
            [
             -97.5628,
             34.6811
            ],
            [
             -97.5623,
             34.507
            ],
            [
             -97.5626,
             34.2892
            ],
            [
             -98.1392,
             34.2898
            ],
            [
             -98.1393,
             34.4893
            ],
            [
             -98.1421,
             34.507
            ],
            [
             -98.1418,
             34.6812
            ]
           ]
          ],
          "type": "Polygon"
         },
         "properties": {
          "AFFGEOID": "0500000US40137",
          "COUNTYFP": "137",
          "COUNTYNS": "01101856",
          "GEOID": "40137",
          "LSAD": "06",
          "NAME": "Stephens",
          "STATEFP": "40"
         },
         "type": "Feature"
        },
        {
         "geometry": {
          "coordinates": [
           [
            [
             -98.5447,
             36.9985
            ],
            [
             -98.3541,
             36.998
            ],
            [
             -98.3471,
             36.998
            ],
            [
             -98.112,
             36.9982
            ],
            [
             -98.1094,
             36.6106
            ],
            [
             -98.1043,
             36.5936
            ],
            [
             -98.1044,
             36.4631
            ],
            [
             -98.5336,
             36.4632
            ],
            [
             -98.5447,
             36.9985
            ]
           ]
          ],
          "type": "Polygon"
         },
         "properties": {
          "AFFGEOID": "0500000US40003",
          "COUNTYFP": "003",
          "COUNTYNS": "01101789",
          "GEOID": "40003",
          "LSAD": "06",
          "NAME": "Alfalfa",
          "STATEFP": "40"
         },
         "type": "Feature"
        },
        {
         "geometry": {
          "coordinates": [
           [
            [
             -100.0032,
             36.5932
            ],
            [
             -99.6056,
             36.5928
            ],
            [
             -99.5961,
             36.1641
            ],
            [
             -99.3821,
             36.1643
            ],
            [
             -99.381,
             36.0129
            ],
            [
             -99.4958,
             35.9787
            ],
            [
             -99.5585,
             35.866
            ],
            [
             -99.6198,
             35.8421
            ],
            [
             -99.7171,
             35.8598
            ],
            [
             -99.8014,
             35.9106
            ],
            [
             -99.8094,
             36
            ],
            [
             -99.8883,
             35.9878
            ],
            [
             -99.9251,
             35.9137
            ],
            [
             -100.0004,
             35.8809
            ],
            [
             -100.0004,
             36.0557
            ],
            [
             -100.0004,
             36.4997
            ],
            [
             -100.0038,
             36.4997
            ],
            [
             -100.0032,
             36.5932
            ]
           ]
          ],
          "type": "Polygon"
         },
         "properties": {
          "AFFGEOID": "0500000US40045",
          "COUNTYFP": "045",
          "COUNTYNS": "01101810",
          "GEOID": "40045",
          "LSAD": "06",
          "NAME": "Ellis",
          "STATEFP": "40"
         },
         "type": "Feature"
        },
        {
         "geometry": {
          "coordinates": [
           [
            [
             -97.5623,
             34.507
            ],
            [
             -97.3521,
             34.5068
            ],
            [
             -97.3522,
             34.3762
            ],
            [
             -97.0365,
             34.3754
            ],
            [
             -97.0287,
             34.3326
            ],
            [
             -96.9335,
             34.3327
            ],
            [
             -96.9337,
             34.1726
            ],
            [
             -96.9684,
             34.1726
            ],
            [
             -96.9696,
             34.071
            ],
            [
             -97.5608,
             34.0711
            ],
            [
             -97.5626,
             34.2892
            ],
            [
             -97.5623,
             34.507
            ]
           ]
          ],
          "type": "Polygon"
         },
         "properties": {
          "AFFGEOID": "0500000US40019",
          "COUNTYFP": "019",
          "COUNTYNS": "01101797",
          "GEOID": "40019",
          "LSAD": "06",
          "NAME": "Carter",
          "STATEFP": "40"
         },
         "type": "Feature"
        },
        {
         "geometry": {
          "coordinates": [
           [
            [
             -98.096,
             35.3778
            ],
            [
             -97.9551,
             35.346
            ],
            [
             -97.8628,
             35.3618
            ],
            [
             -97.8337,
             35.3354
            ],
            [
             -97.7902,
             35.333
            ],
            [
             -97.7718,
             35.3457
            ],
            [
             -97.6716,
             35.3359
            ],
            [
             -97.6706,
             34.873
            ],
            [
             -97.6681,
             34.8552
            ],
            [
             -97.6684,
             34.6813
            ],
            [
             -98.0891,
             34.6811
            ],
            [
             -98.089,
             34.8348
            ],
            [
             -98.0926,
             34.8549
            ],
            [
             -98.096,
             35.3778
            ]
           ]
          ],
          "type": "Polygon"
         },
         "properties": {
          "AFFGEOID": "0500000US40051",
          "COUNTYFP": "051",
          "COUNTYNS": "01101813",
          "GEOID": "40051",
          "LSAD": "06",
          "NAME": "Grady",
          "STATEFP": "40"
         },
         "type": "Feature"
        },
        {
         "geometry": {
          "coordinates": [
           [
            [
             -97.6714,
             35.3772
            ],
            [
             -97.4236,
             35.3773
            ],
            [
             -97.3178,
             35.3773
            ],
            [
             -97.1421,
             35.3769
            ],
            [
             -97.1423,
             34.9282
            ],
            [
             -97.3338,
             34.9589
            ],
            [
             -97.3542,
             35.0767
            ],
            [
             -97.4071,
             35.1381
            ],
            [
             -97.5415,
             35.2142
            ],
            [
             -97.557,
             35.2884
            ],
            [
             -97.6715,
             35.3375
            ],
            [
             -97.6714,
             35.3772
            ]
           ]
          ],
          "type": "Polygon"
         },
         "properties": {
          "AFFGEOID": "0500000US40027",
          "COUNTYFP": "027",
          "COUNTYNS": "01101801",
          "GEOID": "40027",
          "LSAD": "06",
          "NAME": "Cleveland",
          "STATEFP": "40"
         },
         "type": "Feature"
        },
        {
         "geometry": {
          "coordinates": [
           [
            [
             -97.6715,
             35.3375
            ],
            [
             -97.557,
             35.2884
            ],
            [
             -97.5415,
             35.2142
            ],
            [
             -97.4071,
             35.1381
            ],
            [
             -97.3542,
             35.0767
            ],
            [
             -97.3338,
             34.9589
            ],
            [
             -97.1423,
             34.9282
            ],
            [
             -97.0159,
             34.9073
            ],
            [
             -96.9306,
             34.9644
            ],
            [
             -96.9308,
             34.8751
            ],
            [
             -96.9325,
             34.8545
            ],
            [
             -97.6681,
             34.8552
            ],
            [
             -97.6706,
             34.873
            ],
            [
             -97.6716,
             35.3359
            ],
            [
             -97.6715,
             35.3375
            ]
           ]
          ],
          "type": "Polygon"
         },
         "properties": {
          "AFFGEOID": "0500000US40087",
          "COUNTYFP": "087",
          "COUNTYNS": "01101834",
          "GEOID": "40087",
          "LSAD": "06",
          "NAME": "McClain",
          "STATEFP": "40"
         },
         "type": "Feature"
        },
        {
         "geometry": {
          "coordinates": [
           [
            [
             -97.0641,
             36.6842
            ],
            [
             -96.9319,
             36.6861
            ],
            [
             -96.8895,
             36.7512
            ],
            [
             -96.7524,
             36.7821
            ],
            [
             -96.7498,
             36.999
            ],
            [
             -96.5256,
             36.9987
            ],
            [
             -96.5003,
             36.9986
            ],
            [
             -96.2176,
             36.9991
            ],
            [
             -96.0008,
             36.9992
            ],
            [
             -96.0012,
             36.4237
            ],
            [
             -96.0011,
             36.1613
            ],
            [
             -96.2683,
             36.162
            ],
            [
             -96.2566,
             36.2257
            ],
            [
             -96.3267,
             36.2266
            ],
            [
             -96.4338,
             36.2859
            ],
            [
             -96.4577,
             36.3327
            ],
            [
             -96.5152,
             36.2983
            ],
            [
             -96.5735,
             36.3157
            ],
            [
             -96.5187,
             36.3776
            ],
            [
             -96.5757,
             36.3743
            ],
            [
             -96.6357,
             36.4259
            ],
            [
             -96.7158,
             36.4431
            ],
            [
             -96.7062,
             36.4776
            ],
            [
             -96.7536,
             36.5626
            ],
            [
             -96.821,
             36.5388
            ],
            [
             -96.8753,
             36.4709
            ],
            [
             -96.9402,
             36.4555
            ],
            [
             -97.0098,
             36.5069
            ],
            [
             -96.888,
             36.5749
            ],
            [
             -96.9128,
             36.5989
            ],
            [
             -97.0574,
             36.5936
            ],
            [
             -97.0641,
             36.6842
            ]
           ]
          ],
          "type": "Polygon"
         },
         "properties": {
          "AFFGEOID": "0500000US40113",
          "COUNTYFP": "113",
          "COUNTYNS": "01101844",
          "GEOID": "40113",
          "LSAD": "06",
          "NAME": "Osage",
          "STATEFP": "40"
         },
         "type": "Feature"
        },
        {
         "geometry": {
          "coordinates": [
           [
            [
             -95.2787,
             35.9641
            ],
            [
             -95.2079,
             36.0747
            ],
            [
             -95.1184,
             36.0745
            ],
            [
             -95.1185,
             36.1616
            ],
            [
             -95.0113,
             36.1618
            ],
            [
             -94.7973,
             36.1614
            ],
            [
             -94.8073,
             35.6386
            ],
            [
             -95.1275,
             35.6389
            ],
            [
             -95.1272,
             35.8128
            ],
            [
             -95.2657,
             35.8133
            ],
            [
             -95.2315,
             35.8512
            ],
            [
             -95.2787,
             35.9641
            ]
           ]
          ],
          "type": "Polygon"
         },
         "properties": {
          "AFFGEOID": "0500000US40021",
          "COUNTYFP": "021",
          "COUNTYNS": "01101798",
          "GEOID": "40021",
          "LSAD": "06",
          "NAME": "Cherokee",
          "STATEFP": "40"
         },
         "type": "Feature"
        }
       ],
       "type": "FeatureCollection"
      },
      "text/html": [
       "<table class=\"dataframe\">\n",
       "<caption>A sf: 77 × 8</caption>\n",
       "<thead>\n",
       "\t<tr><th scope=col>STATEFP</th><th scope=col>COUNTYFP</th><th scope=col>COUNTYNS</th><th scope=col>AFFGEOID</th><th scope=col>GEOID</th><th scope=col>NAME</th><th scope=col>LSAD</th><th scope=col>geometry</th></tr>\n",
       "\t<tr><th scope=col>&lt;chr&gt;</th><th scope=col>&lt;chr&gt;</th><th scope=col>&lt;chr&gt;</th><th scope=col>&lt;chr&gt;</th><th scope=col>&lt;chr&gt;</th><th scope=col>&lt;chr&gt;</th><th scope=col>&lt;chr&gt;</th><th scope=col>&lt;POLYGON [arc_degree]&gt;</th></tr>\n",
       "</thead>\n",
       "<tbody>\n",
       "\t<tr><td>40</td><td>077</td><td>01101826</td><td>0500000US40077</td><td>40077</td><td>Latimer    </td><td>06</td><td>POLYGON ((-95.50766 35.0292...</td></tr>\n",
       "\t<tr><td>40</td><td>025</td><td>01101800</td><td>0500000US40025</td><td>40025</td><td>Cimarron   </td><td>06</td><td>POLYGON ((-103.0025 36.6751...</td></tr>\n",
       "\t<tr><td>40</td><td>011</td><td>01101793</td><td>0500000US40011</td><td>40011</td><td>Blaine     </td><td>06</td><td>POLYGON ((-98.6369 36.16489...</td></tr>\n",
       "\t<tr><td>40</td><td>107</td><td>01101841</td><td>0500000US40107</td><td>40107</td><td>Okfuskee   </td><td>06</td><td>POLYGON ((-96.62486 35.4627...</td></tr>\n",
       "\t<tr><td>40</td><td>105</td><td>01101840</td><td>0500000US40105</td><td>40105</td><td>Nowata     </td><td>06</td><td>POLYGON ((-95.80982 36.9419...</td></tr>\n",
       "\t<tr><td>40</td><td>153</td><td>01101864</td><td>0500000US40153</td><td>40153</td><td>Woodward   </td><td>06</td><td>POLYGON ((-99.60556 36.5927...</td></tr>\n",
       "\t<tr><td>40</td><td>001</td><td>01101788</td><td>0500000US40001</td><td>40001</td><td>Adair      </td><td>06</td><td>POLYGON ((-94.79728 36.1613...</td></tr>\n",
       "\t<tr><td>40</td><td>053</td><td>01101814</td><td>0500000US40053</td><td>40053</td><td>Grant      </td><td>06</td><td>POLYGON ((-98.11199 36.9982...</td></tr>\n",
       "\t<tr><td>40</td><td>059</td><td>01101817</td><td>0500000US40059</td><td>40059</td><td>Harper     </td><td>06</td><td>POLYGON ((-100.0026 37.0016...</td></tr>\n",
       "\t<tr><td>40</td><td>073</td><td>01101824</td><td>0500000US40073</td><td>40073</td><td>Kingfisher </td><td>06</td><td>POLYGON ((-98.21054 36.1648...</td></tr>\n",
       "\t<tr><td>40</td><td>129</td><td>01101852</td><td>0500000US40129</td><td>40129</td><td>Roger Mills</td><td>06</td><td>POLYGON ((-100.0004 35.8809...</td></tr>\n",
       "\t<tr><td>40</td><td>015</td><td>01101795</td><td>0500000US40015</td><td>40015</td><td>Caddo      </td><td>06</td><td>POLYGON ((-98.62315 35.5516...</td></tr>\n",
       "\t<tr><td>40</td><td>097</td><td>01101833</td><td>0500000US40097</td><td>40097</td><td>Mayes      </td><td>06</td><td>POLYGON ((-95.43561 36.5101...</td></tr>\n",
       "\t<tr><td>40</td><td>033</td><td>01101804</td><td>0500000US40033</td><td>40033</td><td>Cotton     </td><td>06</td><td>POLYGON ((-98.66196 34.4059...</td></tr>\n",
       "\t<tr><td>40</td><td>147</td><td>01101861</td><td>0500000US40147</td><td>40147</td><td>Washington </td><td>06</td><td>POLYGON ((-96.00081 36.9992...</td></tr>\n",
       "\t<tr><td>40</td><td>041</td><td>01101808</td><td>0500000US40041</td><td>40041</td><td>Delaware   </td><td>06</td><td>POLYGON ((-95.00573 36.5098...</td></tr>\n",
       "\t<tr><td>40</td><td>109</td><td>01101842</td><td>0500000US40109</td><td>40109</td><td>Oklahoma   </td><td>06</td><td>POLYGON ((-97.67403 35.7259...</td></tr>\n",
       "\t<tr><td>40</td><td>057</td><td>01101816</td><td>0500000US40057</td><td>40057</td><td>Harmon     </td><td>06</td><td>POLYGON ((-100.0004 35.0303...</td></tr>\n",
       "\t<tr><td>40</td><td>133</td><td>01101854</td><td>0500000US40133</td><td>40133</td><td>Seminole   </td><td>06</td><td>POLYGON ((-96.77638 35.4114...</td></tr>\n",
       "\t<tr><td>40</td><td>093</td><td>01101831</td><td>0500000US40093</td><td>40093</td><td>Major      </td><td>06</td><td>POLYGON ((-98.96033 36.5069...</td></tr>\n",
       "\t<tr><td>40</td><td>031</td><td>01101803</td><td>0500000US40031</td><td>40031</td><td>Comanche   </td><td>06</td><td>POLYGON ((-98.82601 34.5944...</td></tr>\n",
       "\t<tr><td>40</td><td>063</td><td>01101819</td><td>0500000US40063</td><td>40063</td><td>Hughes     </td><td>06</td><td>POLYGON ((-96.49043 35.1158...</td></tr>\n",
       "\t<tr><td>40</td><td>075</td><td>01101825</td><td>0500000US40075</td><td>40075</td><td>Kiowa      </td><td>06</td><td>POLYGON ((-99.40929 35.1145...</td></tr>\n",
       "\t<tr><td>40</td><td>099</td><td>01101837</td><td>0500000US40099</td><td>40099</td><td>Murray     </td><td>06</td><td>POLYGON ((-97.35211 34.5067...</td></tr>\n",
       "\t<tr><td>40</td><td>141</td><td>01101858</td><td>0500000US40141</td><td>40141</td><td>Tillman    </td><td>06</td><td>POLYGON ((-99.23792 34.4266...</td></tr>\n",
       "\t<tr><td>40</td><td>083</td><td>01101829</td><td>0500000US40083</td><td>40083</td><td>Logan      </td><td>06</td><td>POLYGON ((-97.67562 36.1646...</td></tr>\n",
       "\t<tr><td>40</td><td>069</td><td>01101822</td><td>0500000US40069</td><td>40069</td><td>Johnston   </td><td>06</td><td>POLYGON ((-96.93346 34.3326...</td></tr>\n",
       "\t<tr><td>40</td><td>071</td><td>01101823</td><td>0500000US40071</td><td>40071</td><td>Kay        </td><td>06</td><td>POLYGON ((-97.46235 36.9988...</td></tr>\n",
       "\t<tr><td>40</td><td>009</td><td>01101792</td><td>0500000US40009</td><td>40009</td><td>Beckham    </td><td>06</td><td>POLYGON ((-100.0004 35.4223...</td></tr>\n",
       "\t<tr><td>40</td><td>111</td><td>01101843</td><td>0500000US40111</td><td>40111</td><td>Okmulgee   </td><td>06</td><td>POLYGON ((-96.19256 35.6390...</td></tr>\n",
       "\t<tr><td>...</td><td>...</td><td>...</td><td>...</td><td>...</td><td>...</td><td>...</td><td>...</td></tr>\n",
       "\t<tr><td>40</td><td>123</td><td>01101849</td><td>0500000US40123</td><td>40123</td><td>Pontotoc  </td><td>06</td><td>POLYGON ((-96.93247 34.8544...</td></tr>\n",
       "\t<tr><td>40</td><td>061</td><td>01101818</td><td>0500000US40061</td><td>40061</td><td>Haskell   </td><td>06</td><td>POLYGON ((-95.45125 35.2960...</td></tr>\n",
       "\t<tr><td>40</td><td>115</td><td>01101845</td><td>0500000US40115</td><td>40115</td><td>Ottawa    </td><td>06</td><td>POLYGON ((-95.00762 36.9995...</td></tr>\n",
       "\t<tr><td>40</td><td>039</td><td>01101807</td><td>0500000US40039</td><td>40039</td><td>Custer    </td><td>06</td><td>POLYGON ((-99.37582 35.8121...</td></tr>\n",
       "\t<tr><td>40</td><td>085</td><td>01101830</td><td>0500000US40085</td><td>40085</td><td>Love      </td><td>06</td><td>POLYGON ((-97.56124 33.8990...</td></tr>\n",
       "\t<tr><td>40</td><td>043</td><td>01101809</td><td>0500000US40043</td><td>40043</td><td>Dewey     </td><td>06</td><td>POLYGON ((-99.38207 36.1643...</td></tr>\n",
       "\t<tr><td>40</td><td>017</td><td>01101796</td><td>0500000US40017</td><td>40017</td><td>Canadian  </td><td>06</td><td>POLYGON ((-98.31337 35.7252...</td></tr>\n",
       "\t<tr><td>40</td><td>095</td><td>01101832</td><td>0500000US40095</td><td>40095</td><td>Marshall  </td><td>06</td><td>POLYGON ((-96.96841 34.1726...</td></tr>\n",
       "\t<tr><td>40</td><td>151</td><td>01101863</td><td>0500000US40151</td><td>40151</td><td>Woods     </td><td>06</td><td>POLYGON ((-99.40702 36.9995...</td></tr>\n",
       "\t<tr><td>40</td><td>047</td><td>01101811</td><td>0500000US40047</td><td>40047</td><td>Garfield  </td><td>06</td><td>POLYGON ((-98.10429 36.5935...</td></tr>\n",
       "\t<tr><td>40</td><td>101</td><td>01101838</td><td>0500000US40101</td><td>40101</td><td>Muskogee  </td><td>06</td><td>POLYGON ((-95.76617 35.8564...</td></tr>\n",
       "\t<tr><td>40</td><td>135</td><td>01101855</td><td>0500000US40135</td><td>40135</td><td>Sequoyah  </td><td>06</td><td>POLYGON ((-95.12746 35.6388...</td></tr>\n",
       "\t<tr><td>40</td><td>023</td><td>01101799</td><td>0500000US40023</td><td>40023</td><td>Choctaw   </td><td>06</td><td>POLYGON ((-95.99158 34.1568...</td></tr>\n",
       "\t<tr><td>40</td><td>145</td><td>01101860</td><td>0500000US40145</td><td>40145</td><td>Wagoner   </td><td>06</td><td>POLYGON ((-95.81996 35.8559...</td></tr>\n",
       "\t<tr><td>40</td><td>007</td><td>01101791</td><td>0500000US40007</td><td>40007</td><td>Beaver    </td><td>06</td><td>POLYGON ((-100.9455 36.9982...</td></tr>\n",
       "\t<tr><td>40</td><td>149</td><td>01101862</td><td>0500000US40149</td><td>40149</td><td>Washita   </td><td>06</td><td>POLYGON ((-99.36422 35.4653...</td></tr>\n",
       "\t<tr><td>40</td><td>037</td><td>01101806</td><td>0500000US40037</td><td>40037</td><td>Creek     </td><td>06</td><td>POLYGON ((-96.62144 36.1599...</td></tr>\n",
       "\t<tr><td>40</td><td>103</td><td>01101839</td><td>0500000US40103</td><td>40103</td><td>Noble     </td><td>06</td><td>POLYGON ((-97.4616 36.59364...</td></tr>\n",
       "\t<tr><td>40</td><td>081</td><td>01101828</td><td>0500000US40081</td><td>40081</td><td>Lincoln   </td><td>06</td><td>POLYGON ((-97.14107 35.7244...</td></tr>\n",
       "\t<tr><td>40</td><td>127</td><td>01101851</td><td>0500000US40127</td><td>40127</td><td>Pushmataha</td><td>06</td><td>POLYGON ((-95.77942 34.5065...</td></tr>\n",
       "\t<tr><td>40</td><td>067</td><td>01101821</td><td>0500000US40067</td><td>40067</td><td>Jefferson </td><td>06</td><td>POLYGON ((-98.13923 34.2897...</td></tr>\n",
       "\t<tr><td>40</td><td>137</td><td>01101856</td><td>0500000US40137</td><td>40137</td><td>Stephens  </td><td>06</td><td>POLYGON ((-98.1418 34.68116...</td></tr>\n",
       "\t<tr><td>40</td><td>003</td><td>01101789</td><td>0500000US40003</td><td>40003</td><td>Alfalfa   </td><td>06</td><td>POLYGON ((-98.54466 36.9985...</td></tr>\n",
       "\t<tr><td>40</td><td>045</td><td>01101810</td><td>0500000US40045</td><td>40045</td><td>Ellis     </td><td>06</td><td>POLYGON ((-100.0032 36.5932...</td></tr>\n",
       "\t<tr><td>40</td><td>019</td><td>01101797</td><td>0500000US40019</td><td>40019</td><td>Carter    </td><td>06</td><td>POLYGON ((-97.56232 34.5070...</td></tr>\n",
       "\t<tr><td>40</td><td>051</td><td>01101813</td><td>0500000US40051</td><td>40051</td><td>Grady     </td><td>06</td><td>POLYGON ((-98.09601 35.3777...</td></tr>\n",
       "\t<tr><td>40</td><td>027</td><td>01101801</td><td>0500000US40027</td><td>40027</td><td>Cleveland </td><td>06</td><td>POLYGON ((-97.67137 35.3771...</td></tr>\n",
       "\t<tr><td>40</td><td>087</td><td>01101834</td><td>0500000US40087</td><td>40087</td><td>McClain   </td><td>06</td><td>POLYGON ((-97.67153 35.3375...</td></tr>\n",
       "\t<tr><td>40</td><td>113</td><td>01101844</td><td>0500000US40113</td><td>40113</td><td>Osage     </td><td>06</td><td>POLYGON ((-97.06411 36.6842...</td></tr>\n",
       "\t<tr><td>40</td><td>021</td><td>01101798</td><td>0500000US40021</td><td>40021</td><td>Cherokee  </td><td>06</td><td>POLYGON ((-95.2787 35.9641,...</td></tr>\n",
       "</tbody>\n",
       "</table>\n"
      ],
      "text/latex": [
       "A sf: 77 × 8\n",
       "\\begin{tabular}{llllllll}\n",
       " STATEFP & COUNTYFP & COUNTYNS & AFFGEOID & GEOID & NAME & LSAD & geometry\\\\\n",
       " <chr> & <chr> & <chr> & <chr> & <chr> & <chr> & <chr> & <POLYGON {[}arc\\_degree{]}>\\\\\n",
       "\\hline\n",
       "\t 40 & 077 & 01101826 & 0500000US40077 & 40077 & Latimer     & 06 & POLYGON ((-95.50766 35.0292...\\\\\n",
       "\t 40 & 025 & 01101800 & 0500000US40025 & 40025 & Cimarron    & 06 & POLYGON ((-103.0025 36.6751...\\\\\n",
       "\t 40 & 011 & 01101793 & 0500000US40011 & 40011 & Blaine      & 06 & POLYGON ((-98.6369 36.16489...\\\\\n",
       "\t 40 & 107 & 01101841 & 0500000US40107 & 40107 & Okfuskee    & 06 & POLYGON ((-96.62486 35.4627...\\\\\n",
       "\t 40 & 105 & 01101840 & 0500000US40105 & 40105 & Nowata      & 06 & POLYGON ((-95.80982 36.9419...\\\\\n",
       "\t 40 & 153 & 01101864 & 0500000US40153 & 40153 & Woodward    & 06 & POLYGON ((-99.60556 36.5927...\\\\\n",
       "\t 40 & 001 & 01101788 & 0500000US40001 & 40001 & Adair       & 06 & POLYGON ((-94.79728 36.1613...\\\\\n",
       "\t 40 & 053 & 01101814 & 0500000US40053 & 40053 & Grant       & 06 & POLYGON ((-98.11199 36.9982...\\\\\n",
       "\t 40 & 059 & 01101817 & 0500000US40059 & 40059 & Harper      & 06 & POLYGON ((-100.0026 37.0016...\\\\\n",
       "\t 40 & 073 & 01101824 & 0500000US40073 & 40073 & Kingfisher  & 06 & POLYGON ((-98.21054 36.1648...\\\\\n",
       "\t 40 & 129 & 01101852 & 0500000US40129 & 40129 & Roger Mills & 06 & POLYGON ((-100.0004 35.8809...\\\\\n",
       "\t 40 & 015 & 01101795 & 0500000US40015 & 40015 & Caddo       & 06 & POLYGON ((-98.62315 35.5516...\\\\\n",
       "\t 40 & 097 & 01101833 & 0500000US40097 & 40097 & Mayes       & 06 & POLYGON ((-95.43561 36.5101...\\\\\n",
       "\t 40 & 033 & 01101804 & 0500000US40033 & 40033 & Cotton      & 06 & POLYGON ((-98.66196 34.4059...\\\\\n",
       "\t 40 & 147 & 01101861 & 0500000US40147 & 40147 & Washington  & 06 & POLYGON ((-96.00081 36.9992...\\\\\n",
       "\t 40 & 041 & 01101808 & 0500000US40041 & 40041 & Delaware    & 06 & POLYGON ((-95.00573 36.5098...\\\\\n",
       "\t 40 & 109 & 01101842 & 0500000US40109 & 40109 & Oklahoma    & 06 & POLYGON ((-97.67403 35.7259...\\\\\n",
       "\t 40 & 057 & 01101816 & 0500000US40057 & 40057 & Harmon      & 06 & POLYGON ((-100.0004 35.0303...\\\\\n",
       "\t 40 & 133 & 01101854 & 0500000US40133 & 40133 & Seminole    & 06 & POLYGON ((-96.77638 35.4114...\\\\\n",
       "\t 40 & 093 & 01101831 & 0500000US40093 & 40093 & Major       & 06 & POLYGON ((-98.96033 36.5069...\\\\\n",
       "\t 40 & 031 & 01101803 & 0500000US40031 & 40031 & Comanche    & 06 & POLYGON ((-98.82601 34.5944...\\\\\n",
       "\t 40 & 063 & 01101819 & 0500000US40063 & 40063 & Hughes      & 06 & POLYGON ((-96.49043 35.1158...\\\\\n",
       "\t 40 & 075 & 01101825 & 0500000US40075 & 40075 & Kiowa       & 06 & POLYGON ((-99.40929 35.1145...\\\\\n",
       "\t 40 & 099 & 01101837 & 0500000US40099 & 40099 & Murray      & 06 & POLYGON ((-97.35211 34.5067...\\\\\n",
       "\t 40 & 141 & 01101858 & 0500000US40141 & 40141 & Tillman     & 06 & POLYGON ((-99.23792 34.4266...\\\\\n",
       "\t 40 & 083 & 01101829 & 0500000US40083 & 40083 & Logan       & 06 & POLYGON ((-97.67562 36.1646...\\\\\n",
       "\t 40 & 069 & 01101822 & 0500000US40069 & 40069 & Johnston    & 06 & POLYGON ((-96.93346 34.3326...\\\\\n",
       "\t 40 & 071 & 01101823 & 0500000US40071 & 40071 & Kay         & 06 & POLYGON ((-97.46235 36.9988...\\\\\n",
       "\t 40 & 009 & 01101792 & 0500000US40009 & 40009 & Beckham     & 06 & POLYGON ((-100.0004 35.4223...\\\\\n",
       "\t 40 & 111 & 01101843 & 0500000US40111 & 40111 & Okmulgee    & 06 & POLYGON ((-96.19256 35.6390...\\\\\n",
       "\t ... & ... & ... & ... & ... & ... & ... & ...\\\\\n",
       "\t 40 & 123 & 01101849 & 0500000US40123 & 40123 & Pontotoc   & 06 & POLYGON ((-96.93247 34.8544...\\\\\n",
       "\t 40 & 061 & 01101818 & 0500000US40061 & 40061 & Haskell    & 06 & POLYGON ((-95.45125 35.2960...\\\\\n",
       "\t 40 & 115 & 01101845 & 0500000US40115 & 40115 & Ottawa     & 06 & POLYGON ((-95.00762 36.9995...\\\\\n",
       "\t 40 & 039 & 01101807 & 0500000US40039 & 40039 & Custer     & 06 & POLYGON ((-99.37582 35.8121...\\\\\n",
       "\t 40 & 085 & 01101830 & 0500000US40085 & 40085 & Love       & 06 & POLYGON ((-97.56124 33.8990...\\\\\n",
       "\t 40 & 043 & 01101809 & 0500000US40043 & 40043 & Dewey      & 06 & POLYGON ((-99.38207 36.1643...\\\\\n",
       "\t 40 & 017 & 01101796 & 0500000US40017 & 40017 & Canadian   & 06 & POLYGON ((-98.31337 35.7252...\\\\\n",
       "\t 40 & 095 & 01101832 & 0500000US40095 & 40095 & Marshall   & 06 & POLYGON ((-96.96841 34.1726...\\\\\n",
       "\t 40 & 151 & 01101863 & 0500000US40151 & 40151 & Woods      & 06 & POLYGON ((-99.40702 36.9995...\\\\\n",
       "\t 40 & 047 & 01101811 & 0500000US40047 & 40047 & Garfield   & 06 & POLYGON ((-98.10429 36.5935...\\\\\n",
       "\t 40 & 101 & 01101838 & 0500000US40101 & 40101 & Muskogee   & 06 & POLYGON ((-95.76617 35.8564...\\\\\n",
       "\t 40 & 135 & 01101855 & 0500000US40135 & 40135 & Sequoyah   & 06 & POLYGON ((-95.12746 35.6388...\\\\\n",
       "\t 40 & 023 & 01101799 & 0500000US40023 & 40023 & Choctaw    & 06 & POLYGON ((-95.99158 34.1568...\\\\\n",
       "\t 40 & 145 & 01101860 & 0500000US40145 & 40145 & Wagoner    & 06 & POLYGON ((-95.81996 35.8559...\\\\\n",
       "\t 40 & 007 & 01101791 & 0500000US40007 & 40007 & Beaver     & 06 & POLYGON ((-100.9455 36.9982...\\\\\n",
       "\t 40 & 149 & 01101862 & 0500000US40149 & 40149 & Washita    & 06 & POLYGON ((-99.36422 35.4653...\\\\\n",
       "\t 40 & 037 & 01101806 & 0500000US40037 & 40037 & Creek      & 06 & POLYGON ((-96.62144 36.1599...\\\\\n",
       "\t 40 & 103 & 01101839 & 0500000US40103 & 40103 & Noble      & 06 & POLYGON ((-97.4616 36.59364...\\\\\n",
       "\t 40 & 081 & 01101828 & 0500000US40081 & 40081 & Lincoln    & 06 & POLYGON ((-97.14107 35.7244...\\\\\n",
       "\t 40 & 127 & 01101851 & 0500000US40127 & 40127 & Pushmataha & 06 & POLYGON ((-95.77942 34.5065...\\\\\n",
       "\t 40 & 067 & 01101821 & 0500000US40067 & 40067 & Jefferson  & 06 & POLYGON ((-98.13923 34.2897...\\\\\n",
       "\t 40 & 137 & 01101856 & 0500000US40137 & 40137 & Stephens   & 06 & POLYGON ((-98.1418 34.68116...\\\\\n",
       "\t 40 & 003 & 01101789 & 0500000US40003 & 40003 & Alfalfa    & 06 & POLYGON ((-98.54466 36.9985...\\\\\n",
       "\t 40 & 045 & 01101810 & 0500000US40045 & 40045 & Ellis      & 06 & POLYGON ((-100.0032 36.5932...\\\\\n",
       "\t 40 & 019 & 01101797 & 0500000US40019 & 40019 & Carter     & 06 & POLYGON ((-97.56232 34.5070...\\\\\n",
       "\t 40 & 051 & 01101813 & 0500000US40051 & 40051 & Grady      & 06 & POLYGON ((-98.09601 35.3777...\\\\\n",
       "\t 40 & 027 & 01101801 & 0500000US40027 & 40027 & Cleveland  & 06 & POLYGON ((-97.67137 35.3771...\\\\\n",
       "\t 40 & 087 & 01101834 & 0500000US40087 & 40087 & McClain    & 06 & POLYGON ((-97.67153 35.3375...\\\\\n",
       "\t 40 & 113 & 01101844 & 0500000US40113 & 40113 & Osage      & 06 & POLYGON ((-97.06411 36.6842...\\\\\n",
       "\t 40 & 021 & 01101798 & 0500000US40021 & 40021 & Cherokee   & 06 & POLYGON ((-95.2787 35.9641,...\\\\\n",
       "\\end{tabular}\n"
      ],
      "text/markdown": [
       "\n",
       "A sf: 77 × 8\n",
       "\n",
       "| STATEFP &lt;chr&gt; | COUNTYFP &lt;chr&gt; | COUNTYNS &lt;chr&gt; | AFFGEOID &lt;chr&gt; | GEOID &lt;chr&gt; | NAME &lt;chr&gt; | LSAD &lt;chr&gt; | geometry &lt;POLYGON [arc_degree]&gt; |\n",
       "|---|---|---|---|---|---|---|---|\n",
       "| 40 | 077 | 01101826 | 0500000US40077 | 40077 | Latimer     | 06 | POLYGON ((-95.50766 35.0292... |\n",
       "| 40 | 025 | 01101800 | 0500000US40025 | 40025 | Cimarron    | 06 | POLYGON ((-103.0025 36.6751... |\n",
       "| 40 | 011 | 01101793 | 0500000US40011 | 40011 | Blaine      | 06 | POLYGON ((-98.6369 36.16489... |\n",
       "| 40 | 107 | 01101841 | 0500000US40107 | 40107 | Okfuskee    | 06 | POLYGON ((-96.62486 35.4627... |\n",
       "| 40 | 105 | 01101840 | 0500000US40105 | 40105 | Nowata      | 06 | POLYGON ((-95.80982 36.9419... |\n",
       "| 40 | 153 | 01101864 | 0500000US40153 | 40153 | Woodward    | 06 | POLYGON ((-99.60556 36.5927... |\n",
       "| 40 | 001 | 01101788 | 0500000US40001 | 40001 | Adair       | 06 | POLYGON ((-94.79728 36.1613... |\n",
       "| 40 | 053 | 01101814 | 0500000US40053 | 40053 | Grant       | 06 | POLYGON ((-98.11199 36.9982... |\n",
       "| 40 | 059 | 01101817 | 0500000US40059 | 40059 | Harper      | 06 | POLYGON ((-100.0026 37.0016... |\n",
       "| 40 | 073 | 01101824 | 0500000US40073 | 40073 | Kingfisher  | 06 | POLYGON ((-98.21054 36.1648... |\n",
       "| 40 | 129 | 01101852 | 0500000US40129 | 40129 | Roger Mills | 06 | POLYGON ((-100.0004 35.8809... |\n",
       "| 40 | 015 | 01101795 | 0500000US40015 | 40015 | Caddo       | 06 | POLYGON ((-98.62315 35.5516... |\n",
       "| 40 | 097 | 01101833 | 0500000US40097 | 40097 | Mayes       | 06 | POLYGON ((-95.43561 36.5101... |\n",
       "| 40 | 033 | 01101804 | 0500000US40033 | 40033 | Cotton      | 06 | POLYGON ((-98.66196 34.4059... |\n",
       "| 40 | 147 | 01101861 | 0500000US40147 | 40147 | Washington  | 06 | POLYGON ((-96.00081 36.9992... |\n",
       "| 40 | 041 | 01101808 | 0500000US40041 | 40041 | Delaware    | 06 | POLYGON ((-95.00573 36.5098... |\n",
       "| 40 | 109 | 01101842 | 0500000US40109 | 40109 | Oklahoma    | 06 | POLYGON ((-97.67403 35.7259... |\n",
       "| 40 | 057 | 01101816 | 0500000US40057 | 40057 | Harmon      | 06 | POLYGON ((-100.0004 35.0303... |\n",
       "| 40 | 133 | 01101854 | 0500000US40133 | 40133 | Seminole    | 06 | POLYGON ((-96.77638 35.4114... |\n",
       "| 40 | 093 | 01101831 | 0500000US40093 | 40093 | Major       | 06 | POLYGON ((-98.96033 36.5069... |\n",
       "| 40 | 031 | 01101803 | 0500000US40031 | 40031 | Comanche    | 06 | POLYGON ((-98.82601 34.5944... |\n",
       "| 40 | 063 | 01101819 | 0500000US40063 | 40063 | Hughes      | 06 | POLYGON ((-96.49043 35.1158... |\n",
       "| 40 | 075 | 01101825 | 0500000US40075 | 40075 | Kiowa       | 06 | POLYGON ((-99.40929 35.1145... |\n",
       "| 40 | 099 | 01101837 | 0500000US40099 | 40099 | Murray      | 06 | POLYGON ((-97.35211 34.5067... |\n",
       "| 40 | 141 | 01101858 | 0500000US40141 | 40141 | Tillman     | 06 | POLYGON ((-99.23792 34.4266... |\n",
       "| 40 | 083 | 01101829 | 0500000US40083 | 40083 | Logan       | 06 | POLYGON ((-97.67562 36.1646... |\n",
       "| 40 | 069 | 01101822 | 0500000US40069 | 40069 | Johnston    | 06 | POLYGON ((-96.93346 34.3326... |\n",
       "| 40 | 071 | 01101823 | 0500000US40071 | 40071 | Kay         | 06 | POLYGON ((-97.46235 36.9988... |\n",
       "| 40 | 009 | 01101792 | 0500000US40009 | 40009 | Beckham     | 06 | POLYGON ((-100.0004 35.4223... |\n",
       "| 40 | 111 | 01101843 | 0500000US40111 | 40111 | Okmulgee    | 06 | POLYGON ((-96.19256 35.6390... |\n",
       "| ... | ... | ... | ... | ... | ... | ... | ... |\n",
       "| 40 | 123 | 01101849 | 0500000US40123 | 40123 | Pontotoc   | 06 | POLYGON ((-96.93247 34.8544... |\n",
       "| 40 | 061 | 01101818 | 0500000US40061 | 40061 | Haskell    | 06 | POLYGON ((-95.45125 35.2960... |\n",
       "| 40 | 115 | 01101845 | 0500000US40115 | 40115 | Ottawa     | 06 | POLYGON ((-95.00762 36.9995... |\n",
       "| 40 | 039 | 01101807 | 0500000US40039 | 40039 | Custer     | 06 | POLYGON ((-99.37582 35.8121... |\n",
       "| 40 | 085 | 01101830 | 0500000US40085 | 40085 | Love       | 06 | POLYGON ((-97.56124 33.8990... |\n",
       "| 40 | 043 | 01101809 | 0500000US40043 | 40043 | Dewey      | 06 | POLYGON ((-99.38207 36.1643... |\n",
       "| 40 | 017 | 01101796 | 0500000US40017 | 40017 | Canadian   | 06 | POLYGON ((-98.31337 35.7252... |\n",
       "| 40 | 095 | 01101832 | 0500000US40095 | 40095 | Marshall   | 06 | POLYGON ((-96.96841 34.1726... |\n",
       "| 40 | 151 | 01101863 | 0500000US40151 | 40151 | Woods      | 06 | POLYGON ((-99.40702 36.9995... |\n",
       "| 40 | 047 | 01101811 | 0500000US40047 | 40047 | Garfield   | 06 | POLYGON ((-98.10429 36.5935... |\n",
       "| 40 | 101 | 01101838 | 0500000US40101 | 40101 | Muskogee   | 06 | POLYGON ((-95.76617 35.8564... |\n",
       "| 40 | 135 | 01101855 | 0500000US40135 | 40135 | Sequoyah   | 06 | POLYGON ((-95.12746 35.6388... |\n",
       "| 40 | 023 | 01101799 | 0500000US40023 | 40023 | Choctaw    | 06 | POLYGON ((-95.99158 34.1568... |\n",
       "| 40 | 145 | 01101860 | 0500000US40145 | 40145 | Wagoner    | 06 | POLYGON ((-95.81996 35.8559... |\n",
       "| 40 | 007 | 01101791 | 0500000US40007 | 40007 | Beaver     | 06 | POLYGON ((-100.9455 36.9982... |\n",
       "| 40 | 149 | 01101862 | 0500000US40149 | 40149 | Washita    | 06 | POLYGON ((-99.36422 35.4653... |\n",
       "| 40 | 037 | 01101806 | 0500000US40037 | 40037 | Creek      | 06 | POLYGON ((-96.62144 36.1599... |\n",
       "| 40 | 103 | 01101839 | 0500000US40103 | 40103 | Noble      | 06 | POLYGON ((-97.4616 36.59364... |\n",
       "| 40 | 081 | 01101828 | 0500000US40081 | 40081 | Lincoln    | 06 | POLYGON ((-97.14107 35.7244... |\n",
       "| 40 | 127 | 01101851 | 0500000US40127 | 40127 | Pushmataha | 06 | POLYGON ((-95.77942 34.5065... |\n",
       "| 40 | 067 | 01101821 | 0500000US40067 | 40067 | Jefferson  | 06 | POLYGON ((-98.13923 34.2897... |\n",
       "| 40 | 137 | 01101856 | 0500000US40137 | 40137 | Stephens   | 06 | POLYGON ((-98.1418 34.68116... |\n",
       "| 40 | 003 | 01101789 | 0500000US40003 | 40003 | Alfalfa    | 06 | POLYGON ((-98.54466 36.9985... |\n",
       "| 40 | 045 | 01101810 | 0500000US40045 | 40045 | Ellis      | 06 | POLYGON ((-100.0032 36.5932... |\n",
       "| 40 | 019 | 01101797 | 0500000US40019 | 40019 | Carter     | 06 | POLYGON ((-97.56232 34.5070... |\n",
       "| 40 | 051 | 01101813 | 0500000US40051 | 40051 | Grady      | 06 | POLYGON ((-98.09601 35.3777... |\n",
       "| 40 | 027 | 01101801 | 0500000US40027 | 40027 | Cleveland  | 06 | POLYGON ((-97.67137 35.3771... |\n",
       "| 40 | 087 | 01101834 | 0500000US40087 | 40087 | McClain    | 06 | POLYGON ((-97.67153 35.3375... |\n",
       "| 40 | 113 | 01101844 | 0500000US40113 | 40113 | Osage      | 06 | POLYGON ((-97.06411 36.6842... |\n",
       "| 40 | 021 | 01101798 | 0500000US40021 | 40021 | Cherokee   | 06 | POLYGON ((-95.2787 35.9641,... |\n",
       "\n"
      ],
      "text/plain": [
       "    STATEFP COUNTYFP COUNTYNS AFFGEOID       GEOID NAME        LSAD\n",
       "1   40      077      01101826 0500000US40077 40077 Latimer     06  \n",
       "2   40      025      01101800 0500000US40025 40025 Cimarron    06  \n",
       "3   40      011      01101793 0500000US40011 40011 Blaine      06  \n",
       "4   40      107      01101841 0500000US40107 40107 Okfuskee    06  \n",
       "5   40      105      01101840 0500000US40105 40105 Nowata      06  \n",
       "6   40      153      01101864 0500000US40153 40153 Woodward    06  \n",
       "7   40      001      01101788 0500000US40001 40001 Adair       06  \n",
       "8   40      053      01101814 0500000US40053 40053 Grant       06  \n",
       "9   40      059      01101817 0500000US40059 40059 Harper      06  \n",
       "10  40      073      01101824 0500000US40073 40073 Kingfisher  06  \n",
       "11  40      129      01101852 0500000US40129 40129 Roger Mills 06  \n",
       "12  40      015      01101795 0500000US40015 40015 Caddo       06  \n",
       "13  40      097      01101833 0500000US40097 40097 Mayes       06  \n",
       "14  40      033      01101804 0500000US40033 40033 Cotton      06  \n",
       "15  40      147      01101861 0500000US40147 40147 Washington  06  \n",
       "16  40      041      01101808 0500000US40041 40041 Delaware    06  \n",
       "17  40      109      01101842 0500000US40109 40109 Oklahoma    06  \n",
       "18  40      057      01101816 0500000US40057 40057 Harmon      06  \n",
       "19  40      133      01101854 0500000US40133 40133 Seminole    06  \n",
       "20  40      093      01101831 0500000US40093 40093 Major       06  \n",
       "21  40      031      01101803 0500000US40031 40031 Comanche    06  \n",
       "22  40      063      01101819 0500000US40063 40063 Hughes      06  \n",
       "23  40      075      01101825 0500000US40075 40075 Kiowa       06  \n",
       "24  40      099      01101837 0500000US40099 40099 Murray      06  \n",
       "25  40      141      01101858 0500000US40141 40141 Tillman     06  \n",
       "26  40      083      01101829 0500000US40083 40083 Logan       06  \n",
       "27  40      069      01101822 0500000US40069 40069 Johnston    06  \n",
       "28  40      071      01101823 0500000US40071 40071 Kay         06  \n",
       "29  40      009      01101792 0500000US40009 40009 Beckham     06  \n",
       "30  40      111      01101843 0500000US40111 40111 Okmulgee    06  \n",
       "... ...     ...      ...      ...            ...   ...         ... \n",
       "48  40      123      01101849 0500000US40123 40123 Pontotoc    06  \n",
       "49  40      061      01101818 0500000US40061 40061 Haskell     06  \n",
       "50  40      115      01101845 0500000US40115 40115 Ottawa      06  \n",
       "51  40      039      01101807 0500000US40039 40039 Custer      06  \n",
       "52  40      085      01101830 0500000US40085 40085 Love        06  \n",
       "53  40      043      01101809 0500000US40043 40043 Dewey       06  \n",
       "54  40      017      01101796 0500000US40017 40017 Canadian    06  \n",
       "55  40      095      01101832 0500000US40095 40095 Marshall    06  \n",
       "56  40      151      01101863 0500000US40151 40151 Woods       06  \n",
       "57  40      047      01101811 0500000US40047 40047 Garfield    06  \n",
       "58  40      101      01101838 0500000US40101 40101 Muskogee    06  \n",
       "59  40      135      01101855 0500000US40135 40135 Sequoyah    06  \n",
       "60  40      023      01101799 0500000US40023 40023 Choctaw     06  \n",
       "61  40      145      01101860 0500000US40145 40145 Wagoner     06  \n",
       "62  40      007      01101791 0500000US40007 40007 Beaver      06  \n",
       "63  40      149      01101862 0500000US40149 40149 Washita     06  \n",
       "64  40      037      01101806 0500000US40037 40037 Creek       06  \n",
       "65  40      103      01101839 0500000US40103 40103 Noble       06  \n",
       "66  40      081      01101828 0500000US40081 40081 Lincoln     06  \n",
       "67  40      127      01101851 0500000US40127 40127 Pushmataha  06  \n",
       "68  40      067      01101821 0500000US40067 40067 Jefferson   06  \n",
       "69  40      137      01101856 0500000US40137 40137 Stephens    06  \n",
       "70  40      003      01101789 0500000US40003 40003 Alfalfa     06  \n",
       "71  40      045      01101810 0500000US40045 40045 Ellis       06  \n",
       "72  40      019      01101797 0500000US40019 40019 Carter      06  \n",
       "73  40      051      01101813 0500000US40051 40051 Grady       06  \n",
       "74  40      027      01101801 0500000US40027 40027 Cleveland   06  \n",
       "75  40      087      01101834 0500000US40087 40087 McClain     06  \n",
       "76  40      113      01101844 0500000US40113 40113 Osage       06  \n",
       "77  40      021      01101798 0500000US40021 40021 Cherokee    06  \n",
       "    geometry                      \n",
       "1   POLYGON ((-95.50766 35.0292...\n",
       "2   POLYGON ((-103.0025 36.6751...\n",
       "3   POLYGON ((-98.6369 36.16489...\n",
       "4   POLYGON ((-96.62486 35.4627...\n",
       "5   POLYGON ((-95.80982 36.9419...\n",
       "6   POLYGON ((-99.60556 36.5927...\n",
       "7   POLYGON ((-94.79728 36.1613...\n",
       "8   POLYGON ((-98.11199 36.9982...\n",
       "9   POLYGON ((-100.0026 37.0016...\n",
       "10  POLYGON ((-98.21054 36.1648...\n",
       "11  POLYGON ((-100.0004 35.8809...\n",
       "12  POLYGON ((-98.62315 35.5516...\n",
       "13  POLYGON ((-95.43561 36.5101...\n",
       "14  POLYGON ((-98.66196 34.4059...\n",
       "15  POLYGON ((-96.00081 36.9992...\n",
       "16  POLYGON ((-95.00573 36.5098...\n",
       "17  POLYGON ((-97.67403 35.7259...\n",
       "18  POLYGON ((-100.0004 35.0303...\n",
       "19  POLYGON ((-96.77638 35.4114...\n",
       "20  POLYGON ((-98.96033 36.5069...\n",
       "21  POLYGON ((-98.82601 34.5944...\n",
       "22  POLYGON ((-96.49043 35.1158...\n",
       "23  POLYGON ((-99.40929 35.1145...\n",
       "24  POLYGON ((-97.35211 34.5067...\n",
       "25  POLYGON ((-99.23792 34.4266...\n",
       "26  POLYGON ((-97.67562 36.1646...\n",
       "27  POLYGON ((-96.93346 34.3326...\n",
       "28  POLYGON ((-97.46235 36.9988...\n",
       "29  POLYGON ((-100.0004 35.4223...\n",
       "30  POLYGON ((-96.19256 35.6390...\n",
       "... ...                           \n",
       "48  POLYGON ((-96.93247 34.8544...\n",
       "49  POLYGON ((-95.45125 35.2960...\n",
       "50  POLYGON ((-95.00762 36.9995...\n",
       "51  POLYGON ((-99.37582 35.8121...\n",
       "52  POLYGON ((-97.56124 33.8990...\n",
       "53  POLYGON ((-99.38207 36.1643...\n",
       "54  POLYGON ((-98.31337 35.7252...\n",
       "55  POLYGON ((-96.96841 34.1726...\n",
       "56  POLYGON ((-99.40702 36.9995...\n",
       "57  POLYGON ((-98.10429 36.5935...\n",
       "58  POLYGON ((-95.76617 35.8564...\n",
       "59  POLYGON ((-95.12746 35.6388...\n",
       "60  POLYGON ((-95.99158 34.1568...\n",
       "61  POLYGON ((-95.81996 35.8559...\n",
       "62  POLYGON ((-100.9455 36.9982...\n",
       "63  POLYGON ((-99.36422 35.4653...\n",
       "64  POLYGON ((-96.62144 36.1599...\n",
       "65  POLYGON ((-97.4616 36.59364...\n",
       "66  POLYGON ((-97.14107 35.7244...\n",
       "67  POLYGON ((-95.77942 34.5065...\n",
       "68  POLYGON ((-98.13923 34.2897...\n",
       "69  POLYGON ((-98.1418 34.68116...\n",
       "70  POLYGON ((-98.54466 36.9985...\n",
       "71  POLYGON ((-100.0032 36.5932...\n",
       "72  POLYGON ((-97.56232 34.5070...\n",
       "73  POLYGON ((-98.09601 35.3777...\n",
       "74  POLYGON ((-97.67137 35.3771...\n",
       "75  POLYGON ((-97.67153 35.3375...\n",
       "76  POLYGON ((-97.06411 36.6842...\n",
       "77  POLYGON ((-95.2787 35.9641,..."
      ]
     },
     "metadata": {},
     "output_type": "display_data"
    }
   ],
   "source": [
    "okcounty <- st_read(\"C:/Users/77387/Desktop/Data_analysis_courses/R语言与地理信息处理/Chapter5/ok_counties.shp\", quiet = TRUE)\n",
    "okcounty"
   ]
  },
  {
   "cell_type": "code",
   "execution_count": 4,
   "id": "38e5f9a3",
   "metadata": {},
   "outputs": [
    {
     "data": {
      "text/html": [
       "<style>\n",
       ".list-inline {list-style: none; margin:0; padding: 0}\n",
       ".list-inline>li {display: inline-block}\n",
       ".list-inline>li:not(:last-child)::after {content: \"\\00b7\"; padding: 0 .5ex}\n",
       "</style>\n",
       "<ol class=list-inline><li>'sf'</li><li>'data.frame'</li></ol>\n"
      ],
      "text/latex": [
       "\\begin{enumerate*}\n",
       "\\item 'sf'\n",
       "\\item 'data.frame'\n",
       "\\end{enumerate*}\n"
      ],
      "text/markdown": [
       "1. 'sf'\n",
       "2. 'data.frame'\n",
       "\n",
       "\n"
      ],
      "text/plain": [
       "[1] \"sf\"         \"data.frame\""
      ]
     },
     "metadata": {},
     "output_type": "display_data"
    }
   ],
   "source": [
    "class(okcounty)"
   ]
  },
  {
   "cell_type": "markdown",
   "id": "710e88e7",
   "metadata": {},
   "source": [
    "#### 除了 sf 这种格式之外，另一种地理叫做 sp（“SpatialPolygonsDataFrame”）"
   ]
  },
  {
   "cell_type": "code",
   "execution_count": 5,
   "id": "8fbe64c5",
   "metadata": {},
   "outputs": [
    {
     "data": {
      "text/html": [
       "'SpatialPolygonsDataFrame'"
      ],
      "text/latex": [
       "'SpatialPolygonsDataFrame'"
      ],
      "text/markdown": [
       "'SpatialPolygonsDataFrame'"
      ],
      "text/plain": [
       "[1] \"SpatialPolygonsDataFrame\"\n",
       "attr(,\"package\")\n",
       "[1] \"sp\""
      ]
     },
     "metadata": {},
     "output_type": "display_data"
    }
   ],
   "source": [
    "# 将 sf 转化为 sp\n",
    "okcounty_sp <- as(okcounty, 'Spatial')\n",
    "class(okcounty_sp)"
   ]
  },
  {
   "cell_type": "code",
   "execution_count": 6,
   "id": "d755941f",
   "metadata": {},
   "outputs": [
    {
     "data": {
      "text/html": [
       "<style>\n",
       ".list-inline {list-style: none; margin:0; padding: 0}\n",
       ".list-inline>li {display: inline-block}\n",
       ".list-inline>li:not(:last-child)::after {content: \"\\00b7\"; padding: 0 .5ex}\n",
       "</style>\n",
       "<ol class=list-inline><li>'sf'</li><li>'data.frame'</li></ol>\n"
      ],
      "text/latex": [
       "\\begin{enumerate*}\n",
       "\\item 'sf'\n",
       "\\item 'data.frame'\n",
       "\\end{enumerate*}\n"
      ],
      "text/markdown": [
       "1. 'sf'\n",
       "2. 'data.frame'\n",
       "\n",
       "\n"
      ],
      "text/plain": [
       "[1] \"sf\"         \"data.frame\""
      ]
     },
     "metadata": {},
     "output_type": "display_data"
    }
   ],
   "source": [
    "# 将 sp 再转化回 sf\n",
    "okcounty_sf <- st_as_sf(okcounty_sp)\n",
    "class(okcounty_sf)"
   ]
  },
  {
   "cell_type": "markdown",
   "id": "6748eca3",
   "metadata": {},
   "source": [
    "##### 另外两个 sp 文件：\n",
    "\n",
    "##### ok_tornado_point.shp 和 ok_tornado_path.shp 包含 Oklahoma 历史上的龙卷风情况"
   ]
  },
  {
   "cell_type": "code",
   "execution_count": 7,
   "id": "c39e5b80",
   "metadata": {},
   "outputs": [
    {
     "data": {
      "application/geo+json": {
       "features": [
        {
         "geometry": {
          "coordinates": [
           -102.52,
           36.73
          ],
          "type": "Point"
         },
         "properties": {
          "closs": 0,
          "date": "1950-10-01",
          "dy": 1,
          "elat": 36.88,
          "elon": -102.3,
          "fat": 0,
          "fc": 0,
          "inj": 0,
          "len": 15.8,
          "loss": 4,
          "mag": 1,
          "mo": 10,
          "om": 192,
          "slat": 36.73,
          "slon": -102.52,
          "st": "OK",
          "stf": 40,
          "stn": 23,
          "time": "21:00:00",
          "tz": 3,
          "wid": 10,
          "yr": 1950
         },
         "type": "Feature"
        },
        {
         "geometry": {
          "coordinates": [
           -97.6,
           35.55
          ],
          "type": "Point"
         },
         "properties": {
          "closs": 0,
          "date": "1950-02-27",
          "dy": 27,
          "elat": 35.5501,
          "elon": -97.5999,
          "fat": 0,
          "fc": 0,
          "inj": 0,
          "len": 2,
          "loss": 4,
          "mag": 2,
          "mo": 2,
          "om": 27,
          "slat": 35.55,
          "slon": -97.6,
          "st": "OK",
          "stf": 40,
          "stn": 1,
          "time": "10:20:00",
          "tz": 3,
          "wid": 50,
          "yr": 1950
         },
         "type": "Feature"
        },
        {
         "geometry": {
          "coordinates": [
           -95.75,
           34.85
          ],
          "type": "Point"
         },
         "properties": {
          "closs": 0,
          "date": "1950-03-27",
          "dy": 27,
          "elat": 34.8501,
          "elon": -95.7499,
          "fat": 0,
          "fc": 0,
          "inj": 0,
          "len": 0.1,
          "loss": 3,
          "mag": 2,
          "mo": 3,
          "om": 38,
          "slat": 34.85,
          "slon": -95.75,
          "st": "OK",
          "stf": 40,
          "stn": 2,
          "time": "03:00:00",
          "tz": 3,
          "wid": 77,
          "yr": 1950
         },
         "type": "Feature"
        },
        {
         "geometry": {
          "coordinates": [
           -99.28,
           34.88
          ],
          "type": "Point"
         },
         "properties": {
          "closs": 0,
          "date": "1950-04-28",
          "dy": 28,
          "elat": 35.17,
          "elon": -99.2,
          "fat": 1,
          "fc": 0,
          "inj": 1,
          "len": 20.8,
          "loss": 5,
          "mag": 3,
          "mo": 4,
          "om": 57,
          "slat": 34.88,
          "slon": -99.28,
          "st": "OK",
          "stf": 40,
          "stn": 5,
          "time": "14:17:00",
          "tz": 3,
          "wid": 400,
          "yr": 1950
         },
         "type": "Feature"
        },
        {
         "geometry": {
          "coordinates": [
           -96.4,
           35.08
          ],
          "type": "Point"
         },
         "properties": {
          "closs": 0,
          "date": "1950-04-28",
          "dy": 28,
          "elat": 35.13,
          "elon": -96.35,
          "fat": 5,
          "fc": 0,
          "inj": 32,
          "len": 4.5,
          "loss": 5,
          "mag": 4,
          "mo": 4,
          "om": 60,
          "slat": 35.08,
          "slon": -96.4,
          "st": "OK",
          "stf": 40,
          "stn": 6,
          "time": "19:05:00",
          "tz": 3,
          "wid": 200,
          "yr": 1950
         },
         "type": "Feature"
        },
        {
         "geometry": {
          "coordinates": [
           -96.2,
           34.55
          ],
          "type": "Point"
         },
         "properties": {
          "closs": 0,
          "date": "1950-04-28",
          "dy": 28,
          "elat": 34.5501,
          "elon": -96.1999,
          "fat": 0,
          "fc": 0,
          "inj": 0,
          "len": 0.8,
          "loss": 4,
          "mag": 2,
          "mo": 4,
          "om": 61,
          "slat": 34.55,
          "slon": -96.2,
          "st": "OK",
          "stf": 40,
          "stn": 7,
          "time": "19:30:00",
          "tz": 3,
          "wid": 100,
          "yr": 1950
         },
         "type": "Feature"
        }
       ],
       "type": "FeatureCollection"
      },
      "text/html": [
       "<table class=\"dataframe\">\n",
       "<caption>A sf: 6 × 23</caption>\n",
       "<thead>\n",
       "\t<tr><th></th><th scope=col>om</th><th scope=col>yr</th><th scope=col>mo</th><th scope=col>dy</th><th scope=col>date</th><th scope=col>time</th><th scope=col>tz</th><th scope=col>st</th><th scope=col>stf</th><th scope=col>stn</th><th scope=col>geometry</th><th scope=col>...</th><th scope=col>loss</th><th scope=col>closs</th><th scope=col>slat</th><th scope=col>slon</th><th scope=col>elat</th><th scope=col>elon</th><th scope=col>len</th><th scope=col>wid</th><th scope=col>fc</th><th scope=col>geometry</th></tr>\n",
       "\t<tr><th></th><th scope=col>&lt;dbl&gt;</th><th scope=col>&lt;dbl&gt;</th><th scope=col>&lt;dbl&gt;</th><th scope=col>&lt;dbl&gt;</th><th scope=col>&lt;chr&gt;</th><th scope=col>&lt;chr&gt;</th><th scope=col>&lt;dbl&gt;</th><th scope=col>&lt;chr&gt;</th><th scope=col>&lt;dbl&gt;</th><th scope=col>&lt;dbl&gt;</th><th scope=col>...</th><th scope=col>&lt;dbl&gt;</th><th scope=col>&lt;dbl&gt;</th><th scope=col>&lt;dbl&gt;</th><th scope=col>&lt;dbl&gt;</th><th scope=col>&lt;dbl&gt;</th><th scope=col>&lt;dbl&gt;</th><th scope=col>&lt;dbl&gt;</th><th scope=col>&lt;dbl&gt;</th><th scope=col>&lt;dbl&gt;</th><th scope=col>&lt;POINT [arc_degree]&gt;</th></tr>\n",
       "</thead>\n",
       "<tbody>\n",
       "\t<tr><th scope=row>1</th><td>192</td><td>1950</td><td>10</td><td> 1</td><td>1950-10-01</td><td>21:00:00</td><td>3</td><td>OK</td><td>40</td><td>23</td><td>POINT (-102.52 36.73)</td><td>...</td><td>4</td><td>0</td><td>36.73</td><td>-102.52</td><td>36.8800</td><td>-102.3000</td><td>15.8</td><td> 10</td><td>0</td><td>POINT (-102.52 36.73)</td></tr>\n",
       "\t<tr><th scope=row>2</th><td> 27</td><td>1950</td><td> 2</td><td>27</td><td>1950-02-27</td><td>10:20:00</td><td>3</td><td>OK</td><td>40</td><td> 1</td><td>POINT (-97.6 35.55)</td><td>...</td><td>4</td><td>0</td><td>35.55</td><td> -97.60</td><td>35.5501</td><td> -97.5999</td><td> 2.0</td><td> 50</td><td>0</td><td>POINT (-97.6 35.55)</td></tr>\n",
       "\t<tr><th scope=row>3</th><td> 38</td><td>1950</td><td> 3</td><td>27</td><td>1950-03-27</td><td>03:00:00</td><td>3</td><td>OK</td><td>40</td><td> 2</td><td>POINT (-95.75 34.85)</td><td>...</td><td>3</td><td>0</td><td>34.85</td><td> -95.75</td><td>34.8501</td><td> -95.7499</td><td> 0.1</td><td> 77</td><td>0</td><td>POINT (-95.75 34.85)</td></tr>\n",
       "\t<tr><th scope=row>4</th><td> 57</td><td>1950</td><td> 4</td><td>28</td><td>1950-04-28</td><td>14:17:00</td><td>3</td><td>OK</td><td>40</td><td> 5</td><td>POINT (-99.28 34.88)</td><td>...</td><td>5</td><td>0</td><td>34.88</td><td> -99.28</td><td>35.1700</td><td> -99.2000</td><td>20.8</td><td>400</td><td>0</td><td>POINT (-99.28 34.88)</td></tr>\n",
       "\t<tr><th scope=row>5</th><td> 60</td><td>1950</td><td> 4</td><td>28</td><td>1950-04-28</td><td>19:05:00</td><td>3</td><td>OK</td><td>40</td><td> 6</td><td>POINT (-96.4 35.08)</td><td>...</td><td>5</td><td>0</td><td>35.08</td><td> -96.40</td><td>35.1300</td><td> -96.3500</td><td> 4.5</td><td>200</td><td>0</td><td>POINT (-96.4 35.08)</td></tr>\n",
       "\t<tr><th scope=row>6</th><td> 61</td><td>1950</td><td> 4</td><td>28</td><td>1950-04-28</td><td>19:30:00</td><td>3</td><td>OK</td><td>40</td><td> 7</td><td>POINT (-96.2 34.55)</td><td>...</td><td>4</td><td>0</td><td>34.55</td><td> -96.20</td><td>34.5501</td><td> -96.1999</td><td> 0.8</td><td>100</td><td>0</td><td>POINT (-96.2 34.55)</td></tr>\n",
       "</tbody>\n",
       "</table>\n"
      ],
      "text/latex": [
       "A sf: 6 × 23\n",
       "\\begin{tabular}{r|lllllllllllllllllllll}\n",
       "  & om & yr & mo & dy & date & time & tz & st & stf & stn & geometry & ... & loss & closs & slat & slon & elat & elon & len & wid & fc & geometry\\\\\n",
       "  & <dbl> & <dbl> & <dbl> & <dbl> & <chr> & <chr> & <dbl> & <chr> & <dbl> & <dbl> & ... & <dbl> & <dbl> & <dbl> & <dbl> & <dbl> & <dbl> & <dbl> & <dbl> & <dbl> & <POINT {[}arc\\_degree{]}>\\\\\n",
       "\\hline\n",
       "\t1 & 192 & 1950 & 10 &  1 & 1950-10-01 & 21:00:00 & 3 & OK & 40 & 23 & POINT (-102.52 36.73) & ... & 4 & 0 & 36.73 & -102.52 & 36.8800 & -102.3000 & 15.8 &  10 & 0 & POINT (-102.52 36.73)\\\\\n",
       "\t2 &  27 & 1950 &  2 & 27 & 1950-02-27 & 10:20:00 & 3 & OK & 40 &  1 & POINT (-97.6 35.55) & ... & 4 & 0 & 35.55 &  -97.60 & 35.5501 &  -97.5999 &  2.0 &  50 & 0 & POINT (-97.6 35.55)\\\\\n",
       "\t3 &  38 & 1950 &  3 & 27 & 1950-03-27 & 03:00:00 & 3 & OK & 40 &  2 & POINT (-95.75 34.85) & ... & 3 & 0 & 34.85 &  -95.75 & 34.8501 &  -95.7499 &  0.1 &  77 & 0 & POINT (-95.75 34.85)\\\\\n",
       "\t4 &  57 & 1950 &  4 & 28 & 1950-04-28 & 14:17:00 & 3 & OK & 40 &  5 & POINT (-99.28 34.88) & ... & 5 & 0 & 34.88 &  -99.28 & 35.1700 &  -99.2000 & 20.8 & 400 & 0 & POINT (-99.28 34.88)\\\\\n",
       "\t5 &  60 & 1950 &  4 & 28 & 1950-04-28 & 19:05:00 & 3 & OK & 40 &  6 & POINT (-96.4 35.08) & ... & 5 & 0 & 35.08 &  -96.40 & 35.1300 &  -96.3500 &  4.5 & 200 & 0 & POINT (-96.4 35.08)\\\\\n",
       "\t6 &  61 & 1950 &  4 & 28 & 1950-04-28 & 19:30:00 & 3 & OK & 40 &  7 & POINT (-96.2 34.55) & ... & 4 & 0 & 34.55 &  -96.20 & 34.5501 &  -96.1999 &  0.8 & 100 & 0 & POINT (-96.2 34.55)\\\\\n",
       "\\end{tabular}\n"
      ],
      "text/markdown": [
       "\n",
       "A sf: 6 × 23\n",
       "\n",
       "| <!--/--> | om &lt;dbl&gt; | yr &lt;dbl&gt; | mo &lt;dbl&gt; | dy &lt;dbl&gt; | date &lt;chr&gt; | time &lt;chr&gt; | tz &lt;dbl&gt; | st &lt;chr&gt; | stf &lt;dbl&gt; | stn &lt;dbl&gt; | geometry ... | ... &lt;dbl&gt; | loss &lt;dbl&gt; | closs &lt;dbl&gt; | slat &lt;dbl&gt; | slon &lt;dbl&gt; | elat &lt;dbl&gt; | elon &lt;dbl&gt; | len &lt;dbl&gt; | wid &lt;dbl&gt; | fc &lt;POINT [arc_degree]&gt; | geometry &lt;dbl&gt; |\n",
       "|---|---|---|---|---|---|---|---|---|---|---|---|---|---|---|---|---|---|---|---|---|---|\n",
       "| 1 | 192 | 1950 | 10 |  1 | 1950-10-01 | 21:00:00 | 3 | OK | 40 | 23 | POINT (-102.52 36.73) | ... | 4 | 0 | 36.73 | -102.52 | 36.8800 | -102.3000 | 15.8 |  10 | 0 | POINT (-102.52 36.73) |\n",
       "| 2 |  27 | 1950 |  2 | 27 | 1950-02-27 | 10:20:00 | 3 | OK | 40 |  1 | POINT (-97.6 35.55) | ... | 4 | 0 | 35.55 |  -97.60 | 35.5501 |  -97.5999 |  2.0 |  50 | 0 | POINT (-97.6 35.55) |\n",
       "| 3 |  38 | 1950 |  3 | 27 | 1950-03-27 | 03:00:00 | 3 | OK | 40 |  2 | POINT (-95.75 34.85) | ... | 3 | 0 | 34.85 |  -95.75 | 34.8501 |  -95.7499 |  0.1 |  77 | 0 | POINT (-95.75 34.85) |\n",
       "| 4 |  57 | 1950 |  4 | 28 | 1950-04-28 | 14:17:00 | 3 | OK | 40 |  5 | POINT (-99.28 34.88) | ... | 5 | 0 | 34.88 |  -99.28 | 35.1700 |  -99.2000 | 20.8 | 400 | 0 | POINT (-99.28 34.88) |\n",
       "| 5 |  60 | 1950 |  4 | 28 | 1950-04-28 | 19:05:00 | 3 | OK | 40 |  6 | POINT (-96.4 35.08) | ... | 5 | 0 | 35.08 |  -96.40 | 35.1300 |  -96.3500 |  4.5 | 200 | 0 | POINT (-96.4 35.08) |\n",
       "| 6 |  61 | 1950 |  4 | 28 | 1950-04-28 | 19:30:00 | 3 | OK | 40 |  7 | POINT (-96.2 34.55) | ... | 4 | 0 | 34.55 |  -96.20 | 34.5501 |  -96.1999 |  0.8 | 100 | 0 | POINT (-96.2 34.55) |\n",
       "\n"
      ],
      "text/plain": [
       "  om  yr   mo dy date       time     tz st stf stn geometry              ...\n",
       "1 192 1950 10  1 1950-10-01 21:00:00 3  OK 40  23  POINT (-102.52 36.73) ...\n",
       "2  27 1950  2 27 1950-02-27 10:20:00 3  OK 40   1  POINT (-97.6 35.55)   ...\n",
       "3  38 1950  3 27 1950-03-27 03:00:00 3  OK 40   2  POINT (-95.75 34.85)  ...\n",
       "4  57 1950  4 28 1950-04-28 14:17:00 3  OK 40   5  POINT (-99.28 34.88)  ...\n",
       "5  60 1950  4 28 1950-04-28 19:05:00 3  OK 40   6  POINT (-96.4 35.08)   ...\n",
       "6  61 1950  4 28 1950-04-28 19:30:00 3  OK 40   7  POINT (-96.2 34.55)   ...\n",
       "  loss closs slat  slon    elat    elon      len  wid fc geometry             \n",
       "1 4    0     36.73 -102.52 36.8800 -102.3000 15.8  10 0  POINT (-102.52 36.73)\n",
       "2 4    0     35.55  -97.60 35.5501  -97.5999  2.0  50 0  POINT (-97.6 35.55)  \n",
       "3 3    0     34.85  -95.75 34.8501  -95.7499  0.1  77 0  POINT (-95.75 34.85) \n",
       "4 5    0     34.88  -99.28 35.1700  -99.2000 20.8 400 0  POINT (-99.28 34.88) \n",
       "5 5    0     35.08  -96.40 35.1300  -96.3500  4.5 200 0  POINT (-96.4 35.08)  \n",
       "6 4    0     34.55  -96.20 34.5501  -96.1999  0.8 100 0  POINT (-96.2 34.55)  "
      ]
     },
     "metadata": {},
     "output_type": "display_data"
    }
   ],
   "source": [
    "# ok_tornado_point.shp 是点数据\n",
    "tpoint <- st_read(\"C:/Users/77387/Desktop/Data_analysis_courses/R语言与地理信息处理/Chapter5/ok_tornado_point.shp\", quiet = TRUE)\n",
    "head(tpoint)"
   ]
  },
  {
   "cell_type": "code",
   "execution_count": 8,
   "id": "958a1dd4",
   "metadata": {},
   "outputs": [
    {
     "data": {
      "application/geo+json": {
       "features": [
        {
         "geometry": {
          "coordinates": [
           [
            -102.52,
            36.73
           ],
           [
            -102.3,
            36.88
           ]
          ],
          "type": "LineString"
         },
         "properties": {
          "closs": 0,
          "date": "1950-10-01",
          "dy": 1,
          "elat": 36.88,
          "elon": -102.3,
          "fat": 0,
          "fc": 0,
          "inj": 0,
          "len": 15.8,
          "loss": 4,
          "mag": 1,
          "mo": 10,
          "om": 192,
          "slat": 36.73,
          "slon": -102.52,
          "st": "OK",
          "stf": 40,
          "stn": 23,
          "time": "21:00:00",
          "tz": 3,
          "wid": 10,
          "yr": 1950
         },
         "type": "Feature"
        },
        {
         "geometry": {
          "coordinates": [
           [
            -97.6,
            35.55
           ],
           [
            -97.5999,
            35.5501
           ]
          ],
          "type": "LineString"
         },
         "properties": {
          "closs": 0,
          "date": "1950-02-27",
          "dy": 27,
          "elat": 35.5501,
          "elon": -97.5999,
          "fat": 0,
          "fc": 0,
          "inj": 0,
          "len": 2,
          "loss": 4,
          "mag": 2,
          "mo": 2,
          "om": 27,
          "slat": 35.55,
          "slon": -97.6,
          "st": "OK",
          "stf": 40,
          "stn": 1,
          "time": "10:20:00",
          "tz": 3,
          "wid": 50,
          "yr": 1950
         },
         "type": "Feature"
        },
        {
         "geometry": {
          "coordinates": [
           [
            -95.75,
            34.85
           ],
           [
            -95.7499,
            34.8501
           ]
          ],
          "type": "LineString"
         },
         "properties": {
          "closs": 0,
          "date": "1950-03-27",
          "dy": 27,
          "elat": 34.8501,
          "elon": -95.7499,
          "fat": 0,
          "fc": 0,
          "inj": 0,
          "len": 0.1,
          "loss": 3,
          "mag": 2,
          "mo": 3,
          "om": 38,
          "slat": 34.85,
          "slon": -95.75,
          "st": "OK",
          "stf": 40,
          "stn": 2,
          "time": "03:00:00",
          "tz": 3,
          "wid": 77,
          "yr": 1950
         },
         "type": "Feature"
        },
        {
         "geometry": {
          "coordinates": [
           [
            -99.28,
            34.88
           ],
           [
            -99.2,
            35.17
           ]
          ],
          "type": "LineString"
         },
         "properties": {
          "closs": 0,
          "date": "1950-04-28",
          "dy": 28,
          "elat": 35.17,
          "elon": -99.2,
          "fat": 1,
          "fc": 0,
          "inj": 1,
          "len": 20.8,
          "loss": 5,
          "mag": 3,
          "mo": 4,
          "om": 57,
          "slat": 34.88,
          "slon": -99.28,
          "st": "OK",
          "stf": 40,
          "stn": 5,
          "time": "14:17:00",
          "tz": 3,
          "wid": 400,
          "yr": 1950
         },
         "type": "Feature"
        },
        {
         "geometry": {
          "coordinates": [
           [
            -96.4,
            35.08
           ],
           [
            -96.35,
            35.13
           ]
          ],
          "type": "LineString"
         },
         "properties": {
          "closs": 0,
          "date": "1950-04-28",
          "dy": 28,
          "elat": 35.13,
          "elon": -96.35,
          "fat": 5,
          "fc": 0,
          "inj": 32,
          "len": 4.5,
          "loss": 5,
          "mag": 4,
          "mo": 4,
          "om": 60,
          "slat": 35.08,
          "slon": -96.4,
          "st": "OK",
          "stf": 40,
          "stn": 6,
          "time": "19:05:00",
          "tz": 3,
          "wid": 200,
          "yr": 1950
         },
         "type": "Feature"
        },
        {
         "geometry": {
          "coordinates": [
           [
            -96.2,
            34.55
           ],
           [
            -96.1999,
            34.5501
           ]
          ],
          "type": "LineString"
         },
         "properties": {
          "closs": 0,
          "date": "1950-04-28",
          "dy": 28,
          "elat": 34.5501,
          "elon": -96.1999,
          "fat": 0,
          "fc": 0,
          "inj": 0,
          "len": 0.8,
          "loss": 4,
          "mag": 2,
          "mo": 4,
          "om": 61,
          "slat": 34.55,
          "slon": -96.2,
          "st": "OK",
          "stf": 40,
          "stn": 7,
          "time": "19:30:00",
          "tz": 3,
          "wid": 100,
          "yr": 1950
         },
         "type": "Feature"
        }
       ],
       "type": "FeatureCollection"
      },
      "text/html": [
       "<table class=\"dataframe\">\n",
       "<caption>A sf: 6 × 23</caption>\n",
       "<thead>\n",
       "\t<tr><th></th><th scope=col>om</th><th scope=col>yr</th><th scope=col>mo</th><th scope=col>dy</th><th scope=col>date</th><th scope=col>time</th><th scope=col>tz</th><th scope=col>st</th><th scope=col>stf</th><th scope=col>stn</th><th scope=col>geometry</th><th scope=col>...</th><th scope=col>loss</th><th scope=col>closs</th><th scope=col>slat</th><th scope=col>slon</th><th scope=col>elat</th><th scope=col>elon</th><th scope=col>len</th><th scope=col>wid</th><th scope=col>fc</th><th scope=col>geometry</th></tr>\n",
       "\t<tr><th></th><th scope=col>&lt;dbl&gt;</th><th scope=col>&lt;dbl&gt;</th><th scope=col>&lt;dbl&gt;</th><th scope=col>&lt;dbl&gt;</th><th scope=col>&lt;chr&gt;</th><th scope=col>&lt;chr&gt;</th><th scope=col>&lt;dbl&gt;</th><th scope=col>&lt;chr&gt;</th><th scope=col>&lt;dbl&gt;</th><th scope=col>&lt;dbl&gt;</th><th scope=col>...</th><th scope=col>&lt;dbl&gt;</th><th scope=col>&lt;dbl&gt;</th><th scope=col>&lt;dbl&gt;</th><th scope=col>&lt;dbl&gt;</th><th scope=col>&lt;dbl&gt;</th><th scope=col>&lt;dbl&gt;</th><th scope=col>&lt;dbl&gt;</th><th scope=col>&lt;dbl&gt;</th><th scope=col>&lt;dbl&gt;</th><th scope=col>&lt;LINESTRING [arc_degree]&gt;</th></tr>\n",
       "</thead>\n",
       "<tbody>\n",
       "\t<tr><th scope=row>1</th><td>192</td><td>1950</td><td>10</td><td> 1</td><td>1950-10-01</td><td>21:00:00</td><td>3</td><td>OK</td><td>40</td><td>23</td><td>LINESTRING (-102.52 36.73, ...</td><td>...</td><td>4</td><td>0</td><td>36.73</td><td>-102.52</td><td>36.8800</td><td>-102.3000</td><td>15.8</td><td> 10</td><td>0</td><td>LINESTRING (-102.52 36.73, ...</td></tr>\n",
       "\t<tr><th scope=row>2</th><td> 27</td><td>1950</td><td> 2</td><td>27</td><td>1950-02-27</td><td>10:20:00</td><td>3</td><td>OK</td><td>40</td><td> 1</td><td>LINESTRING (-97.6 35.55, -9...</td><td>...</td><td>4</td><td>0</td><td>35.55</td><td> -97.60</td><td>35.5501</td><td> -97.5999</td><td> 2.0</td><td> 50</td><td>0</td><td>LINESTRING (-97.6 35.55, -9...</td></tr>\n",
       "\t<tr><th scope=row>3</th><td> 38</td><td>1950</td><td> 3</td><td>27</td><td>1950-03-27</td><td>03:00:00</td><td>3</td><td>OK</td><td>40</td><td> 2</td><td>LINESTRING (-95.75 34.85, -...</td><td>...</td><td>3</td><td>0</td><td>34.85</td><td> -95.75</td><td>34.8501</td><td> -95.7499</td><td> 0.1</td><td> 77</td><td>0</td><td>LINESTRING (-95.75 34.85, -...</td></tr>\n",
       "\t<tr><th scope=row>4</th><td> 57</td><td>1950</td><td> 4</td><td>28</td><td>1950-04-28</td><td>14:17:00</td><td>3</td><td>OK</td><td>40</td><td> 5</td><td>LINESTRING (-99.28 34.88, -...</td><td>...</td><td>5</td><td>0</td><td>34.88</td><td> -99.28</td><td>35.1700</td><td> -99.2000</td><td>20.8</td><td>400</td><td>0</td><td>LINESTRING (-99.28 34.88, -...</td></tr>\n",
       "\t<tr><th scope=row>5</th><td> 60</td><td>1950</td><td> 4</td><td>28</td><td>1950-04-28</td><td>19:05:00</td><td>3</td><td>OK</td><td>40</td><td> 6</td><td>LINESTRING (-96.4 35.08, -9...</td><td>...</td><td>5</td><td>0</td><td>35.08</td><td> -96.40</td><td>35.1300</td><td> -96.3500</td><td> 4.5</td><td>200</td><td>0</td><td>LINESTRING (-96.4 35.08, -9...</td></tr>\n",
       "\t<tr><th scope=row>6</th><td> 61</td><td>1950</td><td> 4</td><td>28</td><td>1950-04-28</td><td>19:30:00</td><td>3</td><td>OK</td><td>40</td><td> 7</td><td>LINESTRING (-96.2 34.55, -9...</td><td>...</td><td>4</td><td>0</td><td>34.55</td><td> -96.20</td><td>34.5501</td><td> -96.1999</td><td> 0.8</td><td>100</td><td>0</td><td>LINESTRING (-96.2 34.55, -9...</td></tr>\n",
       "</tbody>\n",
       "</table>\n"
      ],
      "text/latex": [
       "A sf: 6 × 23\n",
       "\\begin{tabular}{r|lllllllllllllllllllll}\n",
       "  & om & yr & mo & dy & date & time & tz & st & stf & stn & geometry & ... & loss & closs & slat & slon & elat & elon & len & wid & fc & geometry\\\\\n",
       "  & <dbl> & <dbl> & <dbl> & <dbl> & <chr> & <chr> & <dbl> & <chr> & <dbl> & <dbl> & ... & <dbl> & <dbl> & <dbl> & <dbl> & <dbl> & <dbl> & <dbl> & <dbl> & <dbl> & <LINESTRING {[}arc\\_degree{]}>\\\\\n",
       "\\hline\n",
       "\t1 & 192 & 1950 & 10 &  1 & 1950-10-01 & 21:00:00 & 3 & OK & 40 & 23 & LINESTRING (-102.52 36.73, ... & ... & 4 & 0 & 36.73 & -102.52 & 36.8800 & -102.3000 & 15.8 &  10 & 0 & LINESTRING (-102.52 36.73, ...\\\\\n",
       "\t2 &  27 & 1950 &  2 & 27 & 1950-02-27 & 10:20:00 & 3 & OK & 40 &  1 & LINESTRING (-97.6 35.55, -9... & ... & 4 & 0 & 35.55 &  -97.60 & 35.5501 &  -97.5999 &  2.0 &  50 & 0 & LINESTRING (-97.6 35.55, -9...\\\\\n",
       "\t3 &  38 & 1950 &  3 & 27 & 1950-03-27 & 03:00:00 & 3 & OK & 40 &  2 & LINESTRING (-95.75 34.85, -... & ... & 3 & 0 & 34.85 &  -95.75 & 34.8501 &  -95.7499 &  0.1 &  77 & 0 & LINESTRING (-95.75 34.85, -...\\\\\n",
       "\t4 &  57 & 1950 &  4 & 28 & 1950-04-28 & 14:17:00 & 3 & OK & 40 &  5 & LINESTRING (-99.28 34.88, -... & ... & 5 & 0 & 34.88 &  -99.28 & 35.1700 &  -99.2000 & 20.8 & 400 & 0 & LINESTRING (-99.28 34.88, -...\\\\\n",
       "\t5 &  60 & 1950 &  4 & 28 & 1950-04-28 & 19:05:00 & 3 & OK & 40 &  6 & LINESTRING (-96.4 35.08, -9... & ... & 5 & 0 & 35.08 &  -96.40 & 35.1300 &  -96.3500 &  4.5 & 200 & 0 & LINESTRING (-96.4 35.08, -9...\\\\\n",
       "\t6 &  61 & 1950 &  4 & 28 & 1950-04-28 & 19:30:00 & 3 & OK & 40 &  7 & LINESTRING (-96.2 34.55, -9... & ... & 4 & 0 & 34.55 &  -96.20 & 34.5501 &  -96.1999 &  0.8 & 100 & 0 & LINESTRING (-96.2 34.55, -9...\\\\\n",
       "\\end{tabular}\n"
      ],
      "text/markdown": [
       "\n",
       "A sf: 6 × 23\n",
       "\n",
       "| <!--/--> | om &lt;dbl&gt; | yr &lt;dbl&gt; | mo &lt;dbl&gt; | dy &lt;dbl&gt; | date &lt;chr&gt; | time &lt;chr&gt; | tz &lt;dbl&gt; | st &lt;chr&gt; | stf &lt;dbl&gt; | stn &lt;dbl&gt; | geometry ... | ... &lt;dbl&gt; | loss &lt;dbl&gt; | closs &lt;dbl&gt; | slat &lt;dbl&gt; | slon &lt;dbl&gt; | elat &lt;dbl&gt; | elon &lt;dbl&gt; | len &lt;dbl&gt; | wid &lt;dbl&gt; | fc &lt;LINESTRING [arc_degree]&gt; | geometry &lt;dbl&gt; |\n",
       "|---|---|---|---|---|---|---|---|---|---|---|---|---|---|---|---|---|---|---|---|---|---|\n",
       "| 1 | 192 | 1950 | 10 |  1 | 1950-10-01 | 21:00:00 | 3 | OK | 40 | 23 | LINESTRING (-102.52 36.73, ... | ... | 4 | 0 | 36.73 | -102.52 | 36.8800 | -102.3000 | 15.8 |  10 | 0 | LINESTRING (-102.52 36.73, ... |\n",
       "| 2 |  27 | 1950 |  2 | 27 | 1950-02-27 | 10:20:00 | 3 | OK | 40 |  1 | LINESTRING (-97.6 35.55, -9... | ... | 4 | 0 | 35.55 |  -97.60 | 35.5501 |  -97.5999 |  2.0 |  50 | 0 | LINESTRING (-97.6 35.55, -9... |\n",
       "| 3 |  38 | 1950 |  3 | 27 | 1950-03-27 | 03:00:00 | 3 | OK | 40 |  2 | LINESTRING (-95.75 34.85, -... | ... | 3 | 0 | 34.85 |  -95.75 | 34.8501 |  -95.7499 |  0.1 |  77 | 0 | LINESTRING (-95.75 34.85, -... |\n",
       "| 4 |  57 | 1950 |  4 | 28 | 1950-04-28 | 14:17:00 | 3 | OK | 40 |  5 | LINESTRING (-99.28 34.88, -... | ... | 5 | 0 | 34.88 |  -99.28 | 35.1700 |  -99.2000 | 20.8 | 400 | 0 | LINESTRING (-99.28 34.88, -... |\n",
       "| 5 |  60 | 1950 |  4 | 28 | 1950-04-28 | 19:05:00 | 3 | OK | 40 |  6 | LINESTRING (-96.4 35.08, -9... | ... | 5 | 0 | 35.08 |  -96.40 | 35.1300 |  -96.3500 |  4.5 | 200 | 0 | LINESTRING (-96.4 35.08, -9... |\n",
       "| 6 |  61 | 1950 |  4 | 28 | 1950-04-28 | 19:30:00 | 3 | OK | 40 |  7 | LINESTRING (-96.2 34.55, -9... | ... | 4 | 0 | 34.55 |  -96.20 | 34.5501 |  -96.1999 |  0.8 | 100 | 0 | LINESTRING (-96.2 34.55, -9... |\n",
       "\n"
      ],
      "text/plain": [
       "  om  yr   mo dy date       time     tz st stf stn\n",
       "1 192 1950 10  1 1950-10-01 21:00:00 3  OK 40  23 \n",
       "2  27 1950  2 27 1950-02-27 10:20:00 3  OK 40   1 \n",
       "3  38 1950  3 27 1950-03-27 03:00:00 3  OK 40   2 \n",
       "4  57 1950  4 28 1950-04-28 14:17:00 3  OK 40   5 \n",
       "5  60 1950  4 28 1950-04-28 19:05:00 3  OK 40   6 \n",
       "6  61 1950  4 28 1950-04-28 19:30:00 3  OK 40   7 \n",
       "  geometry                       ... loss closs slat  slon    elat    elon     \n",
       "1 LINESTRING (-102.52 36.73, ... ... 4    0     36.73 -102.52 36.8800 -102.3000\n",
       "2 LINESTRING (-97.6 35.55, -9... ... 4    0     35.55  -97.60 35.5501  -97.5999\n",
       "3 LINESTRING (-95.75 34.85, -... ... 3    0     34.85  -95.75 34.8501  -95.7499\n",
       "4 LINESTRING (-99.28 34.88, -... ... 5    0     34.88  -99.28 35.1700  -99.2000\n",
       "5 LINESTRING (-96.4 35.08, -9... ... 5    0     35.08  -96.40 35.1300  -96.3500\n",
       "6 LINESTRING (-96.2 34.55, -9... ... 4    0     34.55  -96.20 34.5501  -96.1999\n",
       "  len  wid fc geometry                      \n",
       "1 15.8  10 0  LINESTRING (-102.52 36.73, ...\n",
       "2  2.0  50 0  LINESTRING (-97.6 35.55, -9...\n",
       "3  0.1  77 0  LINESTRING (-95.75 34.85, -...\n",
       "4 20.8 400 0  LINESTRING (-99.28 34.88, -...\n",
       "5  4.5 200 0  LINESTRING (-96.4 35.08, -9...\n",
       "6  0.8 100 0  LINESTRING (-96.2 34.55, -9..."
      ]
     },
     "metadata": {},
     "output_type": "display_data"
    }
   ],
   "source": [
    "# ok_tornado_path.shp 是线数据\n",
    "tpath <- st_read(\"C:/Users/77387/Desktop/Data_analysis_courses/R语言与地理信息处理/Chapter5/ok_tornado_path.shp\", quiet = TRUE)\n",
    "head(tpath)"
   ]
  },
  {
   "cell_type": "markdown",
   "id": "770f9b10",
   "metadata": {},
   "source": [
    "### 生成简单的地图"
   ]
  },
  {
   "cell_type": "code",
   "execution_count": 9,
   "id": "13807bac",
   "metadata": {},
   "outputs": [
    {
     "data": {
      "image/png": "[encoded data removed]",
      "text/plain": [
       "plot without title"
      ]
     },
     "metadata": {
      "image/png": {
       "height": 420,
       "width": 420
      }
     },
     "output_type": "display_data"
    }
   ],
   "source": [
    "# okcounty 提供检点的 边界\n",
    "ggplot(data = okcounty) +\n",
    "  geom_sf(fill = NA)"
   ]
  },
  {
   "cell_type": "code",
   "execution_count": 9,
   "id": "cb981857",
   "metadata": {},
   "outputs": [
    {
     "data": {
      "text/html": [
       "<style>\n",
       ".list-inline {list-style: none; margin:0; padding: 0}\n",
       ".list-inline>li {display: inline-block}\n",
       ".list-inline>li:not(:last-child)::after {content: \"\\00b7\"; padding: 0 .5ex}\n",
       "</style>\n",
       "<ol class=list-inline><li>'om'</li><li>'yr'</li><li>'mo'</li><li>'dy'</li><li>'date'</li><li>'time'</li><li>'tz'</li><li>'st'</li><li>'stf'</li><li>'stn'</li><li>'mag'</li><li>'inj'</li><li>'fat'</li><li>'loss'</li><li>'closs'</li><li>'slat'</li><li>'slon'</li><li>'elat'</li><li>'elon'</li><li>'len'</li><li>'wid'</li><li>'fc'</li><li>'geometry'</li></ol>\n"
      ],
      "text/latex": [
       "\\begin{enumerate*}\n",
       "\\item 'om'\n",
       "\\item 'yr'\n",
       "\\item 'mo'\n",
       "\\item 'dy'\n",
       "\\item 'date'\n",
       "\\item 'time'\n",
       "\\item 'tz'\n",
       "\\item 'st'\n",
       "\\item 'stf'\n",
       "\\item 'stn'\n",
       "\\item 'mag'\n",
       "\\item 'inj'\n",
       "\\item 'fat'\n",
       "\\item 'loss'\n",
       "\\item 'closs'\n",
       "\\item 'slat'\n",
       "\\item 'slon'\n",
       "\\item 'elat'\n",
       "\\item 'elon'\n",
       "\\item 'len'\n",
       "\\item 'wid'\n",
       "\\item 'fc'\n",
       "\\item 'geometry'\n",
       "\\end{enumerate*}\n"
      ],
      "text/markdown": [
       "1. 'om'\n",
       "2. 'yr'\n",
       "3. 'mo'\n",
       "4. 'dy'\n",
       "5. 'date'\n",
       "6. 'time'\n",
       "7. 'tz'\n",
       "8. 'st'\n",
       "9. 'stf'\n",
       "10. 'stn'\n",
       "11. 'mag'\n",
       "12. 'inj'\n",
       "13. 'fat'\n",
       "14. 'loss'\n",
       "15. 'closs'\n",
       "16. 'slat'\n",
       "17. 'slon'\n",
       "18. 'elat'\n",
       "19. 'elon'\n",
       "20. 'len'\n",
       "21. 'wid'\n",
       "22. 'fc'\n",
       "23. 'geometry'\n",
       "\n",
       "\n"
      ],
      "text/plain": [
       " [1] \"om\"       \"yr\"       \"mo\"       \"dy\"       \"date\"     \"time\"    \n",
       " [7] \"tz\"       \"st\"       \"stf\"      \"stn\"      \"mag\"      \"inj\"     \n",
       "[13] \"fat\"      \"loss\"     \"closs\"    \"slat\"     \"slon\"     \"elat\"    \n",
       "[19] \"elon\"     \"len\"      \"wid\"      \"fc\"       \"geometry\""
      ]
     },
     "metadata": {},
     "output_type": "display_data"
    }
   ],
   "source": [
    "names(tpoint)"
   ]
  },
  {
   "cell_type": "code",
   "execution_count": 10,
   "id": "2840e148",
   "metadata": {},
   "outputs": [
    {
     "data": {
      "text/html": [
       "<style>\n",
       ".list-inline {list-style: none; margin:0; padding: 0}\n",
       ".list-inline>li {display: inline-block}\n",
       ".list-inline>li:not(:last-child)::after {content: \"\\00b7\"; padding: 0 .5ex}\n",
       "</style>\n",
       "<ol class=list-inline><li>'om'</li><li>'yr'</li><li>'mo'</li><li>'dy'</li><li>'date'</li><li>'time'</li><li>'tz'</li><li>'st'</li><li>'stf'</li><li>'stn'</li><li>'mag'</li><li>'inj'</li><li>'fat'</li><li>'loss'</li><li>'closs'</li><li>'slat'</li><li>'slon'</li><li>'elat'</li><li>'elon'</li><li>'len'</li><li>'wid'</li><li>'fc'</li><li>'geometry'</li></ol>\n"
      ],
      "text/latex": [
       "\\begin{enumerate*}\n",
       "\\item 'om'\n",
       "\\item 'yr'\n",
       "\\item 'mo'\n",
       "\\item 'dy'\n",
       "\\item 'date'\n",
       "\\item 'time'\n",
       "\\item 'tz'\n",
       "\\item 'st'\n",
       "\\item 'stf'\n",
       "\\item 'stn'\n",
       "\\item 'mag'\n",
       "\\item 'inj'\n",
       "\\item 'fat'\n",
       "\\item 'loss'\n",
       "\\item 'closs'\n",
       "\\item 'slat'\n",
       "\\item 'slon'\n",
       "\\item 'elat'\n",
       "\\item 'elon'\n",
       "\\item 'len'\n",
       "\\item 'wid'\n",
       "\\item 'fc'\n",
       "\\item 'geometry'\n",
       "\\end{enumerate*}\n"
      ],
      "text/markdown": [
       "1. 'om'\n",
       "2. 'yr'\n",
       "3. 'mo'\n",
       "4. 'dy'\n",
       "5. 'date'\n",
       "6. 'time'\n",
       "7. 'tz'\n",
       "8. 'st'\n",
       "9. 'stf'\n",
       "10. 'stn'\n",
       "11. 'mag'\n",
       "12. 'inj'\n",
       "13. 'fat'\n",
       "14. 'loss'\n",
       "15. 'closs'\n",
       "16. 'slat'\n",
       "17. 'slon'\n",
       "18. 'elat'\n",
       "19. 'elon'\n",
       "20. 'len'\n",
       "21. 'wid'\n",
       "22. 'fc'\n",
       "23. 'geometry'\n",
       "\n",
       "\n"
      ],
      "text/plain": [
       " [1] \"om\"       \"yr\"       \"mo\"       \"dy\"       \"date\"     \"time\"    \n",
       " [7] \"tz\"       \"st\"       \"stf\"      \"stn\"      \"mag\"      \"inj\"     \n",
       "[13] \"fat\"      \"loss\"     \"closs\"    \"slat\"     \"slon\"     \"elat\"    \n",
       "[19] \"elon\"     \"len\"      \"wid\"      \"fc\"       \"geometry\""
      ]
     },
     "metadata": {},
     "output_type": "display_data"
    }
   ],
   "source": [
    "names(tpath)"
   ]
  },
  {
   "cell_type": "markdown",
   "id": "0e12eb78",
   "metadata": {},
   "source": [
    "##### 只取 2016 - 2021 的数据"
   ]
  },
  {
   "cell_type": "code",
   "execution_count": 11,
   "id": "48c1cb83",
   "metadata": {},
   "outputs": [],
   "source": [
    "tpoint_16_21 <- tpoint %>%\n",
    "  filter(yr >= 2016 & yr <= 2021) %>%\n",
    "  select(om, yr, date)\n",
    "tpath_16_21 <- tpath %>%\n",
    "  filter(yr >= 2016 & yr <= 2021) %>%\n",
    "  select(om, yr, date)"
   ]
  },
  {
   "cell_type": "code",
   "execution_count": 12,
   "id": "5e9d8314",
   "metadata": {},
   "outputs": [
    {
     "data": {
      "image/png": "[encoded data removed]",
      "text/plain": [
       "plot without title"
      ]
     },
     "metadata": {
      "image/png": {
       "height": 420,
       "width": 420
      }
     },
     "output_type": "display_data"
    }
   ],
   "source": [
    "# 可视化点数据：龙卷风出现的位置\n",
    "ggplot() +\n",
    "  geom_sf(data = okcounty, fill = NA) +\n",
    "  geom_sf(data = tpoint_16_21) +\n",
    "  theme_bw()"
   ]
  },
  {
   "cell_type": "code",
   "execution_count": 13,
   "id": "b2385e87",
   "metadata": {},
   "outputs": [
    {
     "data": {
      "image/png": "[encoded data removed]",
      "text/plain": [
       "plot without title"
      ]
     },
     "metadata": {
      "image/png": {
       "height": 420,
       "width": 420
      }
     },
     "output_type": "display_data"
    }
   ],
   "source": [
    "# 可视化线数据：龙卷风的轨迹\n",
    "ggplot() +\n",
    "  geom_sf(data = okcounty, fill = NA) +\n",
    "  geom_sf(data = tpath_16_21, \n",
    "          color = \"red\", \n",
    "          size = 1) +\n",
    "  theme_bw()"
   ]
  },
  {
   "cell_type": "code",
   "execution_count": 14,
   "id": "187c9949",
   "metadata": {},
   "outputs": [
    {
     "data": {
      "image/png": "[encoded data removed]",
      "text/plain": [
       "plot without title"
      ]
     },
     "metadata": {
      "image/png": {
       "height": 420,
       "width": 420
      }
     },
     "output_type": "display_data"
    }
   ],
   "source": [
    "# 针对不同年份加以区分\n",
    "ggplot() +\n",
    "  geom_sf(data = tpoint_16_21, \n",
    "          aes(color = as.factor(yr))) +\n",
    "  geom_sf(data = okcounty, fill = NA) +\n",
    "  scale_color_discrete(name = \"Year\") +\n",
    "  coord_sf(datum = NA) +\n",
    "  theme_void()"
   ]
  },
  {
   "cell_type": "code",
   "execution_count": 15,
   "id": "7d732500",
   "metadata": {},
   "outputs": [
    {
     "data": {
      "image/png": "[encoded data removed]",
      "text/plain": [
       "plot without title"
      ]
     },
     "metadata": {
      "image/png": {
       "height": 420,
       "width": 420
      }
     },
     "output_type": "display_data"
    }
   ],
   "source": [
    "# 铺平呈现不同年的情况\n",
    "ggplot() +\n",
    "  geom_sf(data = okcounty, \n",
    "          fill = NA, \n",
    "          color = \"gray\") +\n",
    "  geom_sf(data = tpoint_16_21, size = 0.75) +\n",
    "  facet_wrap(vars(yr), ncol = 2) +\n",
    "  coord_sf(datum = NA) +\n",
    "  theme_void()"
   ]
  },
  {
   "cell_type": "markdown",
   "id": "6192b8df",
   "metadata": {},
   "source": [
    "### 叠加矢量数据集（Overlaying Vector Datasets）\n",
    "\n",
    "如何基于地理信息把不同的数据集拼起来？\n",
    "\n",
    "使用 st_join() ，该函数可以基于地理信息，而非其他feature拼接数据\n",
    "\n",
    "下面我们拼接 tpoint_16_21 和 okcounty\n"
   ]
  },
  {
   "cell_type": "code",
   "execution_count": 19,
   "id": "901d6571",
   "metadata": {},
   "outputs": [
    {
     "data": {
      "application/geo+json": {
       "features": [
        {
         "geometry": {
          "coordinates": [
           -94.5042,
           35.6916
          ],
          "type": "Point"
         },
         "properties": {
          "AFFGEOID": "0500000US40001",
          "COUNTYFP": "001",
          "COUNTYNS": "01101788",
          "GEOID": "40001",
          "LSAD": "06",
          "NAME": "Adair",
          "STATEFP": "40",
          "date": "2016-03-23",
          "om": 613662,
          "yr": 2016
         },
         "type": "Feature"
        },
        {
         "geometry": {
          "coordinates": [
           -96.0151,
           36.2151
          ],
          "type": "Point"
         },
         "properties": {
          "AFFGEOID": "0500000US40113",
          "COUNTYFP": "113",
          "COUNTYNS": "01101844",
          "GEOID": "40113",
          "LSAD": "06",
          "NAME": "Osage",
          "STATEFP": "40",
          "date": "2016-03-30",
          "om": 613675,
          "yr": 2016
         },
         "type": "Feature"
        },
        {
         "geometry": {
          "coordinates": [
           -95.5523,
           36.7291
          ],
          "type": "Point"
         },
         "properties": {
          "AFFGEOID": "0500000US40105",
          "COUNTYFP": "105",
          "COUNTYNS": "01101840",
          "GEOID": "40105",
          "LSAD": "06",
          "NAME": "Nowata",
          "STATEFP": "40",
          "date": "2016-03-30",
          "om": 613676,
          "yr": 2016
         },
         "type": "Feature"
        }
       ],
       "type": "FeatureCollection"
      },
      "text/html": [
       "<table class=\"dataframe\">\n",
       "<caption>A sf: 3 × 11</caption>\n",
       "<thead>\n",
       "\t<tr><th></th><th scope=col>om</th><th scope=col>yr</th><th scope=col>date</th><th scope=col>STATEFP</th><th scope=col>COUNTYFP</th><th scope=col>COUNTYNS</th><th scope=col>AFFGEOID</th><th scope=col>GEOID</th><th scope=col>NAME</th><th scope=col>LSAD</th><th scope=col>geometry</th></tr>\n",
       "\t<tr><th></th><th scope=col>&lt;dbl&gt;</th><th scope=col>&lt;dbl&gt;</th><th scope=col>&lt;chr&gt;</th><th scope=col>&lt;chr&gt;</th><th scope=col>&lt;chr&gt;</th><th scope=col>&lt;chr&gt;</th><th scope=col>&lt;chr&gt;</th><th scope=col>&lt;chr&gt;</th><th scope=col>&lt;chr&gt;</th><th scope=col>&lt;chr&gt;</th><th scope=col>&lt;POINT [arc_degree]&gt;</th></tr>\n",
       "</thead>\n",
       "<tbody>\n",
       "\t<tr><th scope=row>1</th><td>613662</td><td>2016</td><td>2016-03-23</td><td>40</td><td>001</td><td>01101788</td><td>0500000US40001</td><td>40001</td><td>Adair </td><td>06</td><td>POINT (-94.5042 35.6916)</td></tr>\n",
       "\t<tr><th scope=row>2</th><td>613675</td><td>2016</td><td>2016-03-30</td><td>40</td><td>113</td><td>01101844</td><td>0500000US40113</td><td>40113</td><td>Osage </td><td>06</td><td>POINT (-96.0151 36.2151)</td></tr>\n",
       "\t<tr><th scope=row>3</th><td>613676</td><td>2016</td><td>2016-03-30</td><td>40</td><td>105</td><td>01101840</td><td>0500000US40105</td><td>40105</td><td>Nowata</td><td>06</td><td>POINT (-95.5523 36.7291)</td></tr>\n",
       "</tbody>\n",
       "</table>\n"
      ],
      "text/latex": [
       "A sf: 3 × 11\n",
       "\\begin{tabular}{r|lllllllllll}\n",
       "  & om & yr & date & STATEFP & COUNTYFP & COUNTYNS & AFFGEOID & GEOID & NAME & LSAD & geometry\\\\\n",
       "  & <dbl> & <dbl> & <chr> & <chr> & <chr> & <chr> & <chr> & <chr> & <chr> & <chr> & <POINT {[}arc\\_degree{]}>\\\\\n",
       "\\hline\n",
       "\t1 & 613662 & 2016 & 2016-03-23 & 40 & 001 & 01101788 & 0500000US40001 & 40001 & Adair  & 06 & POINT (-94.5042 35.6916)\\\\\n",
       "\t2 & 613675 & 2016 & 2016-03-30 & 40 & 113 & 01101844 & 0500000US40113 & 40113 & Osage  & 06 & POINT (-96.0151 36.2151)\\\\\n",
       "\t3 & 613676 & 2016 & 2016-03-30 & 40 & 105 & 01101840 & 0500000US40105 & 40105 & Nowata & 06 & POINT (-95.5523 36.7291)\\\\\n",
       "\\end{tabular}\n"
      ],
      "text/markdown": [
       "\n",
       "A sf: 3 × 11\n",
       "\n",
       "| <!--/--> | om &lt;dbl&gt; | yr &lt;dbl&gt; | date &lt;chr&gt; | STATEFP &lt;chr&gt; | COUNTYFP &lt;chr&gt; | COUNTYNS &lt;chr&gt; | AFFGEOID &lt;chr&gt; | GEOID &lt;chr&gt; | NAME &lt;chr&gt; | LSAD &lt;chr&gt; | geometry &lt;POINT [arc_degree]&gt; |\n",
       "|---|---|---|---|---|---|---|---|---|---|---|---|\n",
       "| 1 | 613662 | 2016 | 2016-03-23 | 40 | 001 | 01101788 | 0500000US40001 | 40001 | Adair  | 06 | POINT (-94.5042 35.6916) |\n",
       "| 2 | 613675 | 2016 | 2016-03-30 | 40 | 113 | 01101844 | 0500000US40113 | 40113 | Osage  | 06 | POINT (-96.0151 36.2151) |\n",
       "| 3 | 613676 | 2016 | 2016-03-30 | 40 | 105 | 01101840 | 0500000US40105 | 40105 | Nowata | 06 | POINT (-95.5523 36.7291) |\n",
       "\n"
      ],
      "text/plain": [
       "  om     yr   date       STATEFP COUNTYFP COUNTYNS AFFGEOID       GEOID NAME  \n",
       "1 613662 2016 2016-03-23 40      001      01101788 0500000US40001 40001 Adair \n",
       "2 613675 2016 2016-03-30 40      113      01101844 0500000US40113 40113 Osage \n",
       "3 613676 2016 2016-03-30 40      105      01101840 0500000US40105 40105 Nowata\n",
       "  LSAD geometry                \n",
       "1 06   POINT (-94.5042 35.6916)\n",
       "2 06   POINT (-96.0151 36.2151)\n",
       "3 06   POINT (-95.5523 36.7291)"
      ]
     },
     "metadata": {},
     "output_type": "display_data"
    }
   ],
   "source": [
    "countypnt <- st_join(tpoint_16_21, okcounty)\n",
    "head(countypnt,3)"
   ]
  },
  {
   "cell_type": "code",
   "execution_count": 20,
   "id": "c91961a8",
   "metadata": {},
   "outputs": [
    {
     "data": {
      "application/geo+json": {
       "features": [
        {
         "geometry": {
          "coordinates": [
           -94.5042,
           35.6916
          ],
          "type": "Point"
         },
         "properties": {
          "date": "2016-03-23",
          "om": 613662,
          "yr": 2016
         },
         "type": "Feature"
        },
        {
         "geometry": {
          "coordinates": [
           -96.0151,
           36.2151
          ],
          "type": "Point"
         },
         "properties": {
          "date": "2016-03-30",
          "om": 613675,
          "yr": 2016
         },
         "type": "Feature"
        },
        {
         "geometry": {
          "coordinates": [
           -95.5523,
           36.7291
          ],
          "type": "Point"
         },
         "properties": {
          "date": "2016-03-30",
          "om": 613676,
          "yr": 2016
         },
         "type": "Feature"
        }
       ],
       "type": "FeatureCollection"
      },
      "text/html": [
       "<table class=\"dataframe\">\n",
       "<caption>A sf: 3 × 4</caption>\n",
       "<thead>\n",
       "\t<tr><th></th><th scope=col>om</th><th scope=col>yr</th><th scope=col>date</th><th scope=col>geometry</th></tr>\n",
       "\t<tr><th></th><th scope=col>&lt;dbl&gt;</th><th scope=col>&lt;dbl&gt;</th><th scope=col>&lt;chr&gt;</th><th scope=col>&lt;POINT [arc_degree]&gt;</th></tr>\n",
       "</thead>\n",
       "<tbody>\n",
       "\t<tr><th scope=row>1</th><td>613662</td><td>2016</td><td>2016-03-23</td><td>POINT (-94.5042 35.6916)</td></tr>\n",
       "\t<tr><th scope=row>2</th><td>613675</td><td>2016</td><td>2016-03-30</td><td>POINT (-96.0151 36.2151)</td></tr>\n",
       "\t<tr><th scope=row>3</th><td>613676</td><td>2016</td><td>2016-03-30</td><td>POINT (-95.5523 36.7291)</td></tr>\n",
       "</tbody>\n",
       "</table>\n"
      ],
      "text/latex": [
       "A sf: 3 × 4\n",
       "\\begin{tabular}{r|llll}\n",
       "  & om & yr & date & geometry\\\\\n",
       "  & <dbl> & <dbl> & <chr> & <POINT {[}arc\\_degree{]}>\\\\\n",
       "\\hline\n",
       "\t1 & 613662 & 2016 & 2016-03-23 & POINT (-94.5042 35.6916)\\\\\n",
       "\t2 & 613675 & 2016 & 2016-03-30 & POINT (-96.0151 36.2151)\\\\\n",
       "\t3 & 613676 & 2016 & 2016-03-30 & POINT (-95.5523 36.7291)\\\\\n",
       "\\end{tabular}\n"
      ],
      "text/markdown": [
       "\n",
       "A sf: 3 × 4\n",
       "\n",
       "| <!--/--> | om &lt;dbl&gt; | yr &lt;dbl&gt; | date &lt;chr&gt; | geometry &lt;POINT [arc_degree]&gt; |\n",
       "|---|---|---|---|---|\n",
       "| 1 | 613662 | 2016 | 2016-03-23 | POINT (-94.5042 35.6916) |\n",
       "| 2 | 613675 | 2016 | 2016-03-30 | POINT (-96.0151 36.2151) |\n",
       "| 3 | 613676 | 2016 | 2016-03-30 | POINT (-95.5523 36.7291) |\n",
       "\n"
      ],
      "text/plain": [
       "  om     yr   date       geometry                \n",
       "1 613662 2016 2016-03-23 POINT (-94.5042 35.6916)\n",
       "2 613675 2016 2016-03-30 POINT (-96.0151 36.2151)\n",
       "3 613676 2016 2016-03-30 POINT (-95.5523 36.7291)"
      ]
     },
     "metadata": {},
     "output_type": "display_data"
    },
    {
     "data": {
      "application/geo+json": {
       "features": [
        {
         "geometry": {
          "coordinates": [
           [
            [
             -95.5077,
             35.0292
            ],
            [
             -95.3494,
             35.0293
            ],
            [
             -95.3492,
             35.0585
            ],
            [
             -94.9279,
             35.0583
            ],
            [
             -94.9277,
             34.9422
            ],
            [
             -94.9981,
             34.9422
            ],
            [
             -94.9978,
             34.8551
            ],
            [
             -95.0595,
             34.855
            ],
            [
             -95.0596,
             34.6807
            ],
            [
             -95.5145,
             34.6811
            ],
            [
             -95.5077,
             35.0292
            ]
           ]
          ],
          "type": "Polygon"
         },
         "properties": {
          "AFFGEOID": "0500000US40077",
          "COUNTYFP": "077",
          "COUNTYNS": "01101826",
          "GEOID": "40077",
          "LSAD": "06",
          "NAME": "Latimer",
          "STATEFP": "40"
         },
         "type": "Feature"
        },
        {
         "geometry": {
          "coordinates": [
           [
            [
             -103.0025,
             36.6752
            ],
            [
             -103.002,
             36.9096
            ],
            [
             -103.0022,
             37.0001
            ],
            [
             -102.842,
             36.9996
            ],
            [
             -102.6981,
             36.9951
            ],
            [
             -102.3553,
             36.9945
            ],
            [
             -102.0422,
             36.9931
            ],
            [
             -102.0282,
             36.9931
            ],
            [
             -102.0323,
             36.5001
            ],
            [
             -102.1625,
             36.5003
            ],
            [
             -103.0024,
             36.5004
            ],
            [
             -103.0022,
             36.6027
            ],
            [
             -103.0025,
             36.6752
            ]
           ]
          ],
          "type": "Polygon"
         },
         "properties": {
          "AFFGEOID": "0500000US40025",
          "COUNTYFP": "025",
          "COUNTYNS": "01101800",
          "GEOID": "40025",
          "LSAD": "06",
          "NAME": "Cimarron",
          "STATEFP": "40"
         },
         "type": "Feature"
        },
        {
         "geometry": {
          "coordinates": [
           [
            [
             -98.6369,
             36.1649
            ],
            [
             -98.2105,
             36.1649
            ],
            [
             -98.2071,
             35.7251
            ],
            [
             -98.3134,
             35.7252
            ],
            [
             -98.3133,
             35.5515
            ],
            [
             -98.6231,
             35.5516
            ],
            [
             -98.6322,
             35.566
            ],
            [
             -98.632,
             35.8124
            ],
            [
             -98.6369,
             36.1649
            ]
           ]
          ],
          "type": "Polygon"
         },
         "properties": {
          "AFFGEOID": "0500000US40011",
          "COUNTYFP": "011",
          "COUNTYNS": "01101793",
          "GEOID": "40011",
          "LSAD": "06",
          "NAME": "Blaine",
          "STATEFP": "40"
         },
         "type": "Feature"
        }
       ],
       "type": "FeatureCollection"
      },
      "text/html": [
       "<table class=\"dataframe\">\n",
       "<caption>A sf: 3 × 8</caption>\n",
       "<thead>\n",
       "\t<tr><th></th><th scope=col>STATEFP</th><th scope=col>COUNTYFP</th><th scope=col>COUNTYNS</th><th scope=col>AFFGEOID</th><th scope=col>GEOID</th><th scope=col>NAME</th><th scope=col>LSAD</th><th scope=col>geometry</th></tr>\n",
       "\t<tr><th></th><th scope=col>&lt;chr&gt;</th><th scope=col>&lt;chr&gt;</th><th scope=col>&lt;chr&gt;</th><th scope=col>&lt;chr&gt;</th><th scope=col>&lt;chr&gt;</th><th scope=col>&lt;chr&gt;</th><th scope=col>&lt;chr&gt;</th><th scope=col>&lt;POLYGON [arc_degree]&gt;</th></tr>\n",
       "</thead>\n",
       "<tbody>\n",
       "\t<tr><th scope=row>1</th><td>40</td><td>077</td><td>01101826</td><td>0500000US40077</td><td>40077</td><td>Latimer </td><td>06</td><td>POLYGON ((-95.50766 35.0292...</td></tr>\n",
       "\t<tr><th scope=row>2</th><td>40</td><td>025</td><td>01101800</td><td>0500000US40025</td><td>40025</td><td>Cimarron</td><td>06</td><td>POLYGON ((-103.0025 36.6751...</td></tr>\n",
       "\t<tr><th scope=row>3</th><td>40</td><td>011</td><td>01101793</td><td>0500000US40011</td><td>40011</td><td>Blaine  </td><td>06</td><td>POLYGON ((-98.6369 36.16489...</td></tr>\n",
       "</tbody>\n",
       "</table>\n"
      ],
      "text/latex": [
       "A sf: 3 × 8\n",
       "\\begin{tabular}{r|llllllll}\n",
       "  & STATEFP & COUNTYFP & COUNTYNS & AFFGEOID & GEOID & NAME & LSAD & geometry\\\\\n",
       "  & <chr> & <chr> & <chr> & <chr> & <chr> & <chr> & <chr> & <POLYGON {[}arc\\_degree{]}>\\\\\n",
       "\\hline\n",
       "\t1 & 40 & 077 & 01101826 & 0500000US40077 & 40077 & Latimer  & 06 & POLYGON ((-95.50766 35.0292...\\\\\n",
       "\t2 & 40 & 025 & 01101800 & 0500000US40025 & 40025 & Cimarron & 06 & POLYGON ((-103.0025 36.6751...\\\\\n",
       "\t3 & 40 & 011 & 01101793 & 0500000US40011 & 40011 & Blaine   & 06 & POLYGON ((-98.6369 36.16489...\\\\\n",
       "\\end{tabular}\n"
      ],
      "text/markdown": [
       "\n",
       "A sf: 3 × 8\n",
       "\n",
       "| <!--/--> | STATEFP &lt;chr&gt; | COUNTYFP &lt;chr&gt; | COUNTYNS &lt;chr&gt; | AFFGEOID &lt;chr&gt; | GEOID &lt;chr&gt; | NAME &lt;chr&gt; | LSAD &lt;chr&gt; | geometry &lt;POLYGON [arc_degree]&gt; |\n",
       "|---|---|---|---|---|---|---|---|---|\n",
       "| 1 | 40 | 077 | 01101826 | 0500000US40077 | 40077 | Latimer  | 06 | POLYGON ((-95.50766 35.0292... |\n",
       "| 2 | 40 | 025 | 01101800 | 0500000US40025 | 40025 | Cimarron | 06 | POLYGON ((-103.0025 36.6751... |\n",
       "| 3 | 40 | 011 | 01101793 | 0500000US40011 | 40011 | Blaine   | 06 | POLYGON ((-98.6369 36.16489... |\n",
       "\n"
      ],
      "text/plain": [
       "  STATEFP COUNTYFP COUNTYNS AFFGEOID       GEOID NAME     LSAD\n",
       "1 40      077      01101826 0500000US40077 40077 Latimer  06  \n",
       "2 40      025      01101800 0500000US40025 40025 Cimarron 06  \n",
       "3 40      011      01101793 0500000US40011 40011 Blaine   06  \n",
       "  geometry                      \n",
       "1 POLYGON ((-95.50766 35.0292...\n",
       "2 POLYGON ((-103.0025 36.6751...\n",
       "3 POLYGON ((-98.6369 36.16489..."
      ]
     },
     "metadata": {},
     "output_type": "display_data"
    }
   ],
   "source": [
    "head(tpoint_16_21,3)\n",
    "head(okcounty,3)"
   ]
  },
  {
   "cell_type": "markdown",
   "id": "b20f6bf9",
   "metadata": {},
   "source": [
    "拼接后数据仍保存每一次龙卷风的记录，但是是以 tpoint_16_21 作为主体\n",
    "\n",
    "要计算每个 county 龙卷风的总数，需要基于GEOID分组\n",
    "\n"
   ]
  },
  {
   "cell_type": "code",
   "execution_count": 21,
   "id": "f2254030",
   "metadata": {},
   "outputs": [
    {
     "data": {
      "text/html": [
       "<table class=\"dataframe\">\n",
       "<caption>A data.frame: 6 × 10</caption>\n",
       "<thead>\n",
       "\t<tr><th></th><th scope=col>om</th><th scope=col>yr</th><th scope=col>date</th><th scope=col>STATEFP</th><th scope=col>COUNTYFP</th><th scope=col>COUNTYNS</th><th scope=col>AFFGEOID</th><th scope=col>GEOID</th><th scope=col>NAME</th><th scope=col>LSAD</th></tr>\n",
       "\t<tr><th></th><th scope=col>&lt;dbl&gt;</th><th scope=col>&lt;dbl&gt;</th><th scope=col>&lt;chr&gt;</th><th scope=col>&lt;chr&gt;</th><th scope=col>&lt;chr&gt;</th><th scope=col>&lt;chr&gt;</th><th scope=col>&lt;chr&gt;</th><th scope=col>&lt;chr&gt;</th><th scope=col>&lt;chr&gt;</th><th scope=col>&lt;chr&gt;</th></tr>\n",
       "</thead>\n",
       "<tbody>\n",
       "\t<tr><th scope=row>1</th><td>613662</td><td>2016</td><td>2016-03-23</td><td>40</td><td>001</td><td>01101788</td><td>0500000US40001</td><td>40001</td><td>Adair </td><td>06</td></tr>\n",
       "\t<tr><th scope=row>2</th><td>613675</td><td>2016</td><td>2016-03-30</td><td>40</td><td>113</td><td>01101844</td><td>0500000US40113</td><td>40113</td><td>Osage </td><td>06</td></tr>\n",
       "\t<tr><th scope=row>3</th><td>613676</td><td>2016</td><td>2016-03-30</td><td>40</td><td>105</td><td>01101840</td><td>0500000US40105</td><td>40105</td><td>Nowata</td><td>06</td></tr>\n",
       "\t<tr><th scope=row>4</th><td>613677</td><td>2016</td><td>2016-03-30</td><td>40</td><td>131</td><td>01101853</td><td>0500000US40131</td><td>40131</td><td>Rogers</td><td>06</td></tr>\n",
       "\t<tr><th scope=row>5</th><td>613678</td><td>2016</td><td>2016-03-30</td><td>40</td><td>035</td><td>01101805</td><td>0500000US40035</td><td>40035</td><td>Craig </td><td>06</td></tr>\n",
       "\t<tr><th scope=row>6</th><td>613727</td><td>2016</td><td>2016-04-15</td><td>40</td><td>139</td><td>01101857</td><td>0500000US40139</td><td>40139</td><td>Texas </td><td>06</td></tr>\n",
       "</tbody>\n",
       "</table>\n"
      ],
      "text/latex": [
       "A data.frame: 6 × 10\n",
       "\\begin{tabular}{r|llllllllll}\n",
       "  & om & yr & date & STATEFP & COUNTYFP & COUNTYNS & AFFGEOID & GEOID & NAME & LSAD\\\\\n",
       "  & <dbl> & <dbl> & <chr> & <chr> & <chr> & <chr> & <chr> & <chr> & <chr> & <chr>\\\\\n",
       "\\hline\n",
       "\t1 & 613662 & 2016 & 2016-03-23 & 40 & 001 & 01101788 & 0500000US40001 & 40001 & Adair  & 06\\\\\n",
       "\t2 & 613675 & 2016 & 2016-03-30 & 40 & 113 & 01101844 & 0500000US40113 & 40113 & Osage  & 06\\\\\n",
       "\t3 & 613676 & 2016 & 2016-03-30 & 40 & 105 & 01101840 & 0500000US40105 & 40105 & Nowata & 06\\\\\n",
       "\t4 & 613677 & 2016 & 2016-03-30 & 40 & 131 & 01101853 & 0500000US40131 & 40131 & Rogers & 06\\\\\n",
       "\t5 & 613678 & 2016 & 2016-03-30 & 40 & 035 & 01101805 & 0500000US40035 & 40035 & Craig  & 06\\\\\n",
       "\t6 & 613727 & 2016 & 2016-04-15 & 40 & 139 & 01101857 & 0500000US40139 & 40139 & Texas  & 06\\\\\n",
       "\\end{tabular}\n"
      ],
      "text/markdown": [
       "\n",
       "A data.frame: 6 × 10\n",
       "\n",
       "| <!--/--> | om &lt;dbl&gt; | yr &lt;dbl&gt; | date &lt;chr&gt; | STATEFP &lt;chr&gt; | COUNTYFP &lt;chr&gt; | COUNTYNS &lt;chr&gt; | AFFGEOID &lt;chr&gt; | GEOID &lt;chr&gt; | NAME &lt;chr&gt; | LSAD &lt;chr&gt; |\n",
       "|---|---|---|---|---|---|---|---|---|---|---|\n",
       "| 1 | 613662 | 2016 | 2016-03-23 | 40 | 001 | 01101788 | 0500000US40001 | 40001 | Adair  | 06 |\n",
       "| 2 | 613675 | 2016 | 2016-03-30 | 40 | 113 | 01101844 | 0500000US40113 | 40113 | Osage  | 06 |\n",
       "| 3 | 613676 | 2016 | 2016-03-30 | 40 | 105 | 01101840 | 0500000US40105 | 40105 | Nowata | 06 |\n",
       "| 4 | 613677 | 2016 | 2016-03-30 | 40 | 131 | 01101853 | 0500000US40131 | 40131 | Rogers | 06 |\n",
       "| 5 | 613678 | 2016 | 2016-03-30 | 40 | 035 | 01101805 | 0500000US40035 | 40035 | Craig  | 06 |\n",
       "| 6 | 613727 | 2016 | 2016-04-15 | 40 | 139 | 01101857 | 0500000US40139 | 40139 | Texas  | 06 |\n",
       "\n"
      ],
      "text/plain": [
       "  om     yr   date       STATEFP COUNTYFP COUNTYNS AFFGEOID       GEOID NAME  \n",
       "1 613662 2016 2016-03-23 40      001      01101788 0500000US40001 40001 Adair \n",
       "2 613675 2016 2016-03-30 40      113      01101844 0500000US40113 40113 Osage \n",
       "3 613676 2016 2016-03-30 40      105      01101840 0500000US40105 40105 Nowata\n",
       "4 613677 2016 2016-03-30 40      131      01101853 0500000US40131 40131 Rogers\n",
       "5 613678 2016 2016-03-30 40      035      01101805 0500000US40035 40035 Craig \n",
       "6 613727 2016 2016-04-15 40      139      01101857 0500000US40139 40139 Texas \n",
       "  LSAD\n",
       "1 06  \n",
       "2 06  \n",
       "3 06  \n",
       "4 06  \n",
       "5 06  \n",
       "6 06  "
      ]
     },
     "metadata": {},
     "output_type": "display_data"
    }
   ],
   "source": [
    "# 分组之前 countypnt 需要由 sf，转化为一般数据格式（也就是需要去掉地理信息）\n",
    "countypnt <- st_drop_geometry(countypnt)\n",
    "head(countypnt)"
   ]
  },
  {
   "cell_type": "code",
   "execution_count": 22,
   "id": "36f35fa8",
   "metadata": {},
   "outputs": [
    {
     "data": {
      "text/html": [
       "<table class=\"dataframe\">\n",
       "<caption>A tibble: 75 × 2</caption>\n",
       "<thead>\n",
       "\t<tr><th scope=col>GEOID</th><th scope=col>tcnt</th></tr>\n",
       "\t<tr><th scope=col>&lt;chr&gt;</th><th scope=col>&lt;int&gt;</th></tr>\n",
       "</thead>\n",
       "<tbody>\n",
       "\t<tr><td>40001</td><td> 6</td></tr>\n",
       "\t<tr><td>40005</td><td> 3</td></tr>\n",
       "\t<tr><td>40007</td><td> 4</td></tr>\n",
       "\t<tr><td>40009</td><td> 8</td></tr>\n",
       "\t<tr><td>40011</td><td> 1</td></tr>\n",
       "\t<tr><td>40013</td><td> 4</td></tr>\n",
       "\t<tr><td>40015</td><td>10</td></tr>\n",
       "\t<tr><td>40017</td><td> 5</td></tr>\n",
       "\t<tr><td>40019</td><td> 7</td></tr>\n",
       "\t<tr><td>40021</td><td> 5</td></tr>\n",
       "\t<tr><td>40023</td><td> 3</td></tr>\n",
       "\t<tr><td>40025</td><td>12</td></tr>\n",
       "\t<tr><td>40027</td><td>10</td></tr>\n",
       "\t<tr><td>40029</td><td> 5</td></tr>\n",
       "\t<tr><td>40031</td><td> 5</td></tr>\n",
       "\t<tr><td>40033</td><td> 1</td></tr>\n",
       "\t<tr><td>40035</td><td> 7</td></tr>\n",
       "\t<tr><td>40037</td><td> 9</td></tr>\n",
       "\t<tr><td>40039</td><td> 7</td></tr>\n",
       "\t<tr><td>40041</td><td> 8</td></tr>\n",
       "\t<tr><td>40043</td><td> 2</td></tr>\n",
       "\t<tr><td>40045</td><td> 2</td></tr>\n",
       "\t<tr><td>40047</td><td> 2</td></tr>\n",
       "\t<tr><td>40049</td><td> 3</td></tr>\n",
       "\t<tr><td>40051</td><td> 9</td></tr>\n",
       "\t<tr><td>40055</td><td> 5</td></tr>\n",
       "\t<tr><td>40057</td><td> 4</td></tr>\n",
       "\t<tr><td>40059</td><td> 4</td></tr>\n",
       "\t<tr><td>40061</td><td> 2</td></tr>\n",
       "\t<tr><td>40063</td><td> 1</td></tr>\n",
       "\t<tr><td>...</td><td>...</td></tr>\n",
       "\t<tr><td>40095</td><td> 4</td></tr>\n",
       "\t<tr><td>40097</td><td>12</td></tr>\n",
       "\t<tr><td>40099</td><td> 3</td></tr>\n",
       "\t<tr><td>40101</td><td>13</td></tr>\n",
       "\t<tr><td>40103</td><td> 4</td></tr>\n",
       "\t<tr><td>40105</td><td> 6</td></tr>\n",
       "\t<tr><td>40107</td><td>10</td></tr>\n",
       "\t<tr><td>40109</td><td>13</td></tr>\n",
       "\t<tr><td>40111</td><td> 5</td></tr>\n",
       "\t<tr><td>40113</td><td>11</td></tr>\n",
       "\t<tr><td>40115</td><td> 3</td></tr>\n",
       "\t<tr><td>40117</td><td> 1</td></tr>\n",
       "\t<tr><td>40119</td><td> 6</td></tr>\n",
       "\t<tr><td>40121</td><td> 4</td></tr>\n",
       "\t<tr><td>40123</td><td> 8</td></tr>\n",
       "\t<tr><td>40125</td><td> 5</td></tr>\n",
       "\t<tr><td>40127</td><td> 2</td></tr>\n",
       "\t<tr><td>40129</td><td> 3</td></tr>\n",
       "\t<tr><td>40131</td><td>10</td></tr>\n",
       "\t<tr><td>40133</td><td> 5</td></tr>\n",
       "\t<tr><td>40135</td><td> 7</td></tr>\n",
       "\t<tr><td>40137</td><td> 4</td></tr>\n",
       "\t<tr><td>40139</td><td> 7</td></tr>\n",
       "\t<tr><td>40141</td><td>16</td></tr>\n",
       "\t<tr><td>40143</td><td>16</td></tr>\n",
       "\t<tr><td>40145</td><td> 8</td></tr>\n",
       "\t<tr><td>40147</td><td> 2</td></tr>\n",
       "\t<tr><td>40149</td><td> 6</td></tr>\n",
       "\t<tr><td>40151</td><td> 2</td></tr>\n",
       "\t<tr><td>40153</td><td> 2</td></tr>\n",
       "</tbody>\n",
       "</table>\n"
      ],
      "text/latex": [
       "A tibble: 75 × 2\n",
       "\\begin{tabular}{ll}\n",
       " GEOID & tcnt\\\\\n",
       " <chr> & <int>\\\\\n",
       "\\hline\n",
       "\t 40001 &  6\\\\\n",
       "\t 40005 &  3\\\\\n",
       "\t 40007 &  4\\\\\n",
       "\t 40009 &  8\\\\\n",
       "\t 40011 &  1\\\\\n",
       "\t 40013 &  4\\\\\n",
       "\t 40015 & 10\\\\\n",
       "\t 40017 &  5\\\\\n",
       "\t 40019 &  7\\\\\n",
       "\t 40021 &  5\\\\\n",
       "\t 40023 &  3\\\\\n",
       "\t 40025 & 12\\\\\n",
       "\t 40027 & 10\\\\\n",
       "\t 40029 &  5\\\\\n",
       "\t 40031 &  5\\\\\n",
       "\t 40033 &  1\\\\\n",
       "\t 40035 &  7\\\\\n",
       "\t 40037 &  9\\\\\n",
       "\t 40039 &  7\\\\\n",
       "\t 40041 &  8\\\\\n",
       "\t 40043 &  2\\\\\n",
       "\t 40045 &  2\\\\\n",
       "\t 40047 &  2\\\\\n",
       "\t 40049 &  3\\\\\n",
       "\t 40051 &  9\\\\\n",
       "\t 40055 &  5\\\\\n",
       "\t 40057 &  4\\\\\n",
       "\t 40059 &  4\\\\\n",
       "\t 40061 &  2\\\\\n",
       "\t 40063 &  1\\\\\n",
       "\t ... & ...\\\\\n",
       "\t 40095 &  4\\\\\n",
       "\t 40097 & 12\\\\\n",
       "\t 40099 &  3\\\\\n",
       "\t 40101 & 13\\\\\n",
       "\t 40103 &  4\\\\\n",
       "\t 40105 &  6\\\\\n",
       "\t 40107 & 10\\\\\n",
       "\t 40109 & 13\\\\\n",
       "\t 40111 &  5\\\\\n",
       "\t 40113 & 11\\\\\n",
       "\t 40115 &  3\\\\\n",
       "\t 40117 &  1\\\\\n",
       "\t 40119 &  6\\\\\n",
       "\t 40121 &  4\\\\\n",
       "\t 40123 &  8\\\\\n",
       "\t 40125 &  5\\\\\n",
       "\t 40127 &  2\\\\\n",
       "\t 40129 &  3\\\\\n",
       "\t 40131 & 10\\\\\n",
       "\t 40133 &  5\\\\\n",
       "\t 40135 &  7\\\\\n",
       "\t 40137 &  4\\\\\n",
       "\t 40139 &  7\\\\\n",
       "\t 40141 & 16\\\\\n",
       "\t 40143 & 16\\\\\n",
       "\t 40145 &  8\\\\\n",
       "\t 40147 &  2\\\\\n",
       "\t 40149 &  6\\\\\n",
       "\t 40151 &  2\\\\\n",
       "\t 40153 &  2\\\\\n",
       "\\end{tabular}\n"
      ],
      "text/markdown": [
       "\n",
       "A tibble: 75 × 2\n",
       "\n",
       "| GEOID &lt;chr&gt; | tcnt &lt;int&gt; |\n",
       "|---|---|\n",
       "| 40001 |  6 |\n",
       "| 40005 |  3 |\n",
       "| 40007 |  4 |\n",
       "| 40009 |  8 |\n",
       "| 40011 |  1 |\n",
       "| 40013 |  4 |\n",
       "| 40015 | 10 |\n",
       "| 40017 |  5 |\n",
       "| 40019 |  7 |\n",
       "| 40021 |  5 |\n",
       "| 40023 |  3 |\n",
       "| 40025 | 12 |\n",
       "| 40027 | 10 |\n",
       "| 40029 |  5 |\n",
       "| 40031 |  5 |\n",
       "| 40033 |  1 |\n",
       "| 40035 |  7 |\n",
       "| 40037 |  9 |\n",
       "| 40039 |  7 |\n",
       "| 40041 |  8 |\n",
       "| 40043 |  2 |\n",
       "| 40045 |  2 |\n",
       "| 40047 |  2 |\n",
       "| 40049 |  3 |\n",
       "| 40051 |  9 |\n",
       "| 40055 |  5 |\n",
       "| 40057 |  4 |\n",
       "| 40059 |  4 |\n",
       "| 40061 |  2 |\n",
       "| 40063 |  1 |\n",
       "| ... | ... |\n",
       "| 40095 |  4 |\n",
       "| 40097 | 12 |\n",
       "| 40099 |  3 |\n",
       "| 40101 | 13 |\n",
       "| 40103 |  4 |\n",
       "| 40105 |  6 |\n",
       "| 40107 | 10 |\n",
       "| 40109 | 13 |\n",
       "| 40111 |  5 |\n",
       "| 40113 | 11 |\n",
       "| 40115 |  3 |\n",
       "| 40117 |  1 |\n",
       "| 40119 |  6 |\n",
       "| 40121 |  4 |\n",
       "| 40123 |  8 |\n",
       "| 40125 |  5 |\n",
       "| 40127 |  2 |\n",
       "| 40129 |  3 |\n",
       "| 40131 | 10 |\n",
       "| 40133 |  5 |\n",
       "| 40135 |  7 |\n",
       "| 40137 |  4 |\n",
       "| 40139 |  7 |\n",
       "| 40141 | 16 |\n",
       "| 40143 | 16 |\n",
       "| 40145 |  8 |\n",
       "| 40147 |  2 |\n",
       "| 40149 |  6 |\n",
       "| 40151 |  2 |\n",
       "| 40153 |  2 |\n",
       "\n"
      ],
      "text/plain": [
       "    GEOID tcnt\n",
       "1   40001  6  \n",
       "2   40005  3  \n",
       "3   40007  4  \n",
       "4   40009  8  \n",
       "5   40011  1  \n",
       "6   40013  4  \n",
       "7   40015 10  \n",
       "8   40017  5  \n",
       "9   40019  7  \n",
       "10  40021  5  \n",
       "11  40023  3  \n",
       "12  40025 12  \n",
       "13  40027 10  \n",
       "14  40029  5  \n",
       "15  40031  5  \n",
       "16  40033  1  \n",
       "17  40035  7  \n",
       "18  40037  9  \n",
       "19  40039  7  \n",
       "20  40041  8  \n",
       "21  40043  2  \n",
       "22  40045  2  \n",
       "23  40047  2  \n",
       "24  40049  3  \n",
       "25  40051  9  \n",
       "26  40055  5  \n",
       "27  40057  4  \n",
       "28  40059  4  \n",
       "29  40061  2  \n",
       "30  40063  1  \n",
       "... ...   ... \n",
       "46  40095  4  \n",
       "47  40097 12  \n",
       "48  40099  3  \n",
       "49  40101 13  \n",
       "50  40103  4  \n",
       "51  40105  6  \n",
       "52  40107 10  \n",
       "53  40109 13  \n",
       "54  40111  5  \n",
       "55  40113 11  \n",
       "56  40115  3  \n",
       "57  40117  1  \n",
       "58  40119  6  \n",
       "59  40121  4  \n",
       "60  40123  8  \n",
       "61  40125  5  \n",
       "62  40127  2  \n",
       "63  40129  3  \n",
       "64  40131 10  \n",
       "65  40133  5  \n",
       "66  40135  7  \n",
       "67  40137  4  \n",
       "68  40139  7  \n",
       "69  40141 16  \n",
       "70  40143 16  \n",
       "71  40145  8  \n",
       "72  40147  2  \n",
       "73  40149  6  \n",
       "74  40151  2  \n",
       "75  40153  2  "
      ]
     },
     "metadata": {},
     "output_type": "display_data"
    }
   ],
   "source": [
    "# 计算每组（每个county）龙卷风的数量\n",
    "countysum <- countypnt %>%\n",
    "  group_by(GEOID) %>%\n",
    "  summarize(tcnt = n())\n",
    "\n",
    "countysum"
   ]
  },
  {
   "cell_type": "markdown",
   "id": "c2884b1d",
   "metadata": {},
   "source": [
    "##### 根据\"GEOID\"，把 countysum 拼接进入 okcounty "
   ]
  },
  {
   "cell_type": "code",
   "execution_count": 24,
   "id": "79034666",
   "metadata": {
    "scrolled": true
   },
   "outputs": [
    {
     "data": {
      "application/geo+json": {
       "features": [
        {
         "geometry": {
          "coordinates": [
           [
            [
             -95.5077,
             35.0292
            ],
            [
             -95.3494,
             35.0293
            ],
            [
             -95.3492,
             35.0585
            ],
            [
             -94.9279,
             35.0583
            ],
            [
             -94.9277,
             34.9422
            ],
            [
             -94.9981,
             34.9422
            ],
            [
             -94.9978,
             34.8551
            ],
            [
             -95.0595,
             34.855
            ],
            [
             -95.0596,
             34.6807
            ],
            [
             -95.5145,
             34.6811
            ],
            [
             -95.5077,
             35.0292
            ]
           ]
          ],
          "type": "Polygon"
         },
         "properties": {
          "AFFGEOID": "0500000US40077",
          "COUNTYFP": "077",
          "COUNTYNS": "01101826",
          "GEOID": "40077",
          "LSAD": "06",
          "NAME": "Latimer",
          "STATEFP": "40",
          "area": 1890663260.7471,
          "tcnt": 1,
          "tdens": 0.5289
         },
         "type": "Feature"
        },
        {
         "geometry": {
          "coordinates": [
           [
            [
             -103.0025,
             36.6752
            ],
            [
             -103.002,
             36.9096
            ],
            [
             -103.0022,
             37.0001
            ],
            [
             -102.842,
             36.9996
            ],
            [
             -102.6981,
             36.9951
            ],
            [
             -102.3553,
             36.9945
            ],
            [
             -102.0422,
             36.9931
            ],
            [
             -102.0282,
             36.9931
            ],
            [
             -102.0323,
             36.5001
            ],
            [
             -102.1625,
             36.5003
            ],
            [
             -103.0024,
             36.5004
            ],
            [
             -103.0022,
             36.6027
            ],
            [
             -103.0025,
             36.6752
            ]
           ]
          ],
          "type": "Polygon"
         },
         "properties": {
          "AFFGEOID": "0500000US40025",
          "COUNTYFP": "025",
          "COUNTYNS": "01101800",
          "GEOID": "40025",
          "LSAD": "06",
          "NAME": "Cimarron",
          "STATEFP": "40",
          "area": 4766283042.121,
          "tcnt": 12,
          "tdens": 2.5177
         },
         "type": "Feature"
        },
        {
         "geometry": {
          "coordinates": [
           [
            [
             -98.6369,
             36.1649
            ],
            [
             -98.2105,
             36.1649
            ],
            [
             -98.2071,
             35.7251
            ],
            [
             -98.3134,
             35.7252
            ],
            [
             -98.3133,
             35.5515
            ],
            [
             -98.6231,
             35.5516
            ],
            [
             -98.6322,
             35.566
            ],
            [
             -98.632,
             35.8124
            ],
            [
             -98.6369,
             36.1649
            ]
           ]
          ],
          "type": "Polygon"
         },
         "properties": {
          "AFFGEOID": "0500000US40011",
          "COUNTYFP": "011",
          "COUNTYNS": "01101793",
          "GEOID": "40011",
          "LSAD": "06",
          "NAME": "Blaine",
          "STATEFP": "40",
          "area": 2427121028.6562,
          "tcnt": 1,
          "tdens": 0.412
         },
         "type": "Feature"
        },
        {
         "geometry": {
          "coordinates": [
           [
            [
             -96.6249,
             35.4627
            ],
            [
             -96.6206,
             35.639
            ],
            [
             -96.1926,
             35.6391
            ],
            [
             -96.1928,
             35.5519
            ],
            [
             -96.0878,
             35.5521
            ],
            [
             -96.0875,
             35.3769
            ],
            [
             -95.9813,
             35.3768
            ],
            [
             -95.9814,
             35.2899
            ],
            [
             -96.4414,
             35.2901
            ],
            [
             -96.4413,
             35.4677
            ],
            [
             -96.5367,
             35.3908
            ],
            [
             -96.6237,
             35.4007
            ],
            [
             -96.6249,
             35.4627
            ]
           ]
          ],
          "type": "Polygon"
         },
         "properties": {
          "AFFGEOID": "0500000US40107",
          "COUNTYFP": "107",
          "COUNTYNS": "01101841",
          "GEOID": "40107",
          "LSAD": "06",
          "NAME": "Okfuskee",
          "STATEFP": "40",
          "area": 1657249513.4273,
          "tcnt": 10,
          "tdens": 6.0341
         },
         "type": "Feature"
        },
        {
         "geometry": {
          "coordinates": [
           [
            [
             -95.8098,
             36.9419
            ],
            [
             -95.7868,
             36.9993
            ],
            [
             -95.5736,
             36.9993
            ],
            [
             -95.5224,
             36.9993
            ],
            [
             -95.4076,
             36.9993
            ],
            [
             -95.4317,
             36.9428
            ],
            [
             -95.4316,
             36.5975
            ],
            [
             -95.8096,
             36.5975
            ],
            [
             -95.8098,
             36.9419
            ]
           ]
          ],
          "type": "Polygon"
         },
         "properties": {
          "AFFGEOID": "0500000US40105",
          "COUNTYFP": "105",
          "COUNTYNS": "01101840",
          "GEOID": "40105",
          "LSAD": "06",
          "NAME": "Nowata",
          "STATEFP": "40",
          "area": 1503893121.5706,
          "tcnt": 6,
          "tdens": 3.9896
         },
         "type": "Feature"
        },
        {
         "geometry": {
          "coordinates": [
           [
            [
             -99.6056,
             36.5928
            ],
            [
             -99.2953,
             36.5951
            ],
            [
             -99.2952,
             36.8196
            ],
            [
             -99.2504,
             36.785
            ],
            [
             -99.1399,
             36.783
            ],
            [
             -98.96,
             36.599
            ],
            [
             -98.9603,
             36.5069
            ],
            [
             -98.9558,
             36.1616
            ],
            [
             -99.3821,
             36.1643
            ],
            [
             -99.5961,
             36.1641
            ],
            [
             -99.6056,
             36.5928
            ]
           ]
          ],
          "type": "Polygon"
         },
         "properties": {
          "AFFGEOID": "0500000US40153",
          "COUNTYFP": "153",
          "COUNTYNS": "01101864",
          "GEOID": "40153",
          "LSAD": "06",
          "NAME": "Woodward",
          "STATEFP": "40",
          "area": 3227039659.3988,
          "tcnt": 2,
          "tdens": 0.6198
         },
         "type": "Feature"
        }
       ],
       "type": "FeatureCollection"
      },
      "text/html": [
       "<table class=\"dataframe\">\n",
       "<caption>A sf: 6 × 11</caption>\n",
       "<thead>\n",
       "\t<tr><th></th><th scope=col>STATEFP</th><th scope=col>COUNTYFP</th><th scope=col>COUNTYNS</th><th scope=col>AFFGEOID</th><th scope=col>GEOID</th><th scope=col>NAME</th><th scope=col>LSAD</th><th scope=col>tcnt</th><th scope=col>geometry</th><th scope=col>area</th><th scope=col>tdens</th></tr>\n",
       "\t<tr><th></th><th scope=col>&lt;chr&gt;</th><th scope=col>&lt;chr&gt;</th><th scope=col>&lt;chr&gt;</th><th scope=col>&lt;chr&gt;</th><th scope=col>&lt;chr&gt;</th><th scope=col>&lt;chr&gt;</th><th scope=col>&lt;chr&gt;</th><th scope=col>&lt;dbl&gt;</th><th scope=col>&lt;POLYGON [arc_degree]&gt;</th><th scope=col>&lt;dbl&gt;</th><th scope=col>&lt;dbl&gt;</th></tr>\n",
       "</thead>\n",
       "<tbody>\n",
       "\t<tr><th scope=row>1</th><td>40</td><td>077</td><td>01101826</td><td>0500000US40077</td><td>40077</td><td>Latimer </td><td>06</td><td> 1</td><td>POLYGON ((-95.50766 35.0292...</td><td>1890663261</td><td>0.5289149</td></tr>\n",
       "\t<tr><th scope=row>2</th><td>40</td><td>025</td><td>01101800</td><td>0500000US40025</td><td>40025</td><td>Cimarron</td><td>06</td><td>12</td><td>POLYGON ((-103.0025 36.6751...</td><td>4766283042</td><td>2.5176851</td></tr>\n",
       "\t<tr><th scope=row>3</th><td>40</td><td>011</td><td>01101793</td><td>0500000US40011</td><td>40011</td><td>Blaine  </td><td>06</td><td> 1</td><td>POLYGON ((-98.6369 36.16489...</td><td>2427121029</td><td>0.4120108</td></tr>\n",
       "\t<tr><th scope=row>4</th><td>40</td><td>107</td><td>01101841</td><td>0500000US40107</td><td>40107</td><td>Okfuskee</td><td>06</td><td>10</td><td>POLYGON ((-96.62486 35.4627...</td><td>1657249513</td><td>6.0340944</td></tr>\n",
       "\t<tr><th scope=row>5</th><td>40</td><td>105</td><td>01101840</td><td>0500000US40105</td><td>40105</td><td>Nowata  </td><td>06</td><td> 6</td><td>POLYGON ((-95.80982 36.9419...</td><td>1503893122</td><td>3.9896452</td></tr>\n",
       "\t<tr><th scope=row>6</th><td>40</td><td>153</td><td>01101864</td><td>0500000US40153</td><td>40153</td><td>Woodward</td><td>06</td><td> 2</td><td>POLYGON ((-99.60556 36.5927...</td><td>3227039659</td><td>0.6197631</td></tr>\n",
       "</tbody>\n",
       "</table>\n"
      ],
      "text/latex": [
       "A sf: 6 × 11\n",
       "\\begin{tabular}{r|lllllllllll}\n",
       "  & STATEFP & COUNTYFP & COUNTYNS & AFFGEOID & GEOID & NAME & LSAD & tcnt & geometry & area & tdens\\\\\n",
       "  & <chr> & <chr> & <chr> & <chr> & <chr> & <chr> & <chr> & <dbl> & <POLYGON {[}arc\\_degree{]}> & <dbl> & <dbl>\\\\\n",
       "\\hline\n",
       "\t1 & 40 & 077 & 01101826 & 0500000US40077 & 40077 & Latimer  & 06 &  1 & POLYGON ((-95.50766 35.0292... & 1890663261 & 0.5289149\\\\\n",
       "\t2 & 40 & 025 & 01101800 & 0500000US40025 & 40025 & Cimarron & 06 & 12 & POLYGON ((-103.0025 36.6751... & 4766283042 & 2.5176851\\\\\n",
       "\t3 & 40 & 011 & 01101793 & 0500000US40011 & 40011 & Blaine   & 06 &  1 & POLYGON ((-98.6369 36.16489... & 2427121029 & 0.4120108\\\\\n",
       "\t4 & 40 & 107 & 01101841 & 0500000US40107 & 40107 & Okfuskee & 06 & 10 & POLYGON ((-96.62486 35.4627... & 1657249513 & 6.0340944\\\\\n",
       "\t5 & 40 & 105 & 01101840 & 0500000US40105 & 40105 & Nowata   & 06 &  6 & POLYGON ((-95.80982 36.9419... & 1503893122 & 3.9896452\\\\\n",
       "\t6 & 40 & 153 & 01101864 & 0500000US40153 & 40153 & Woodward & 06 &  2 & POLYGON ((-99.60556 36.5927... & 3227039659 & 0.6197631\\\\\n",
       "\\end{tabular}\n"
      ],
      "text/markdown": [
       "\n",
       "A sf: 6 × 11\n",
       "\n",
       "| <!--/--> | STATEFP &lt;chr&gt; | COUNTYFP &lt;chr&gt; | COUNTYNS &lt;chr&gt; | AFFGEOID &lt;chr&gt; | GEOID &lt;chr&gt; | NAME &lt;chr&gt; | LSAD &lt;chr&gt; | tcnt &lt;dbl&gt; | geometry &lt;POLYGON [arc_degree]&gt; | area &lt;dbl&gt; | tdens &lt;dbl&gt; |\n",
       "|---|---|---|---|---|---|---|---|---|---|---|---|\n",
       "| 1 | 40 | 077 | 01101826 | 0500000US40077 | 40077 | Latimer  | 06 |  1 | POLYGON ((-95.50766 35.0292... | 1890663261 | 0.5289149 |\n",
       "| 2 | 40 | 025 | 01101800 | 0500000US40025 | 40025 | Cimarron | 06 | 12 | POLYGON ((-103.0025 36.6751... | 4766283042 | 2.5176851 |\n",
       "| 3 | 40 | 011 | 01101793 | 0500000US40011 | 40011 | Blaine   | 06 |  1 | POLYGON ((-98.6369 36.16489... | 2427121029 | 0.4120108 |\n",
       "| 4 | 40 | 107 | 01101841 | 0500000US40107 | 40107 | Okfuskee | 06 | 10 | POLYGON ((-96.62486 35.4627... | 1657249513 | 6.0340944 |\n",
       "| 5 | 40 | 105 | 01101840 | 0500000US40105 | 40105 | Nowata   | 06 |  6 | POLYGON ((-95.80982 36.9419... | 1503893122 | 3.9896452 |\n",
       "| 6 | 40 | 153 | 01101864 | 0500000US40153 | 40153 | Woodward | 06 |  2 | POLYGON ((-99.60556 36.5927... | 3227039659 | 0.6197631 |\n",
       "\n"
      ],
      "text/plain": [
       "  STATEFP COUNTYFP COUNTYNS AFFGEOID       GEOID NAME     LSAD tcnt\n",
       "1 40      077      01101826 0500000US40077 40077 Latimer  06    1  \n",
       "2 40      025      01101800 0500000US40025 40025 Cimarron 06   12  \n",
       "3 40      011      01101793 0500000US40011 40011 Blaine   06    1  \n",
       "4 40      107      01101841 0500000US40107 40107 Okfuskee 06   10  \n",
       "5 40      105      01101840 0500000US40105 40105 Nowata   06    6  \n",
       "6 40      153      01101864 0500000US40153 40153 Woodward 06    2  \n",
       "  geometry                       area       tdens    \n",
       "1 POLYGON ((-95.50766 35.0292... 1890663261 0.5289149\n",
       "2 POLYGON ((-103.0025 36.6751... 4766283042 2.5176851\n",
       "3 POLYGON ((-98.6369 36.16489... 2427121029 0.4120108\n",
       "4 POLYGON ((-96.62486 35.4627... 1657249513 6.0340944\n",
       "5 POLYGON ((-95.80982 36.9419... 1503893122 3.9896452\n",
       "6 POLYGON ((-99.60556 36.5927... 3227039659 0.6197631"
      ]
     },
     "metadata": {},
     "output_type": "display_data"
    }
   ],
   "source": [
    "countymap <- okcounty %>%\n",
    "  left_join(countysum, by = \"GEOID\") %>%\n",
    "  replace(is.na(.), 0) %>%                    # 缺失值取0\n",
    "  mutate(area = st_area(okcounty),             # st_area 计算区域面积\n",
    "         tdens = 10^6 * 10^3 * tcnt / area) %>%  # 计算每个 county 龙卷风密度\n",
    "  units::drop_units()                                 # \n",
    "head(countymap)"
   ]
  },
  {
   "cell_type": "markdown",
   "id": "18a2aa5e",
   "metadata": {},
   "source": [
    "##### 导出新的 shp 数据"
   ]
  },
  {
   "cell_type": "code",
   "execution_count": 26,
   "id": "9d0b9661",
   "metadata": {},
   "outputs": [
    {
     "name": "stdout",
     "output_type": "stream",
     "text": [
      "Writing layer `oktornadosum' to data source \n",
      "  `C:/Users/77387/Desktop/Data_analysis_courses/R璇█涓庡湴鐞嗕俊鎭鐞<86>/Chapter5/new/oktornadosum.shp' using driver `ESRI Shapefile'\n",
      "Writing 77 features with 10 fields and geometry type Polygon.\n"
     ]
    },
    {
     "name": "stderr",
     "output_type": "stream",
     "text": [
      "Warning message in CPL_write_ogr(obj, dsn, layer, driver, as.character(dataset_options), :\n",
      "\"GDAL Message 1: Value 1890663260.74708939 of field area of feature 0 not successfully written. Possibly due to too larger number with respect to field width\"\n",
      "Warning message in CPL_write_ogr(obj, dsn, layer, driver, as.character(dataset_options), :\n",
      "\"GDAL Message 1: Value 4766283042.1210289 of field area of feature 1 not successfully written. Possibly due to too larger number with respect to field width\"\n",
      "Warning message in CPL_write_ogr(obj, dsn, layer, driver, as.character(dataset_options), :\n",
      "\"GDAL Message 1: Value 2427121028.65618324 of field area of feature 2 not successfully written. Possibly due to too larger number with respect to field width\"\n",
      "Warning message in CPL_write_ogr(obj, dsn, layer, driver, as.character(dataset_options), :\n",
      "\"GDAL Message 1: Value 1657249513.42733097 of field area of feature 3 not successfully written. Possibly due to too larger number with respect to field width\"\n",
      "Warning message in CPL_write_ogr(obj, dsn, layer, driver, as.character(dataset_options), :\n",
      "\"GDAL Message 1: Value 1503893121.57062578 of field area of feature 4 not successfully written. Possibly due to too larger number with respect to field width\"\n",
      "Warning message in CPL_write_ogr(obj, dsn, layer, driver, as.character(dataset_options), :\n",
      "\"GDAL Message 1: Value 3227039659.39882135 of field area of feature 5 not successfully written. Possibly due to too larger number with respect to field width\"\n",
      "Warning message in CPL_write_ogr(obj, dsn, layer, driver, as.character(dataset_options), :\n",
      "\"GDAL Message 1: Value 1493619770.56229496 of field area of feature 6 not successfully written. Possibly due to too larger number with respect to field width\"\n",
      "Warning message in CPL_write_ogr(obj, dsn, layer, driver, as.character(dataset_options), :\n",
      "\"GDAL Message 1: Value 2597526414.08445501 of field area of feature 7 not successfully written. Possibly due to too larger number with respect to field width\"\n",
      "Warning message in CPL_write_ogr(obj, dsn, layer, driver, as.character(dataset_options), :\n",
      "\"GDAL Message 1: Value 2685113216.60026455 of field area of feature 8 not successfully written. Possibly due to too larger number with respect to field width\"\n",
      "Warning message in CPL_write_ogr(obj, dsn, layer, driver, as.character(dataset_options), :\n",
      "\"GDAL Message 1: Value 2347360623.00086737 of field area of feature 9 not successfully written. Possibly due to too larger number with respect to field width\"\n",
      "Warning message in CPL_write_ogr(obj, dsn, layer, driver, as.character(dataset_options), :\n",
      "\"GDAL Message 1: Value 2954545951.6947403 of field area of feature 10 not successfully written. Possibly due to too larger number with respect to field width\"\n",
      "Warning message in CPL_write_ogr(obj, dsn, layer, driver, as.character(dataset_options), :\n",
      "\"GDAL Message 1: Value 3327857994.51923084 of field area of feature 11 not successfully written. Possibly due to too larger number with respect to field width\"\n",
      "Warning message in CPL_write_ogr(obj, dsn, layer, driver, as.character(dataset_options), :\n",
      "\"GDAL Message 1: Value 1766741655.9761939 of field area of feature 12 not successfully written. Possibly due to too larger number with respect to field width\"\n",
      "Warning message in CPL_write_ogr(obj, dsn, layer, driver, as.character(dataset_options), :\n",
      "\"GDAL Message 1: Value 1632420281.20238233 of field area of feature 13 not successfully written. Possibly due to too larger number with respect to field width\"\n",
      "Warning message in CPL_write_ogr(obj, dsn, layer, driver, as.character(dataset_options), :\n",
      "\"GDAL Message 1: Value 1093038313.63880467 of field area of feature 14 not successfully written. Possibly due to too larger number with respect to field width\"\n",
      "Warning message in CPL_write_ogr(obj, dsn, layer, driver, as.character(dataset_options), :\n",
      "\"GDAL Message 1: Value 2058395270.32327127 of field area of feature 15 not successfully written. Possibly due to too larger number with respect to field width\"\n",
      "Warning message in CPL_write_ogr(obj, dsn, layer, driver, as.character(dataset_options), :\n",
      "\"GDAL Message 1: Value 1860469052.002249 of field area of feature 16 not successfully written. Possibly due to too larger number with respect to field width\"\n",
      "Warning message in CPL_write_ogr(obj, dsn, layer, driver, as.character(dataset_options), :\n",
      "\"GDAL Message 1: Value 1387325268.90105581 of field area of feature 17 not successfully written. Possibly due to too larger number with respect to field width\"\n",
      "Warning message in CPL_write_ogr(obj, dsn, layer, driver, as.character(dataset_options), :\n",
      "\"GDAL Message 1: Value 1618828491.12948823 of field area of feature 18 not successfully written. Possibly due to too larger number with respect to field width\"\n",
      "Warning message in CPL_write_ogr(obj, dsn, layer, driver, as.character(dataset_options), :\n",
      "\"GDAL Message 1: Value 2471050051.59374666 of field area of feature 19 not successfully written. Possibly due to too larger number with respect to field width\"\n",
      "Warning message in CPL_write_ogr(obj, dsn, layer, driver, as.character(dataset_options), :\n",
      "\"GDAL Message 1: Value 2832767419.77567577 of field area of feature 20 not successfully written. Possibly due to too larger number with respect to field width\"\n",
      "Warning message in CPL_write_ogr(obj, dsn, layer, driver, as.character(dataset_options), :\n",
      "\"GDAL Message 1: Value 2108172310.79668856 of field area of feature 21 not successfully written. Possibly due to too larger number with respect to field width\"\n",
      "Warning message in CPL_write_ogr(obj, dsn, layer, driver, as.character(dataset_options), :\n",
      "\"GDAL Message 1: Value 2652669795.71350384 of field area of feature 22 not successfully written. Possibly due to too larger number with respect to field width\"\n",
      "Warning message in CPL_write_ogr(obj, dsn, layer, driver, as.character(dataset_options), :\n",
      "\"GDAL Message 1: Value 1090869456.20287585 of field area of feature 23 not successfully written. Possibly due to too larger number with respect to field width\"\n",
      "Warning message in CPL_write_ogr(obj, dsn, layer, driver, as.character(dataset_options), :\n",
      "\"GDAL Message 1: Value 2310677396.45588493 of field area of feature 24 not successfully written. Possibly due to too larger number with respect to field width\"\n",
      "Warning message in CPL_write_ogr(obj, dsn, layer, driver, as.character(dataset_options), :\n",
      "\"GDAL Message 1: Value 1933404363.17459083 of field area of feature 25 not successfully written. Possibly due to too larger number with respect to field width\"\n",
      "Warning message in CPL_write_ogr(obj, dsn, layer, driver, as.character(dataset_options), :\n",
      "\"GDAL Message 1: Value 1727436685.24655342 of field area of feature 26 not successfully written. Possibly due to too larger number with respect to field width\"\n",
      "Warning message in CPL_write_ogr(obj, dsn, layer, driver, as.character(dataset_options), :\n",
      "\"GDAL Message 1: Value 2447015742.56987953 of field area of feature 27 not successfully written. Possibly due to too larger number with respect to field width\"\n",
      "Warning message in CPL_write_ogr(obj, dsn, layer, driver, as.character(dataset_options), :\n",
      "\"GDAL Message 1: Value 2347690782.5074358 of field area of feature 28 not successfully written. Possibly due to too larger number with respect to field width\"\n",
      "Warning message in CPL_write_ogr(obj, dsn, layer, driver, as.character(dataset_options), :\n",
      "\"GDAL Message 1: Value 1817980637.34105277 of field area of feature 29 not successfully written. Possibly due to too larger number with respect to field width\"\n",
      "Warning message in CPL_write_ogr(obj, dsn, layer, driver, as.character(dataset_options), :\n",
      "\"GDAL Message 1: Value 2073330165.35984612 of field area of feature 30 not successfully written. Possibly due to too larger number with respect to field width\"\n",
      "Warning message in CPL_write_ogr(obj, dsn, layer, driver, as.character(dataset_options), :\n",
      "\"GDAL Message 1: Value 1981497459.93057513 of field area of feature 31 not successfully written. Possibly due to too larger number with respect to field width\"\n",
      "Warning message in CPL_write_ogr(obj, dsn, layer, driver, as.character(dataset_options), :\n",
      "\"GDAL Message 1: Value 2116530990.67202735 of field area of feature 32 not successfully written. Possibly due to too larger number with respect to field width\"\n"
     ]
    },
    {
     "name": "stderr",
     "output_type": "stream",
     "text": [
      "Warning message in CPL_write_ogr(obj, dsn, layer, driver, as.character(dataset_options), :\n",
      "\"GDAL Message 1: Value 1811018955.24967265 of field area of feature 33 not successfully written. Possibly due to too larger number with respect to field width\"\n",
      "Warning message in CPL_write_ogr(obj, dsn, layer, driver, as.character(dataset_options), :\n",
      "\"GDAL Message 1: Value 1539226567.61584067 of field area of feature 34 not successfully written. Possibly due to too larger number with respect to field width\"\n",
      "Warning message in CPL_write_ogr(obj, dsn, layer, driver, as.character(dataset_options), :\n",
      "\"GDAL Message 1: Value 2063886104.06124663 of field area of feature 35 not successfully written. Possibly due to too larger number with respect to field width\"\n",
      "Warning message in CPL_write_ogr(obj, dsn, layer, driver, as.character(dataset_options), :\n",
      "\"GDAL Message 1: Value 3542155971.16223907 of field area of feature 36 not successfully written. Possibly due to too larger number with respect to field width\"\n",
      "Warning message in CPL_write_ogr(obj, dsn, layer, driver, as.character(dataset_options), :\n",
      "\"GDAL Message 1: Value 4920125845.09523392 of field area of feature 37 not successfully written. Possibly due to too larger number with respect to field width\"\n",
      "Warning message in CPL_write_ogr(obj, dsn, layer, driver, as.character(dataset_options), :\n",
      "\"GDAL Message 1: Value 5310345136.33286572 of field area of feature 38 not successfully written. Possibly due to too larger number with respect to field width\"\n",
      "Warning message in CPL_write_ogr(obj, dsn, layer, driver, as.character(dataset_options), :\n",
      "\"GDAL Message 1: Value 1848819112.52664351 of field area of feature 39 not successfully written. Possibly due to too larger number with respect to field width\"\n",
      "Warning message in CPL_write_ogr(obj, dsn, layer, driver, as.character(dataset_options), :\n",
      "\"GDAL Message 1: Value 1688248630.00190759 of field area of feature 40 not successfully written. Possibly due to too larger number with respect to field width\"\n",
      "Warning message in CPL_write_ogr(obj, dsn, layer, driver, as.character(dataset_options), :\n",
      "\"GDAL Message 1: Value 4152697836.4594388 of field area of feature 41 not successfully written. Possibly due to too larger number with respect to field width\"\n",
      "Warning message in CPL_write_ogr(obj, dsn, layer, driver, as.character(dataset_options), :\n",
      "\"GDAL Message 1: Value 1535556023.02561188 of field area of feature 42 not successfully written. Possibly due to too larger number with respect to field width\"\n",
      "Warning message in CPL_write_ogr(obj, dsn, layer, driver, as.character(dataset_options), :\n",
      "\"GDAL Message 1: Value 2564134234.82327223 of field area of feature 43 not successfully written. Possibly due to too larger number with respect to field width\"\n",
      "Warning message in CPL_write_ogr(obj, dsn, layer, driver, as.character(dataset_options), :\n",
      "\"GDAL Message 1: Value 2409362699.78329659 of field area of feature 44 not successfully written. Possibly due to too larger number with respect to field width\"\n",
      "Warning message in CPL_write_ogr(obj, dsn, layer, driver, as.character(dataset_options), :\n",
      "\"GDAL Message 1: Value 1353642344.70941949 of field area of feature 45 not successfully written. Possibly due to too larger number with respect to field width\"\n",
      "Warning message in CPL_write_ogr(obj, dsn, layer, driver, as.character(dataset_options), :\n",
      "\"GDAL Message 1: Value 1868408187.37826753 of field area of feature 46 not successfully written. Possibly due to too larger number with respect to field width\"\n",
      "Warning message in CPL_write_ogr(obj, dsn, layer, driver, as.character(dataset_options), :\n",
      "\"GDAL Message 1: Value 1894645069.29990363 of field area of feature 47 not successfully written. Possibly due to too larger number with respect to field width\"\n",
      "Warning message in CPL_write_ogr(obj, dsn, layer, driver, as.character(dataset_options), :\n",
      "\"GDAL Message 1: Value 1567191026.71289682 of field area of feature 48 not successfully written. Possibly due to too larger number with respect to field width\"\n",
      "Warning message in CPL_write_ogr(obj, dsn, layer, driver, as.character(dataset_options), :\n",
      "\"GDAL Message 1: Value 1253625530.52399182 of field area of feature 49 not successfully written. Possibly due to too larger number with respect to field width\"\n",
      "Warning message in CPL_write_ogr(obj, dsn, layer, driver, as.character(dataset_options), :\n",
      "\"GDAL Message 1: Value 2599774106.11599922 of field area of feature 50 not successfully written. Possibly due to too larger number with respect to field width\"\n",
      "Warning message in CPL_write_ogr(obj, dsn, layer, driver, as.character(dataset_options), :\n",
      "\"GDAL Message 1: Value 1359225700.10712528 of field area of feature 51 not successfully written. Possibly due to too larger number with respect to field width\"\n",
      "Warning message in CPL_write_ogr(obj, dsn, layer, driver, as.character(dataset_options), :\n",
      "\"GDAL Message 1: Value 2614915373.10311317 of field area of feature 52 not successfully written. Possibly due to too larger number with respect to field width\"\n",
      "Warning message in CPL_write_ogr(obj, dsn, layer, driver, as.character(dataset_options), :\n",
      "\"GDAL Message 1: Value 2353479076.15982199 of field area of feature 53 not successfully written. Possibly due to too larger number with respect to field width\"\n",
      "Warning message in CPL_write_ogr(obj, dsn, layer, driver, as.character(dataset_options), :\n",
      "\"GDAL Message 1: Value 1080690210.52935076 of field area of feature 54 not successfully written. Possibly due to too larger number with respect to field width\"\n",
      "Warning message in CPL_write_ogr(obj, dsn, layer, driver, as.character(dataset_options), :\n",
      "\"GDAL Message 1: Value 3343404663.21657753 of field area of feature 55 not successfully written. Possibly due to too larger number with respect to field width\"\n",
      "Warning message in CPL_write_ogr(obj, dsn, layer, driver, as.character(dataset_options), :\n",
      "\"GDAL Message 1: Value 2746656252.07623672 of field area of feature 56 not successfully written. Possibly due to too larger number with respect to field width\"\n",
      "Warning message in CPL_write_ogr(obj, dsn, layer, driver, as.character(dataset_options), :\n",
      "\"GDAL Message 1: Value 2208365251.92595768 of field area of feature 57 not successfully written. Possibly due to too larger number with respect to field width\"\n",
      "Warning message in CPL_write_ogr(obj, dsn, layer, driver, as.character(dataset_options), :\n",
      "\"GDAL Message 1: Value 1886871162.33869982 of field area of feature 58 not successfully written. Possibly due to too larger number with respect to field width\"\n",
      "Warning message in CPL_write_ogr(obj, dsn, layer, driver, as.character(dataset_options), :\n",
      "\"GDAL Message 1: Value 2044842989.41343474 of field area of feature 59 not successfully written. Possibly due to too larger number with respect to field width\"\n",
      "Warning message in CPL_write_ogr(obj, dsn, layer, driver, as.character(dataset_options), :\n",
      "\"GDAL Message 1: Value 1495344959.8036809 of field area of feature 60 not successfully written. Possibly due to too larger number with respect to field width\"\n",
      "Warning message in CPL_write_ogr(obj, dsn, layer, driver, as.character(dataset_options), :\n",
      "\"GDAL Message 1: Value 4698055726.35922718 of field area of feature 61 not successfully written. Possibly due to too larger number with respect to field width\"\n",
      "Warning message in CPL_write_ogr(obj, dsn, layer, driver, as.character(dataset_options), :\n",
      "\"GDAL Message 1: Value 2605261462.47750282 of field area of feature 62 not successfully written. Possibly due to too larger number with respect to field width\"\n",
      "Warning message in CPL_write_ogr(obj, dsn, layer, driver, as.character(dataset_options), :\n",
      "\"GDAL Message 1: Value 2511655861.60704422 of field area of feature 63 not successfully written. Possibly due to too larger number with respect to field width\"\n",
      "Warning message in CPL_write_ogr(obj, dsn, layer, driver, as.character(dataset_options), :\n",
      "\"GDAL Message 1: Value 1934434926.89614439 of field area of feature 64 not successfully written. Possibly due to too larger number with respect to field width\"\n",
      "Warning message in CPL_write_ogr(obj, dsn, layer, driver, as.character(dataset_options), :\n",
      "\"GDAL Message 1: Value 2495508746.02464247 of field area of feature 65 not successfully written. Possibly due to too larger number with respect to field width\"\n"
     ]
    },
    {
     "name": "stderr",
     "output_type": "stream",
     "text": [
      "Warning message in CPL_write_ogr(obj, dsn, layer, driver, as.character(dataset_options), :\n",
      "\"GDAL Message 1: Value 3683401354.59223175 of field area of feature 66 not successfully written. Possibly due to too larger number with respect to field width\"\n",
      "Warning message in CPL_write_ogr(obj, dsn, layer, driver, as.character(dataset_options), :\n",
      "\"GDAL Message 1: Value 2016984016.96580172 of field area of feature 67 not successfully written. Possibly due to too larger number with respect to field width\"\n",
      "Warning message in CPL_write_ogr(obj, dsn, layer, driver, as.character(dataset_options), :\n",
      "\"GDAL Message 1: Value 2307036696.18674183 of field area of feature 68 not successfully written. Possibly due to too larger number with respect to field width\"\n",
      "Warning message in CPL_write_ogr(obj, dsn, layer, driver, as.character(dataset_options), :\n",
      "\"GDAL Message 1: Value 2279812231.56843567 of field area of feature 69 not successfully written. Possibly due to too larger number with respect to field width\"\n",
      "Warning message in CPL_write_ogr(obj, dsn, layer, driver, as.character(dataset_options), :\n",
      "\"GDAL Message 1: Value 3213447103.16800213 of field area of feature 70 not successfully written. Possibly due to too larger number with respect to field width\"\n",
      "Warning message in CPL_write_ogr(obj, dsn, layer, driver, as.character(dataset_options), :\n",
      "\"GDAL Message 1: Value 2157205080.49905825 of field area of feature 71 not successfully written. Possibly due to too larger number with respect to field width\"\n",
      "Warning message in CPL_write_ogr(obj, dsn, layer, driver, as.character(dataset_options), :\n",
      "\"GDAL Message 1: Value 2863440312.18640089 of field area of feature 72 not successfully written. Possibly due to too larger number with respect to field width\"\n",
      "Warning message in CPL_write_ogr(obj, dsn, layer, driver, as.character(dataset_options), :\n",
      "\"GDAL Message 1: Value 1424500458.89561582 of field area of feature 73 not successfully written. Possibly due to too larger number with respect to field width\"\n",
      "Warning message in CPL_write_ogr(obj, dsn, layer, driver, as.character(dataset_options), :\n",
      "\"GDAL Message 1: Value 1517436028.71631861 of field area of feature 74 not successfully written. Possibly due to too larger number with respect to field width\"\n",
      "Warning message in CPL_write_ogr(obj, dsn, layer, driver, as.character(dataset_options), :\n",
      "\"GDAL Message 1: Value 5954084221.66054058 of field area of feature 75 not successfully written. Possibly due to too larger number with respect to field width\"\n",
      "Warning message in CPL_write_ogr(obj, dsn, layer, driver, as.character(dataset_options), :\n",
      "\"GDAL Message 1: Value 2013433045.86660838 of field area of feature 76 not successfully written. Possibly due to too larger number with respect to field width\"\n"
     ]
    }
   ],
   "source": [
    "st_write(countymap, \n",
    "         dsn = \"C:/Users/77387/Desktop/Data_analysis_courses/R语言与地理信息处理/Chapter5/new/oktornadosum.shp\", \n",
    "         append = FALSE)"
   ]
  },
  {
   "cell_type": "markdown",
   "id": "4bd8ada8",
   "metadata": {},
   "source": [
    "##### 导出 gpkg， 这是一种轻量级的地理信息数据格式，数据存储在SQLite 数据库中"
   ]
  },
  {
   "cell_type": "code",
   "execution_count": 27,
   "id": "87212103",
   "metadata": {},
   "outputs": [
    {
     "name": "stdout",
     "output_type": "stream",
     "text": [
      "Deleting source `C:/Users/77387/Desktop/Data_analysis_courses/R璇█涓庡湴鐞嗕俊鎭鐞<86>/Chapter5/new/oktornado.gpkg' failed\n",
      "Writing layer `countysum' to data source \n",
      "  `C:/Users/77387/Desktop/Data_analysis_courses/R璇█涓庡湴鐞嗕俊鎭鐞<86>/Chapter5/new/oktornado.gpkg' using driver `GPKG'\n",
      "Writing 77 features with 10 fields and geometry type Polygon.\n"
     ]
    }
   ],
   "source": [
    "st_write(countymap, \n",
    "         dsn = \"C:/Users/77387/Desktop/Data_analysis_courses/R语言与地理信息处理/Chapter5/new/oktornado.gpkg\", \n",
    "         layer = \"countysum\",\n",
    "         delete_dsn = TRUE)"
   ]
  },
  {
   "cell_type": "markdown",
   "id": "b206fc73",
   "metadata": {},
   "source": [
    "##### 导出为 GeoJSON 数据"
   ]
  },
  {
   "cell_type": "code",
   "execution_count": 28,
   "id": "47869562",
   "metadata": {},
   "outputs": [
    {
     "name": "stdout",
     "output_type": "stream",
     "text": [
      "Writing layer `oktornado' to data source \n",
      "  `C:/Users/77387/Desktop/Data_analysis_courses/R璇█涓庡湴鐞嗕俊鎭鐞<86>/Chapter5/new/oktornado.geojson' using driver `GeoJSON'\n",
      "options:        RFC7946 = YES \n",
      "Writing 77 features with 10 fields and geometry type Polygon.\n"
     ]
    }
   ],
   "source": [
    "st_write(countymap, \"C:/Users/77387/Desktop/Data_analysis_courses/R语言与地理信息处理/Chapter5/new/oktornado.geojson\", \n",
    "         layer_options = \"RFC7946 = YES\") # \"RFC7946 = YES\"是最新的GeoJSON数据"
   ]
  },
  {
   "cell_type": "markdown",
   "id": "3054539c",
   "metadata": {},
   "source": [
    "### 地区分布图（等值图 choropleth map）"
   ]
  },
  {
   "cell_type": "code",
   "execution_count": 23,
   "id": "fc656072",
   "metadata": {},
   "outputs": [
    {
     "data": {
      "image/png": "[encoded data removed]",
      "text/plain": [
       "plot without title"
      ]
     },
     "metadata": {
      "image/png": {
       "height": 420,
       "width": 420
      }
     },
     "output_type": "display_data"
    }
   ],
   "source": [
    "ggplot(data = countymap) +\n",
    "  geom_sf(aes(fill = tdens)) +\n",
    "  theme_void()"
   ]
  },
  {
   "cell_type": "code",
   "execution_count": 29,
   "id": "052ac0b0",
   "metadata": {},
   "outputs": [
    {
     "data": {
      "text/html": [
       "POLYGON\n",
       "<details>\n",
       "\t<summary style=display:list-item;cursor:pointer>\n",
       "\t\t<strong>Levels</strong>:\n",
       "\t</summary>\n",
       "\t<style>\n",
       "\t.list-inline {list-style: none; margin:0; padding: 0}\n",
       "\t.list-inline>li {display: inline-block}\n",
       "\t.list-inline>li:not(:last-child)::after {content: \"\\00b7\"; padding: 0 .5ex}\n",
       "\t</style>\n",
       "\t<ol class=list-inline><li>'GEOMETRY'</li><li>'POINT'</li><li>'LINESTRING'</li><li>'POLYGON'</li><li>'MULTIPOINT'</li><li>'MULTILINESTRING'</li><li>'MULTIPOLYGON'</li><li>'GEOMETRYCOLLECTION'</li><li>'CIRCULARSTRING'</li><li>'COMPOUNDCURVE'</li><li>'CURVEPOLYGON'</li><li>'MULTICURVE'</li><li>'MULTISURFACE'</li><li>'CURVE'</li><li>'SURFACE'</li><li>'POLYHEDRALSURFACE'</li><li>'TIN'</li><li>'TRIANGLE'</li></ol>\n",
       "</details>"
      ],
      "text/latex": [
       "POLYGON\n",
       "\\emph{Levels}: \\begin{enumerate*}\n",
       "\\item 'GEOMETRY'\n",
       "\\item 'POINT'\n",
       "\\item 'LINESTRING'\n",
       "\\item 'POLYGON'\n",
       "\\item 'MULTIPOINT'\n",
       "\\item 'MULTILINESTRING'\n",
       "\\item 'MULTIPOLYGON'\n",
       "\\item 'GEOMETRYCOLLECTION'\n",
       "\\item 'CIRCULARSTRING'\n",
       "\\item 'COMPOUNDCURVE'\n",
       "\\item 'CURVEPOLYGON'\n",
       "\\item 'MULTICURVE'\n",
       "\\item 'MULTISURFACE'\n",
       "\\item 'CURVE'\n",
       "\\item 'SURFACE'\n",
       "\\item 'POLYHEDRALSURFACE'\n",
       "\\item 'TIN'\n",
       "\\item 'TRIANGLE'\n",
       "\\end{enumerate*}\n"
      ],
      "text/markdown": [
       "POLYGON\n",
       "**Levels**: 1. 'GEOMETRY'\n",
       "2. 'POINT'\n",
       "3. 'LINESTRING'\n",
       "4. 'POLYGON'\n",
       "5. 'MULTIPOINT'\n",
       "6. 'MULTILINESTRING'\n",
       "7. 'MULTIPOLYGON'\n",
       "8. 'GEOMETRYCOLLECTION'\n",
       "9. 'CIRCULARSTRING'\n",
       "10. 'COMPOUNDCURVE'\n",
       "11. 'CURVEPOLYGON'\n",
       "12. 'MULTICURVE'\n",
       "13. 'MULTISURFACE'\n",
       "14. 'CURVE'\n",
       "15. 'SURFACE'\n",
       "16. 'POLYHEDRALSURFACE'\n",
       "17. 'TIN'\n",
       "18. 'TRIANGLE'\n",
       "\n",
       "\n"
      ],
      "text/plain": [
       "[1] POLYGON\n",
       "18 Levels: GEOMETRY POINT LINESTRING POLYGON MULTIPOINT ... TRIANGLE"
      ]
     },
     "metadata": {},
     "output_type": "display_data"
    }
   ],
   "source": [
    "st_geometry_type(okcounty, by_geometry=FALSE) # 地理信息的几何类型？"
   ]
  },
  {
   "cell_type": "code",
   "execution_count": 25,
   "id": "a9209fdf",
   "metadata": {},
   "outputs": [
    {
     "name": "stderr",
     "output_type": "stream",
     "text": [
      "Warning message:\n",
      "\"st_centroid assumes attributes are constant over geometries\"\n"
     ]
    },
    {
     "data": {
      "text/html": [
       "POINT\n",
       "<details>\n",
       "\t<summary style=display:list-item;cursor:pointer>\n",
       "\t\t<strong>Levels</strong>:\n",
       "\t</summary>\n",
       "\t<style>\n",
       "\t.list-inline {list-style: none; margin:0; padding: 0}\n",
       "\t.list-inline>li {display: inline-block}\n",
       "\t.list-inline>li:not(:last-child)::after {content: \"\\00b7\"; padding: 0 .5ex}\n",
       "\t</style>\n",
       "\t<ol class=list-inline><li>'GEOMETRY'</li><li>'POINT'</li><li>'LINESTRING'</li><li>'POLYGON'</li><li>'MULTIPOINT'</li><li>'MULTILINESTRING'</li><li>'MULTIPOLYGON'</li><li>'GEOMETRYCOLLECTION'</li><li>'CIRCULARSTRING'</li><li>'COMPOUNDCURVE'</li><li>'CURVEPOLYGON'</li><li>'MULTICURVE'</li><li>'MULTISURFACE'</li><li>'CURVE'</li><li>'SURFACE'</li><li>'POLYHEDRALSURFACE'</li><li>'TIN'</li><li>'TRIANGLE'</li></ol>\n",
       "</details>"
      ],
      "text/latex": [
       "POINT\n",
       "\\emph{Levels}: \\begin{enumerate*}\n",
       "\\item 'GEOMETRY'\n",
       "\\item 'POINT'\n",
       "\\item 'LINESTRING'\n",
       "\\item 'POLYGON'\n",
       "\\item 'MULTIPOINT'\n",
       "\\item 'MULTILINESTRING'\n",
       "\\item 'MULTIPOLYGON'\n",
       "\\item 'GEOMETRYCOLLECTION'\n",
       "\\item 'CIRCULARSTRING'\n",
       "\\item 'COMPOUNDCURVE'\n",
       "\\item 'CURVEPOLYGON'\n",
       "\\item 'MULTICURVE'\n",
       "\\item 'MULTISURFACE'\n",
       "\\item 'CURVE'\n",
       "\\item 'SURFACE'\n",
       "\\item 'POLYHEDRALSURFACE'\n",
       "\\item 'TIN'\n",
       "\\item 'TRIANGLE'\n",
       "\\end{enumerate*}\n"
      ],
      "text/markdown": [
       "POINT\n",
       "**Levels**: 1. 'GEOMETRY'\n",
       "2. 'POINT'\n",
       "3. 'LINESTRING'\n",
       "4. 'POLYGON'\n",
       "5. 'MULTIPOINT'\n",
       "6. 'MULTILINESTRING'\n",
       "7. 'MULTIPOLYGON'\n",
       "8. 'GEOMETRYCOLLECTION'\n",
       "9. 'CIRCULARSTRING'\n",
       "10. 'COMPOUNDCURVE'\n",
       "11. 'CURVEPOLYGON'\n",
       "12. 'MULTICURVE'\n",
       "13. 'MULTISURFACE'\n",
       "14. 'CURVE'\n",
       "15. 'SURFACE'\n",
       "16. 'POLYHEDRALSURFACE'\n",
       "17. 'TIN'\n",
       "18. 'TRIANGLE'\n",
       "\n",
       "\n"
      ],
      "text/plain": [
       "[1] POINT\n",
       "18 Levels: GEOMETRY POINT LINESTRING POLYGON MULTIPOINT ... TRIANGLE"
      ]
     },
     "metadata": {},
     "output_type": "display_data"
    }
   ],
   "source": [
    "okcntrd = st_centroid(countymap) # st_centroid 生成每一个county的重心点\n",
    "st_geometry_type(okcntrd, by_geometry = FALSE) # 地理信息的几何类型？"
   ]
  },
  {
   "cell_type": "markdown",
   "id": "9cef37a0",
   "metadata": {},
   "source": [
    "##### 可视化"
   ]
  },
  {
   "cell_type": "code",
   "execution_count": 26,
   "id": "240a818f",
   "metadata": {},
   "outputs": [
    {
     "data": {
      "image/png": "[encoded data removed]",
      "text/plain": [
       "plot without title"
      ]
     },
     "metadata": {
      "image/png": {
       "height": 420,
       "width": 420
      }
     },
     "output_type": "display_data"
    }
   ],
   "source": [
    "ggplot() +\n",
    "  geom_sf(data = okcntrd, aes(size = tcnt)) + # 可视化点\n",
    "  geom_sf(data = okcounty, fill = NA) + #可视化polygon\n",
    "  theme_void()"
   ]
  },
  {
   "cell_type": "markdown",
   "id": "3b59966a",
   "metadata": {},
   "source": [
    "### 修改地图外观"
   ]
  },
  {
   "cell_type": "code",
   "execution_count": 27,
   "id": "3c974942",
   "metadata": {},
   "outputs": [
    {
     "data": {
      "image/png": "[encoded data removed]",
      "text/plain": [
       "plot without title"
      ]
     },
     "metadata": {
      "image/png": {
       "height": 420,
       "width": 420
      }
     },
     "output_type": "display_data"
    }
   ],
   "source": [
    "ggplot(data = countymap) +\n",
    "  geom_sf(aes(fill = tdens)) +\n",
    "  scale_fill_distiller(name = expression(\"Tornadoes/1000 km\"^2), \n",
    "                       palette = \"YlOrRd\", \n",
    "                       breaks = pretty_breaks(),\n",
    "                       direction = 1) +\n",
    "  theme_void() +\n",
    "  theme(legend.position = \"bottom\")"
   ]
  },
  {
   "cell_type": "code",
   "execution_count": 28,
   "id": "7bdf5434",
   "metadata": {},
   "outputs": [
    {
     "data": {
      "image/png": "[encoded data removed]",
      "text/plain": [
       "plot without title"
      ]
     },
     "metadata": {
      "image/png": {
       "height": 420,
       "width": 420
      }
     },
     "output_type": "display_data"
    }
   ],
   "source": [
    "display.brewer.all()"
   ]
  },
  {
   "cell_type": "code",
   "execution_count": 29,
   "id": "9720ff30",
   "metadata": {},
   "outputs": [
    {
     "data": {
      "image/png": "[encoded data removed]",
      "text/plain": [
       "plot without title"
      ]
     },
     "metadata": {
      "image/png": {
       "height": 420,
       "width": 420
      }
     },
     "output_type": "display_data"
    }
   ],
   "source": [
    "display.brewer.pal(5, \"YlGnBu\")"
   ]
  },
  {
   "cell_type": "code",
   "execution_count": 30,
   "id": "ed8a8734",
   "metadata": {},
   "outputs": [
    {
     "data": {
      "text/html": [
       "<style>\n",
       ".list-inline {list-style: none; margin:0; padding: 0}\n",
       ".list-inline>li {display: inline-block}\n",
       ".list-inline>li:not(:last-child)::after {content: \"\\00b7\"; padding: 0 .5ex}\n",
       "</style>\n",
       "<ol class=list-inline><li>0</li><li>0.25</li><li>0.5</li><li>0.75</li><li>1</li></ol>\n"
      ],
      "text/latex": [
       "\\begin{enumerate*}\n",
       "\\item 0\n",
       "\\item 0.25\n",
       "\\item 0.5\n",
       "\\item 0.75\n",
       "\\item 1\n",
       "\\end{enumerate*}\n"
      ],
      "text/markdown": [
       "1. 0\n",
       "2. 0.25\n",
       "3. 0.5\n",
       "4. 0.75\n",
       "5. 1\n",
       "\n",
       "\n"
      ],
      "text/plain": [
       "[1] 0.00 0.25 0.50 0.75 1.00"
      ]
     },
     "metadata": {},
     "output_type": "display_data"
    }
   ],
   "source": [
    "numclas <- 4\n",
    "qbrks <- seq(0, 1, length.out = numclas + 1)\n",
    "qbrks"
   ]
  },
  {
   "cell_type": "code",
   "execution_count": 35,
   "id": "e269093e",
   "metadata": {},
   "outputs": [],
   "source": [
    "countymap <- countymap %>%\n",
    "  mutate(tdens_c1 = cut(tdens,\n",
    "                        breaks = quantile(tdens, breaks = qbrks),\n",
    "                        include.lowest = T))"
   ]
  },
  {
   "cell_type": "code",
   "execution_count": 36,
   "id": "50e72f14",
   "metadata": {},
   "outputs": [
    {
     "data": {
      "image/png": "[encoded data removed]",
      "text/plain": [
       "plot without title"
      ]
     },
     "metadata": {
      "image/png": {
       "height": 420,
       "width": 420
      }
     },
     "output_type": "display_data"
    }
   ],
   "source": [
    "ggplot(data = countymap) +\n",
    "  geom_sf(aes(fill = tdens_c1)) +\n",
    "  scale_fill_brewer(name = expression(\"Tornadoes/1000 km\"^2),   \n",
    "                    palette = \"YlOrRd\") +\n",
    "  theme_void() +\n",
    "  theme(legend.position = \"bottom\") "
   ]
  },
  {
   "cell_type": "code",
   "execution_count": 37,
   "id": "10a0b5d0",
   "metadata": {},
   "outputs": [],
   "source": [
    "maxcnt <- max(okcntrd$tcnt)\n",
    "brkpts <- c(0, 2, 5, 10, maxcnt)\n",
    "okcntrd <- okcntrd %>%\n",
    "  mutate(tcnt_c1 = cut(tcnt,\n",
    "                        breaks = brkpts,\n",
    "                        include.lowest = T))"
   ]
  },
  {
   "cell_type": "code",
   "execution_count": 38,
   "id": "df9cab2f",
   "metadata": {},
   "outputs": [
    {
     "name": "stderr",
     "output_type": "stream",
     "text": [
      "Warning message:\n",
      "\"\u001b[1m\u001b[22mUsing \u001b[32msize\u001b[39m for a discrete variable is not advised.\"\n"
     ]
    },
    {
     "data": {
      "image/png": "[encoded data removed]",
      "text/plain": [
       "plot without title"
      ]
     },
     "metadata": {
      "image/png": {
       "height": 420,
       "width": 420
      }
     },
     "output_type": "display_data"
    }
   ],
   "source": [
    "ggplot(data = okcntrd) +\n",
    "  geom_sf(aes(size = tcnt_c1)) +\n",
    "  scale_size_discrete(name=\"Tornadoes\") +\n",
    "  geom_sf(data = okcounty, fill = NA) +\n",
    "  theme_void() +\n",
    "  theme(legend.position = \"bottom\")"
   ]
  },
  {
   "cell_type": "markdown",
   "id": "1b7b92a4",
   "metadata": {},
   "source": [
    "### 导出图"
   ]
  },
  {
   "cell_type": "code",
   "execution_count": 1,
   "id": "3cecdf7f",
   "metadata": {},
   "outputs": [],
   "source": [
    "ggsave(\"tornado.png\",  # 导出为 png\n",
    "       width = 6, \n",
    "       height = 4, \n",
    "       dpi = 300)  # 绘图分辨率. Also accepts a string input: \"retina\" (320), \"print\" (300), or \"screen\" (72). \n",
    "ggsave(\"tornado2.png\", \n",
    "       width = 15, \n",
    "       height = 10, \n",
    "       units = \"cm\", \n",
    "       dpi = 100)\n",
    "ggsave(\"tornado.jpeg\", \n",
    "       width = 6, \n",
    "       height = 4, \n",
    "       dpi = 300, \n",
    "       quality = 90)\n",
    "ggsave(\"tornado.tiff\", \n",
    "       width = 6, \n",
    "       height = 4, \n",
    "       dpi = 300, \n",
    "       compression = \"lzw\")\n",
    "ggsave(\"tornado.pdf\", \n",
    "       width = 6, \n",
    "       height = 4)"
   ]
  }
 ],
 "metadata": {
  "kernelspec": {
   "display_name": "R",
   "language": "R",
   "name": "ir"
  },
  "language_info": {
   "codemirror_mode": "r",
   "file_extension": ".r",
   "mimetype": "text/x-r-source",
   "name": "R",
   "pygments_lexer": "r",
   "version": "4.2.1"
  }
 },
 "nbformat": 4,
 "nbformat_minor": 5
}
